{
 "cells": [
  {
   "cell_type": "markdown",
   "metadata": {
    "collapsed": false
   },
   "source": [
    "Copyright © 2023, SAS Institute Inc., Cary, NC, USA.  All Rights Reserved.\n",
    "SPDX-License-Identifier: Apache-2.0"
   ]
  },
  {
   "cell_type": "markdown",
   "metadata": {
    "collapsed": false
   },
   "source": [
    "# Exams Dataset : Assess Bias of Regression Models\n",
    "\n",
    "This notebook provides an example of how to assess bias in python models using the exam dataset [^1].  The `assess_model_bias()` function featured in this notebook produces JSON files that can be uploaded into Model Manager on SAS Viya 4. Lines of code that must be modified by the user, such as directory paths or the host server are noted with the comment \"_Changes required by user._\"\n",
    "\n",
    "_**Note:** If you download only this notebook and not the rest of the repository, you must also download the exams.csv file from the data folder in the examples directory. These files are used when executing this notebook example._\n",
    "\n",
    "Here are the steps shown in this notebook:\n",
    "\n",
    "1. [Import Modules](#section_0)\n",
    "2. [Import, review, and preprocess data for model training.](#section_1)\n",
    "3. [Build, train, and assess a scikit-learn models.](#section_2)\n",
    "4. [Create score tables for models.](#section_3)\n",
    "5. [Call `assess_model_bias()` to create JSON files and return relevant data frames.](#section_4)\n",
    "6. [Review data frames from assess bias function and generate graphics similar to Model Studio.](#section_5)\n",
    "\n",
    "[^1]: source: http://roycekimmons.com/tools/generated_data/exams"
   ]
  },
  {
   "cell_type": "markdown",
   "metadata": {
    "collapsed": false
   },
   "source": [
    "<a id='section_0'></a>"
   ]
  },
  {
   "cell_type": "markdown",
   "metadata": {
    "collapsed": false
   },
   "source": [
    "## Import Modules"
   ]
  },
  {
   "cell_type": "code",
   "execution_count": 7,
   "metadata": {
    "ExecuteTime": {
     "end_time": "2023-07-18T19:13:13.962844400Z",
     "start_time": "2023-07-18T19:13:13.899053300Z"
    },
    "collapsed": false
   },
   "outputs": [],
   "source": [
    "from sasctl import Session\n",
    "import sasctl.pzmm as pzmm\n",
    "import pandas as pd\n",
    "from sklearn.model_selection import train_test_split\n",
    "from sklearn.linear_model import LinearRegression\n",
    "from sklearn.ensemble import GradientBoostingRegressor\n",
    "from sklearn.ensemble import RandomForestRegressor\n",
    "from sklearn.metrics import mean_squared_error\n",
    "from sklearn.metrics import mean_absolute_error\n",
    "from sklearn.metrics import r2_score\n",
    "import seaborn as sns\n",
    "import numpy as np\n",
    "from pathlib import Path\n",
    "import getpass\n",
    "import matplotlib.pyplot as plt"
   ]
  },
  {
   "cell_type": "markdown",
   "metadata": {
    "collapsed": false
   },
   "source": [
    "<a id='section_1'></a>"
   ]
  },
  {
   "cell_type": "markdown",
   "metadata": {
    "collapsed": false
   },
   "source": [
    "## Load, Assess, and Pre-process Data"
   ]
  },
  {
   "cell_type": "code",
   "execution_count": 8,
   "metadata": {
    "ExecuteTime": {
     "end_time": "2023-07-18T19:13:15.682403900Z",
     "start_time": "2023-07-18T19:13:15.454262700Z"
    },
    "collapsed": false
   },
   "outputs": [
    {
     "data": {
      "text/html": [
       "<div>\n",
       "<style scoped>\n",
       "    .dataframe tbody tr th:only-of-type {\n",
       "        vertical-align: middle;\n",
       "    }\n",
       "\n",
       "    .dataframe tbody tr th {\n",
       "        vertical-align: top;\n",
       "    }\n",
       "\n",
       "    .dataframe thead th {\n",
       "        text-align: right;\n",
       "    }\n",
       "</style>\n",
       "<table border=\"1\" class=\"dataframe\">\n",
       "  <thead>\n",
       "    <tr style=\"text-align: right;\">\n",
       "      <th></th>\n",
       "      <th>gender</th>\n",
       "      <th>race/ethnicity</th>\n",
       "      <th>parental level of education</th>\n",
       "      <th>lunch</th>\n",
       "      <th>test preparation course</th>\n",
       "      <th>math score</th>\n",
       "      <th>reading score</th>\n",
       "      <th>writing score</th>\n",
       "    </tr>\n",
       "  </thead>\n",
       "  <tbody>\n",
       "    <tr>\n",
       "      <th>0</th>\n",
       "      <td>male</td>\n",
       "      <td>group A</td>\n",
       "      <td>high school</td>\n",
       "      <td>standard</td>\n",
       "      <td>none</td>\n",
       "      <td>62</td>\n",
       "      <td>59</td>\n",
       "      <td>53</td>\n",
       "    </tr>\n",
       "    <tr>\n",
       "      <th>1</th>\n",
       "      <td>female</td>\n",
       "      <td>group E</td>\n",
       "      <td>some high school</td>\n",
       "      <td>free/reduced</td>\n",
       "      <td>completed</td>\n",
       "      <td>56</td>\n",
       "      <td>62</td>\n",
       "      <td>64</td>\n",
       "    </tr>\n",
       "    <tr>\n",
       "      <th>2</th>\n",
       "      <td>female</td>\n",
       "      <td>group E</td>\n",
       "      <td>some college</td>\n",
       "      <td>standard</td>\n",
       "      <td>completed</td>\n",
       "      <td>91</td>\n",
       "      <td>97</td>\n",
       "      <td>96</td>\n",
       "    </tr>\n",
       "    <tr>\n",
       "      <th>3</th>\n",
       "      <td>female</td>\n",
       "      <td>group D</td>\n",
       "      <td>some college</td>\n",
       "      <td>standard</td>\n",
       "      <td>completed</td>\n",
       "      <td>81</td>\n",
       "      <td>93</td>\n",
       "      <td>99</td>\n",
       "    </tr>\n",
       "    <tr>\n",
       "      <th>4</th>\n",
       "      <td>male</td>\n",
       "      <td>group E</td>\n",
       "      <td>associate's degree</td>\n",
       "      <td>free/reduced</td>\n",
       "      <td>none</td>\n",
       "      <td>73</td>\n",
       "      <td>62</td>\n",
       "      <td>57</td>\n",
       "    </tr>\n",
       "  </tbody>\n",
       "</table>\n",
       "</div>"
      ],
      "text/plain": [
       "   gender race/ethnicity parental level of education         lunch  \\\n",
       "0    male        group A                 high school      standard   \n",
       "1  female        group E            some high school  free/reduced   \n",
       "2  female        group E                some college      standard   \n",
       "3  female        group D                some college      standard   \n",
       "4    male        group E          associate's degree  free/reduced   \n",
       "\n",
       "  test preparation course  math score  reading score  writing score  \n",
       "0                    none          62             59             53  \n",
       "1               completed          56             62             64  \n",
       "2               completed          91             97             96  \n",
       "3               completed          81             93             99  \n",
       "4                    none          73             62             57  "
      ]
     },
     "execution_count": 8,
     "metadata": {},
     "output_type": "execute_result"
    }
   ],
   "source": [
    "df_raw = pd.read_csv(\"data/exams.csv\")\n",
    "df_raw.head()"
   ]
  },
  {
   "cell_type": "code",
   "execution_count": 9,
   "metadata": {
    "ExecuteTime": {
     "end_time": "2023-07-18T19:13:17.021562400Z",
     "start_time": "2023-07-18T19:13:15.778867800Z"
    },
    "collapsed": false
   },
   "outputs": [
    {
     "data": {
      "text/html": [
       "<div>\n",
       "<style scoped>\n",
       "    .dataframe tbody tr th:only-of-type {\n",
       "        vertical-align: middle;\n",
       "    }\n",
       "\n",
       "    .dataframe tbody tr th {\n",
       "        vertical-align: top;\n",
       "    }\n",
       "\n",
       "    .dataframe thead tr th {\n",
       "        text-align: left;\n",
       "    }\n",
       "\n",
       "    .dataframe thead tr:last-of-type th {\n",
       "        text-align: right;\n",
       "    }\n",
       "</style>\n",
       "<table border=\"1\" class=\"dataframe\">\n",
       "  <thead>\n",
       "    <tr>\n",
       "      <th></th>\n",
       "      <th colspan=\"8\" halign=\"left\">math score</th>\n",
       "    </tr>\n",
       "    <tr>\n",
       "      <th></th>\n",
       "      <th>count</th>\n",
       "      <th>mean</th>\n",
       "      <th>std</th>\n",
       "      <th>min</th>\n",
       "      <th>25%</th>\n",
       "      <th>50%</th>\n",
       "      <th>75%</th>\n",
       "      <th>max</th>\n",
       "    </tr>\n",
       "    <tr>\n",
       "      <th>race/ethnicity</th>\n",
       "      <th></th>\n",
       "      <th></th>\n",
       "      <th></th>\n",
       "      <th></th>\n",
       "      <th></th>\n",
       "      <th></th>\n",
       "      <th></th>\n",
       "      <th></th>\n",
       "    </tr>\n",
       "  </thead>\n",
       "  <tbody>\n",
       "    <tr>\n",
       "      <th>group A</th>\n",
       "      <td>62.0</td>\n",
       "      <td>67.387097</td>\n",
       "      <td>14.602217</td>\n",
       "      <td>33.0</td>\n",
       "      <td>57.25</td>\n",
       "      <td>69.0</td>\n",
       "      <td>78.75</td>\n",
       "      <td>100.0</td>\n",
       "    </tr>\n",
       "    <tr>\n",
       "      <th>group B</th>\n",
       "      <td>199.0</td>\n",
       "      <td>63.738693</td>\n",
       "      <td>16.392042</td>\n",
       "      <td>24.0</td>\n",
       "      <td>53.00</td>\n",
       "      <td>64.0</td>\n",
       "      <td>76.00</td>\n",
       "      <td>96.0</td>\n",
       "    </tr>\n",
       "    <tr>\n",
       "      <th>group C</th>\n",
       "      <td>342.0</td>\n",
       "      <td>64.909357</td>\n",
       "      <td>14.419377</td>\n",
       "      <td>19.0</td>\n",
       "      <td>56.00</td>\n",
       "      <td>66.0</td>\n",
       "      <td>74.00</td>\n",
       "      <td>100.0</td>\n",
       "    </tr>\n",
       "    <tr>\n",
       "      <th>group D</th>\n",
       "      <td>245.0</td>\n",
       "      <td>67.987755</td>\n",
       "      <td>14.207329</td>\n",
       "      <td>24.0</td>\n",
       "      <td>58.00</td>\n",
       "      <td>67.0</td>\n",
       "      <td>78.00</td>\n",
       "      <td>100.0</td>\n",
       "    </tr>\n",
       "    <tr>\n",
       "      <th>group E</th>\n",
       "      <td>152.0</td>\n",
       "      <td>76.578947</td>\n",
       "      <td>14.315983</td>\n",
       "      <td>40.0</td>\n",
       "      <td>67.00</td>\n",
       "      <td>77.0</td>\n",
       "      <td>87.25</td>\n",
       "      <td>100.0</td>\n",
       "    </tr>\n",
       "  </tbody>\n",
       "</table>\n",
       "</div>"
      ],
      "text/plain": [
       "               math score                                                  \\\n",
       "                    count       mean        std   min    25%   50%    75%   \n",
       "race/ethnicity                                                              \n",
       "group A              62.0  67.387097  14.602217  33.0  57.25  69.0  78.75   \n",
       "group B             199.0  63.738693  16.392042  24.0  53.00  64.0  76.00   \n",
       "group C             342.0  64.909357  14.419377  19.0  56.00  66.0  74.00   \n",
       "group D             245.0  67.987755  14.207329  24.0  58.00  67.0  78.00   \n",
       "group E             152.0  76.578947  14.315983  40.0  67.00  77.0  87.25   \n",
       "\n",
       "                       \n",
       "                  max  \n",
       "race/ethnicity         \n",
       "group A         100.0  \n",
       "group B          96.0  \n",
       "group C         100.0  \n",
       "group D         100.0  \n",
       "group E         100.0  "
      ]
     },
     "execution_count": 9,
     "metadata": {},
     "output_type": "execute_result"
    },
    {
     "data": {
      "image/png": "[encoded data removed]",
      "text/plain": [
       "<Figure size 640x480 with 1 Axes>"
      ]
     },
     "metadata": {},
     "output_type": "display_data"
    }
   ],
   "source": [
    "sns.barplot(df_raw, x=\"race/ethnicity\", y=\"math score\")\n",
    "df_raw[[\"race/ethnicity\", \"math score\"]].groupby(\"race/ethnicity\").describe()"
   ]
  },
  {
   "cell_type": "code",
   "execution_count": 10,
   "metadata": {
    "ExecuteTime": {
     "end_time": "2023-07-18T19:13:17.169325900Z",
     "start_time": "2023-07-18T19:13:16.523559400Z"
    },
    "collapsed": false
   },
   "outputs": [
    {
     "data": {
      "text/html": [
       "<div>\n",
       "<style scoped>\n",
       "    .dataframe tbody tr th:only-of-type {\n",
       "        vertical-align: middle;\n",
       "    }\n",
       "\n",
       "    .dataframe tbody tr th {\n",
       "        vertical-align: top;\n",
       "    }\n",
       "\n",
       "    .dataframe thead tr th {\n",
       "        text-align: left;\n",
       "    }\n",
       "\n",
       "    .dataframe thead tr:last-of-type th {\n",
       "        text-align: right;\n",
       "    }\n",
       "</style>\n",
       "<table border=\"1\" class=\"dataframe\">\n",
       "  <thead>\n",
       "    <tr>\n",
       "      <th></th>\n",
       "      <th colspan=\"8\" halign=\"left\">math score</th>\n",
       "    </tr>\n",
       "    <tr>\n",
       "      <th></th>\n",
       "      <th>count</th>\n",
       "      <th>mean</th>\n",
       "      <th>std</th>\n",
       "      <th>min</th>\n",
       "      <th>25%</th>\n",
       "      <th>50%</th>\n",
       "      <th>75%</th>\n",
       "      <th>max</th>\n",
       "    </tr>\n",
       "    <tr>\n",
       "      <th>gender</th>\n",
       "      <th></th>\n",
       "      <th></th>\n",
       "      <th></th>\n",
       "      <th></th>\n",
       "      <th></th>\n",
       "      <th></th>\n",
       "      <th></th>\n",
       "      <th></th>\n",
       "    </tr>\n",
       "  </thead>\n",
       "  <tbody>\n",
       "    <tr>\n",
       "      <th>female</th>\n",
       "      <td>495.0</td>\n",
       "      <td>64.880808</td>\n",
       "      <td>14.911885</td>\n",
       "      <td>24.0</td>\n",
       "      <td>56.0</td>\n",
       "      <td>65.0</td>\n",
       "      <td>75.0</td>\n",
       "      <td>100.0</td>\n",
       "    </tr>\n",
       "    <tr>\n",
       "      <th>male</th>\n",
       "      <td>505.0</td>\n",
       "      <td>69.786139</td>\n",
       "      <td>15.373840</td>\n",
       "      <td>19.0</td>\n",
       "      <td>60.0</td>\n",
       "      <td>70.0</td>\n",
       "      <td>81.0</td>\n",
       "      <td>100.0</td>\n",
       "    </tr>\n",
       "  </tbody>\n",
       "</table>\n",
       "</div>"
      ],
      "text/plain": [
       "       math score                                                     \n",
       "            count       mean        std   min   25%   50%   75%    max\n",
       "gender                                                                \n",
       "female      495.0  64.880808  14.911885  24.0  56.0  65.0  75.0  100.0\n",
       "male        505.0  69.786139  15.373840  19.0  60.0  70.0  81.0  100.0"
      ]
     },
     "execution_count": 10,
     "metadata": {},
     "output_type": "execute_result"
    },
    {
     "data": {
      "image/png": "[encoded data removed]",
      "text/plain": [
       "<Figure size 640x480 with 1 Axes>"
      ]
     },
     "metadata": {},
     "output_type": "display_data"
    }
   ],
   "source": [
    "sns.barplot(df_raw, x=\"gender\", y=\"math score\")\n",
    "df_raw[[\"gender\", \"math score\"]].groupby(\"gender\").describe()"
   ]
  },
  {
   "cell_type": "code",
   "execution_count": 11,
   "metadata": {
    "ExecuteTime": {
     "end_time": "2023-07-18T19:13:17.342339500Z",
     "start_time": "2023-07-18T19:13:17.074870300Z"
    },
    "collapsed": false
   },
   "outputs": [
    {
     "data": {
      "text/html": [
       "<div>\n",
       "<style scoped>\n",
       "    .dataframe tbody tr th:only-of-type {\n",
       "        vertical-align: middle;\n",
       "    }\n",
       "\n",
       "    .dataframe tbody tr th {\n",
       "        vertical-align: top;\n",
       "    }\n",
       "\n",
       "    .dataframe thead th {\n",
       "        text-align: right;\n",
       "    }\n",
       "</style>\n",
       "<table border=\"1\" class=\"dataframe\">\n",
       "  <thead>\n",
       "    <tr style=\"text-align: right;\">\n",
       "      <th></th>\n",
       "      <th>math score</th>\n",
       "      <th>reading score</th>\n",
       "      <th>writing score</th>\n",
       "      <th>gender_male</th>\n",
       "      <th>race/ethnicity_group A</th>\n",
       "      <th>race/ethnicity_group B</th>\n",
       "      <th>race/ethnicity_group C</th>\n",
       "      <th>race/ethnicity_group D</th>\n",
       "      <th>parental level of education_associate's degree</th>\n",
       "      <th>parental level of education_bachelor's degree</th>\n",
       "      <th>parental level of education_high school</th>\n",
       "      <th>parental level of education_some college</th>\n",
       "      <th>parental level of education_some high school</th>\n",
       "      <th>lunch_free/reduced</th>\n",
       "      <th>test preparation course_none</th>\n",
       "    </tr>\n",
       "  </thead>\n",
       "  <tbody>\n",
       "    <tr>\n",
       "      <th>0</th>\n",
       "      <td>62</td>\n",
       "      <td>59</td>\n",
       "      <td>53</td>\n",
       "      <td>True</td>\n",
       "      <td>True</td>\n",
       "      <td>False</td>\n",
       "      <td>False</td>\n",
       "      <td>False</td>\n",
       "      <td>False</td>\n",
       "      <td>False</td>\n",
       "      <td>True</td>\n",
       "      <td>False</td>\n",
       "      <td>False</td>\n",
       "      <td>False</td>\n",
       "      <td>True</td>\n",
       "    </tr>\n",
       "    <tr>\n",
       "      <th>1</th>\n",
       "      <td>56</td>\n",
       "      <td>62</td>\n",
       "      <td>64</td>\n",
       "      <td>False</td>\n",
       "      <td>False</td>\n",
       "      <td>False</td>\n",
       "      <td>False</td>\n",
       "      <td>False</td>\n",
       "      <td>False</td>\n",
       "      <td>False</td>\n",
       "      <td>False</td>\n",
       "      <td>False</td>\n",
       "      <td>True</td>\n",
       "      <td>True</td>\n",
       "      <td>False</td>\n",
       "    </tr>\n",
       "    <tr>\n",
       "      <th>2</th>\n",
       "      <td>91</td>\n",
       "      <td>97</td>\n",
       "      <td>96</td>\n",
       "      <td>False</td>\n",
       "      <td>False</td>\n",
       "      <td>False</td>\n",
       "      <td>False</td>\n",
       "      <td>False</td>\n",
       "      <td>False</td>\n",
       "      <td>False</td>\n",
       "      <td>False</td>\n",
       "      <td>True</td>\n",
       "      <td>False</td>\n",
       "      <td>False</td>\n",
       "      <td>False</td>\n",
       "    </tr>\n",
       "    <tr>\n",
       "      <th>3</th>\n",
       "      <td>81</td>\n",
       "      <td>93</td>\n",
       "      <td>99</td>\n",
       "      <td>False</td>\n",
       "      <td>False</td>\n",
       "      <td>False</td>\n",
       "      <td>False</td>\n",
       "      <td>True</td>\n",
       "      <td>False</td>\n",
       "      <td>False</td>\n",
       "      <td>False</td>\n",
       "      <td>True</td>\n",
       "      <td>False</td>\n",
       "      <td>False</td>\n",
       "      <td>False</td>\n",
       "    </tr>\n",
       "    <tr>\n",
       "      <th>4</th>\n",
       "      <td>73</td>\n",
       "      <td>62</td>\n",
       "      <td>57</td>\n",
       "      <td>True</td>\n",
       "      <td>False</td>\n",
       "      <td>False</td>\n",
       "      <td>False</td>\n",
       "      <td>False</td>\n",
       "      <td>True</td>\n",
       "      <td>False</td>\n",
       "      <td>False</td>\n",
       "      <td>False</td>\n",
       "      <td>False</td>\n",
       "      <td>True</td>\n",
       "      <td>True</td>\n",
       "    </tr>\n",
       "  </tbody>\n",
       "</table>\n",
       "</div>"
      ],
      "text/plain": [
       "   math score  reading score  writing score  gender_male  \\\n",
       "0          62             59             53         True   \n",
       "1          56             62             64        False   \n",
       "2          91             97             96        False   \n",
       "3          81             93             99        False   \n",
       "4          73             62             57         True   \n",
       "\n",
       "   race/ethnicity_group A  race/ethnicity_group B  race/ethnicity_group C  \\\n",
       "0                    True                   False                   False   \n",
       "1                   False                   False                   False   \n",
       "2                   False                   False                   False   \n",
       "3                   False                   False                   False   \n",
       "4                   False                   False                   False   \n",
       "\n",
       "   race/ethnicity_group D  parental level of education_associate's degree  \\\n",
       "0                   False                                           False   \n",
       "1                   False                                           False   \n",
       "2                   False                                           False   \n",
       "3                    True                                           False   \n",
       "4                   False                                            True   \n",
       "\n",
       "   parental level of education_bachelor's degree  \\\n",
       "0                                          False   \n",
       "1                                          False   \n",
       "2                                          False   \n",
       "3                                          False   \n",
       "4                                          False   \n",
       "\n",
       "   parental level of education_high school  \\\n",
       "0                                     True   \n",
       "1                                    False   \n",
       "2                                    False   \n",
       "3                                    False   \n",
       "4                                    False   \n",
       "\n",
       "   parental level of education_some college  \\\n",
       "0                                     False   \n",
       "1                                     False   \n",
       "2                                      True   \n",
       "3                                      True   \n",
       "4                                     False   \n",
       "\n",
       "   parental level of education_some high school  lunch_free/reduced  \\\n",
       "0                                         False               False   \n",
       "1                                          True                True   \n",
       "2                                         False               False   \n",
       "3                                         False               False   \n",
       "4                                         False                True   \n",
       "\n",
       "   test preparation course_none  \n",
       "0                          True  \n",
       "1                         False  \n",
       "2                         False  \n",
       "3                         False  \n",
       "4                          True  "
      ]
     },
     "execution_count": 11,
     "metadata": {},
     "output_type": "execute_result"
    }
   ],
   "source": [
    "df = df_raw.dropna()\n",
    "df = pd.get_dummies(\n",
    "    df,\n",
    "    columns=df.drop([\"math score\", \"reading score\", \"writing score\"], axis=1).columns,\n",
    ")\n",
    "df = df.drop(\n",
    "    [\n",
    "        \"gender_female\",\n",
    "        \"race/ethnicity_group E\",\n",
    "        \"parental level of education_master's degree\",\n",
    "        \"lunch_standard\",\n",
    "        \"test preparation course_completed\",\n",
    "    ],\n",
    "    axis=1,\n",
    ")\n",
    "df.head()"
   ]
  },
  {
   "cell_type": "code",
   "execution_count": 12,
   "metadata": {
    "ExecuteTime": {
     "end_time": "2023-07-18T19:13:17.342339500Z",
     "start_time": "2023-07-18T19:13:17.121651300Z"
    },
    "collapsed": false
   },
   "outputs": [],
   "source": [
    "new_cols = []\n",
    "for col in df.columns:\n",
    "    col = col.replace(\"/\", \"\")\n",
    "    col = col.replace(\" \", \"_\")\n",
    "    col = col.replace(\"'\", \"\")\n",
    "    new_cols.append(col)\n",
    "\n",
    "df.columns = new_cols"
   ]
  },
  {
   "cell_type": "code",
   "execution_count": 13,
   "metadata": {
    "ExecuteTime": {
     "end_time": "2023-07-18T19:13:17.342339500Z",
     "start_time": "2023-07-18T19:13:17.137762900Z"
    },
    "collapsed": false
   },
   "outputs": [
    {
     "data": {
      "text/plain": [
       "Index(['math_score', 'reading_score', 'writing_score', 'gender_male',\n",
       "       'raceethnicity_group_A', 'raceethnicity_group_B',\n",
       "       'raceethnicity_group_C', 'raceethnicity_group_D',\n",
       "       'parental_level_of_education_associates_degree',\n",
       "       'parental_level_of_education_bachelors_degree',\n",
       "       'parental_level_of_education_high_school',\n",
       "       'parental_level_of_education_some_college',\n",
       "       'parental_level_of_education_some_high_school', 'lunch_freereduced',\n",
       "       'test_preparation_course_none'],\n",
       "      dtype='object')"
      ]
     },
     "execution_count": 13,
     "metadata": {},
     "output_type": "execute_result"
    }
   ],
   "source": [
    "df.columns"
   ]
  },
  {
   "cell_type": "markdown",
   "metadata": {
    "collapsed": false
   },
   "source": [
    "<a id='section_2'></a>"
   ]
  },
  {
   "cell_type": "markdown",
   "metadata": {
    "collapsed": false
   },
   "source": [
    "## Train and Assess Python Models"
   ]
  },
  {
   "cell_type": "code",
   "execution_count": 14,
   "metadata": {
    "ExecuteTime": {
     "end_time": "2023-07-18T19:13:22.305796800Z",
     "start_time": "2023-07-18T19:13:22.273569600Z"
    },
    "collapsed": false
   },
   "outputs": [],
   "source": [
    "target = \"math_score\"\n",
    "features = df.drop(target, axis=1).columns\n",
    "\n",
    "# train python models #\n",
    "X_train, X_test, Y_train, Y_test = train_test_split(\n",
    "    df[features], df[target], train_size=0.7, test_size=0.3, random_state=42\n",
    ")"
   ]
  },
  {
   "cell_type": "code",
   "execution_count": 15,
   "metadata": {
    "ExecuteTime": {
     "end_time": "2023-07-18T19:13:23.683505Z",
     "start_time": "2023-07-18T19:13:22.513478Z"
    },
    "collapsed": false
   },
   "outputs": [
    {
     "data": {
      "text/html": [
       "<style>#sk-container-id-1 {color: black;background-color: white;}#sk-container-id-1 pre{padding: 0;}#sk-container-id-1 div.sk-toggleable {background-color: white;}#sk-container-id-1 label.sk-toggleable__label {cursor: pointer;display: block;width: 100%;margin-bottom: 0;padding: 0.3em;box-sizing: border-box;text-align: center;}#sk-container-id-1 label.sk-toggleable__label-arrow:before {content: \"▸\";float: left;margin-right: 0.25em;color: #696969;}#sk-container-id-1 label.sk-toggleable__label-arrow:hover:before {color: black;}#sk-container-id-1 div.sk-estimator:hover label.sk-toggleable__label-arrow:before {color: black;}#sk-container-id-1 div.sk-toggleable__content {max-height: 0;max-width: 0;overflow: hidden;text-align: left;background-color: #f0f8ff;}#sk-container-id-1 div.sk-toggleable__content pre {margin: 0.2em;color: black;border-radius: 0.25em;background-color: #f0f8ff;}#sk-container-id-1 input.sk-toggleable__control:checked~div.sk-toggleable__content {max-height: 200px;max-width: 100%;overflow: auto;}#sk-container-id-1 input.sk-toggleable__control:checked~label.sk-toggleable__label-arrow:before {content: \"▾\";}#sk-container-id-1 div.sk-estimator input.sk-toggleable__control:checked~label.sk-toggleable__label {background-color: #d4ebff;}#sk-container-id-1 div.sk-label input.sk-toggleable__control:checked~label.sk-toggleable__label {background-color: #d4ebff;}#sk-container-id-1 input.sk-hidden--visually {border: 0;clip: rect(1px 1px 1px 1px);clip: rect(1px, 1px, 1px, 1px);height: 1px;margin: -1px;overflow: hidden;padding: 0;position: absolute;width: 1px;}#sk-container-id-1 div.sk-estimator {font-family: monospace;background-color: #f0f8ff;border: 1px dotted black;border-radius: 0.25em;box-sizing: border-box;margin-bottom: 0.5em;}#sk-container-id-1 div.sk-estimator:hover {background-color: #d4ebff;}#sk-container-id-1 div.sk-parallel-item::after {content: \"\";width: 100%;border-bottom: 1px solid gray;flex-grow: 1;}#sk-container-id-1 div.sk-label:hover label.sk-toggleable__label {background-color: #d4ebff;}#sk-container-id-1 div.sk-serial::before {content: \"\";position: absolute;border-left: 1px solid gray;box-sizing: border-box;top: 0;bottom: 0;left: 50%;z-index: 0;}#sk-container-id-1 div.sk-serial {display: flex;flex-direction: column;align-items: center;background-color: white;padding-right: 0.2em;padding-left: 0.2em;position: relative;}#sk-container-id-1 div.sk-item {position: relative;z-index: 1;}#sk-container-id-1 div.sk-parallel {display: flex;align-items: stretch;justify-content: center;background-color: white;position: relative;}#sk-container-id-1 div.sk-item::before, #sk-container-id-1 div.sk-parallel-item::before {content: \"\";position: absolute;border-left: 1px solid gray;box-sizing: border-box;top: 0;bottom: 0;left: 50%;z-index: -1;}#sk-container-id-1 div.sk-parallel-item {display: flex;flex-direction: column;z-index: 1;position: relative;background-color: white;}#sk-container-id-1 div.sk-parallel-item:first-child::after {align-self: flex-end;width: 50%;}#sk-container-id-1 div.sk-parallel-item:last-child::after {align-self: flex-start;width: 50%;}#sk-container-id-1 div.sk-parallel-item:only-child::after {width: 0;}#sk-container-id-1 div.sk-dashed-wrapped {border: 1px dashed gray;margin: 0 0.4em 0.5em 0.4em;box-sizing: border-box;padding-bottom: 0.4em;background-color: white;}#sk-container-id-1 div.sk-label label {font-family: monospace;font-weight: bold;display: inline-block;line-height: 1.2em;}#sk-container-id-1 div.sk-label-container {text-align: center;}#sk-container-id-1 div.sk-container {/* jupyter's `normalize.less` sets `[hidden] { display: none; }` but bootstrap.min.css set `[hidden] { display: none !important; }` so we also need the `!important` here to be able to override the default hidden behavior on the sphinx rendered scikit-learn.org. See: https://github.com/scikit-learn/scikit-learn/issues/21755 */display: inline-block !important;position: relative;}#sk-container-id-1 div.sk-text-repr-fallback {display: none;}</style><div id=\"sk-container-id-1\" class=\"sk-top-container\"><div class=\"sk-text-repr-fallback\"><pre>GradientBoostingRegressor(random_state=42)</pre><b>In a Jupyter environment, please rerun this cell to show the HTML representation or trust the notebook. <br />On GitHub, the HTML representation is unable to render, please try loading this page with nbviewer.org.</b></div><div class=\"sk-container\" hidden><div class=\"sk-item\"><div class=\"sk-estimator sk-toggleable\"><input class=\"sk-toggleable__control sk-hidden--visually\" id=\"sk-estimator-id-1\" type=\"checkbox\" checked><label for=\"sk-estimator-id-1\" class=\"sk-toggleable__label sk-toggleable__label-arrow\">GradientBoostingRegressor</label><div class=\"sk-toggleable__content\"><pre>GradientBoostingRegressor(random_state=42)</pre></div></div></div></div></div>"
      ],
      "text/plain": [
       "GradientBoostingRegressor(random_state=42)"
      ]
     },
     "execution_count": 15,
     "metadata": {},
     "output_type": "execute_result"
    }
   ],
   "source": [
    "lr = LinearRegression()\n",
    "rfr = RandomForestRegressor(random_state=42)\n",
    "gbr = GradientBoostingRegressor(random_state=42)\n",
    "\n",
    "lr.fit(X_train, Y_train)\n",
    "rfr.fit(X_train, Y_train)\n",
    "gbr.fit(X_train, Y_train)"
   ]
  },
  {
   "cell_type": "code",
   "execution_count": 16,
   "metadata": {
    "ExecuteTime": {
     "end_time": "2023-07-18T19:13:23.746289Z",
     "start_time": "2023-07-18T19:13:23.452540400Z"
    },
    "collapsed": false
   },
   "outputs": [],
   "source": [
    "def sort_feature_importance(model, data):\n",
    "    features = {}\n",
    "    for importance, name in sorted(\n",
    "        zip(model.feature_importances_, data.columns), reverse=True\n",
    "    ):\n",
    "        features[name] = str(np.round(importance * 100, 2)) + \"%\"\n",
    "    return features"
   ]
  },
  {
   "cell_type": "code",
   "execution_count": 17,
   "metadata": {
    "ExecuteTime": {
     "end_time": "2023-07-18T19:13:23.916954300Z",
     "start_time": "2023-07-18T19:13:23.468499200Z"
    },
    "collapsed": false
   },
   "outputs": [
    {
     "data": {
      "text/html": [
       "<div>\n",
       "<style scoped>\n",
       "    .dataframe tbody tr th:only-of-type {\n",
       "        vertical-align: middle;\n",
       "    }\n",
       "\n",
       "    .dataframe tbody tr th {\n",
       "        vertical-align: top;\n",
       "    }\n",
       "\n",
       "    .dataframe thead th {\n",
       "        text-align: right;\n",
       "    }\n",
       "</style>\n",
       "<table border=\"1\" class=\"dataframe\">\n",
       "  <thead>\n",
       "    <tr style=\"text-align: right;\">\n",
       "      <th></th>\n",
       "      <th>RandomForest</th>\n",
       "      <th>GradientBoosting</th>\n",
       "    </tr>\n",
       "  </thead>\n",
       "  <tbody>\n",
       "    <tr>\n",
       "      <th>reading_score</th>\n",
       "      <td>63.15%</td>\n",
       "      <td>44.4%</td>\n",
       "    </tr>\n",
       "    <tr>\n",
       "      <th>writing_score</th>\n",
       "      <td>19.72%</td>\n",
       "      <td>37.32%</td>\n",
       "    </tr>\n",
       "    <tr>\n",
       "      <th>gender_male</th>\n",
       "      <td>9.92%</td>\n",
       "      <td>13.88%</td>\n",
       "    </tr>\n",
       "    <tr>\n",
       "      <th>test_preparation_course_none</th>\n",
       "      <td>1.24%</td>\n",
       "      <td>0.75%</td>\n",
       "    </tr>\n",
       "    <tr>\n",
       "      <th>lunch_freereduced</th>\n",
       "      <td>1.19%</td>\n",
       "      <td>1.56%</td>\n",
       "    </tr>\n",
       "    <tr>\n",
       "      <th>raceethnicity_group_C</th>\n",
       "      <td>0.75%</td>\n",
       "      <td>0.5%</td>\n",
       "    </tr>\n",
       "    <tr>\n",
       "      <th>parental_level_of_education_high_school</th>\n",
       "      <td>0.67%</td>\n",
       "      <td>0.11%</td>\n",
       "    </tr>\n",
       "    <tr>\n",
       "      <th>parental_level_of_education_associates_degree</th>\n",
       "      <td>0.59%</td>\n",
       "      <td>0.18%</td>\n",
       "    </tr>\n",
       "    <tr>\n",
       "      <th>raceethnicity_group_D</th>\n",
       "      <td>0.59%</td>\n",
       "      <td>0.36%</td>\n",
       "    </tr>\n",
       "    <tr>\n",
       "      <th>raceethnicity_group_B</th>\n",
       "      <td>0.52%</td>\n",
       "      <td>0.4%</td>\n",
       "    </tr>\n",
       "    <tr>\n",
       "      <th>parental_level_of_education_some_high_school</th>\n",
       "      <td>0.51%</td>\n",
       "      <td>0.19%</td>\n",
       "    </tr>\n",
       "    <tr>\n",
       "      <th>parental_level_of_education_some_college</th>\n",
       "      <td>0.48%</td>\n",
       "      <td>0.02%</td>\n",
       "    </tr>\n",
       "    <tr>\n",
       "      <th>parental_level_of_education_bachelors_degree</th>\n",
       "      <td>0.33%</td>\n",
       "      <td>0.08%</td>\n",
       "    </tr>\n",
       "    <tr>\n",
       "      <th>raceethnicity_group_A</th>\n",
       "      <td>0.32%</td>\n",
       "      <td>0.25%</td>\n",
       "    </tr>\n",
       "  </tbody>\n",
       "</table>\n",
       "</div>"
      ],
      "text/plain": [
       "                                              RandomForest GradientBoosting\n",
       "reading_score                                       63.15%            44.4%\n",
       "writing_score                                       19.72%           37.32%\n",
       "gender_male                                          9.92%           13.88%\n",
       "test_preparation_course_none                         1.24%            0.75%\n",
       "lunch_freereduced                                    1.19%            1.56%\n",
       "raceethnicity_group_C                                0.75%             0.5%\n",
       "parental_level_of_education_high_school              0.67%            0.11%\n",
       "parental_level_of_education_associates_degree        0.59%            0.18%\n",
       "raceethnicity_group_D                                0.59%            0.36%\n",
       "raceethnicity_group_B                                0.52%             0.4%\n",
       "parental_level_of_education_some_high_school         0.51%            0.19%\n",
       "parental_level_of_education_some_college             0.48%            0.02%\n",
       "parental_level_of_education_bachelors_degree         0.33%            0.08%\n",
       "raceethnicity_group_A                                0.32%            0.25%"
      ]
     },
     "execution_count": 17,
     "metadata": {},
     "output_type": "execute_result"
    }
   ],
   "source": [
    "importances = pd.DataFrame.from_dict(\n",
    "    sort_feature_importance(rfr, X_train), orient=\"index\"\n",
    ").rename(columns={0: \"RandomForest\"})\n",
    "importances[\"GradientBoosting\"] = pd.DataFrame.from_dict(\n",
    "    sort_feature_importance(gbr, X_train), orient=\"index\"\n",
    ")\n",
    "importances"
   ]
  },
  {
   "cell_type": "code",
   "execution_count": 18,
   "metadata": {
    "ExecuteTime": {
     "end_time": "2023-07-18T19:13:24.331777Z",
     "start_time": "2023-07-18T19:13:23.515812600Z"
    },
    "collapsed": false
   },
   "outputs": [
    {
     "data": {
      "text/html": [
       "<div>\n",
       "<style scoped>\n",
       "    .dataframe tbody tr th:only-of-type {\n",
       "        vertical-align: middle;\n",
       "    }\n",
       "\n",
       "    .dataframe tbody tr th {\n",
       "        vertical-align: top;\n",
       "    }\n",
       "\n",
       "    .dataframe thead th {\n",
       "        text-align: right;\n",
       "    }\n",
       "</style>\n",
       "<table border=\"1\" class=\"dataframe\">\n",
       "  <thead>\n",
       "    <tr style=\"text-align: right;\">\n",
       "      <th></th>\n",
       "      <th>MSE</th>\n",
       "      <th>MAE</th>\n",
       "      <th>RSQ</th>\n",
       "    </tr>\n",
       "  </thead>\n",
       "  <tbody>\n",
       "    <tr>\n",
       "      <th>LinearRegression</th>\n",
       "      <td>31.545118</td>\n",
       "      <td>4.548155</td>\n",
       "      <td>0.865483</td>\n",
       "    </tr>\n",
       "    <tr>\n",
       "      <th>RandomForest</th>\n",
       "      <td>40.655216</td>\n",
       "      <td>5.211450</td>\n",
       "      <td>0.826635</td>\n",
       "    </tr>\n",
       "    <tr>\n",
       "      <th>GradientBoost</th>\n",
       "      <td>32.999321</td>\n",
       "      <td>4.665781</td>\n",
       "      <td>0.859282</td>\n",
       "    </tr>\n",
       "  </tbody>\n",
       "</table>\n",
       "</div>"
      ],
      "text/plain": [
       "                        MSE       MAE       RSQ\n",
       "LinearRegression  31.545118  4.548155  0.865483\n",
       "RandomForest      40.655216  5.211450  0.826635\n",
       "GradientBoost     32.999321  4.665781  0.859282"
      ]
     },
     "execution_count": 18,
     "metadata": {},
     "output_type": "execute_result"
    }
   ],
   "source": [
    "metrics = {\n",
    "    \"LinearRegression\": {\n",
    "        \"MSE\": mean_squared_error(Y_test, lr.predict(X_test)),\n",
    "        \"MAE\": mean_absolute_error(Y_test, lr.predict(X_test)),\n",
    "        \"RSQ\": r2_score(Y_test, lr.predict(X_test)),\n",
    "    },\n",
    "    \"RandomForest\": {\n",
    "        \"MSE\": mean_squared_error(Y_test, rfr.predict(X_test)),\n",
    "        \"MAE\": mean_absolute_error(Y_test, rfr.predict(X_test)),\n",
    "        \"RSQ\": r2_score(Y_test, rfr.predict(X_test)),\n",
    "    },\n",
    "    \"GradientBoost\": {\n",
    "        \"MSE\": mean_squared_error(Y_test, gbr.predict(X_test)),\n",
    "        \"MAE\": mean_absolute_error(Y_test, gbr.predict(X_test)),\n",
    "        \"RSQ\": r2_score(Y_test, gbr.predict(X_test)),\n",
    "    },\n",
    "}\n",
    "\n",
    "pd.DataFrame(metrics).transpose()"
   ]
  },
  {
   "cell_type": "markdown",
   "metadata": {
    "collapsed": false
   },
   "source": [
    "<a id='section_3'></a>"
   ]
  },
  {
   "cell_type": "markdown",
   "metadata": {
    "collapsed": false
   },
   "source": [
    "## Create Score Tables"
   ]
  },
  {
   "cell_type": "code",
   "execution_count": 20,
   "metadata": {
    "ExecuteTime": {
     "end_time": "2023-07-18T19:13:49.183613300Z",
     "start_time": "2023-07-18T19:13:49.060343800Z"
    },
    "collapsed": false
   },
   "outputs": [
    {
     "data": {
      "text/html": [
       "<div>\n",
       "<style scoped>\n",
       "    .dataframe tbody tr th:only-of-type {\n",
       "        vertical-align: middle;\n",
       "    }\n",
       "\n",
       "    .dataframe tbody tr th {\n",
       "        vertical-align: top;\n",
       "    }\n",
       "\n",
       "    .dataframe thead th {\n",
       "        text-align: right;\n",
       "    }\n",
       "</style>\n",
       "<table border=\"1\" class=\"dataframe\">\n",
       "  <thead>\n",
       "    <tr style=\"text-align: right;\">\n",
       "      <th></th>\n",
       "      <th>raceethnicity</th>\n",
       "    </tr>\n",
       "  </thead>\n",
       "  <tbody>\n",
       "    <tr>\n",
       "      <th>0</th>\n",
       "      <td>group_D</td>\n",
       "    </tr>\n",
       "    <tr>\n",
       "      <th>1</th>\n",
       "      <td>group_D</td>\n",
       "    </tr>\n",
       "    <tr>\n",
       "      <th>2</th>\n",
       "      <td>group_A</td>\n",
       "    </tr>\n",
       "    <tr>\n",
       "      <th>3</th>\n",
       "      <td>group_C</td>\n",
       "    </tr>\n",
       "    <tr>\n",
       "      <th>4</th>\n",
       "      <td>group_C</td>\n",
       "    </tr>\n",
       "  </tbody>\n",
       "</table>\n",
       "</div>"
      ],
      "text/plain": [
       "  raceethnicity\n",
       "0       group_D\n",
       "1       group_D\n",
       "2       group_A\n",
       "3       group_C\n",
       "4       group_C"
      ]
     },
     "execution_count": 20,
     "metadata": {},
     "output_type": "execute_result"
    }
   ],
   "source": [
    "# reconstructing race/ethnicity variable\n",
    "race = pd.from_dummies(\n",
    "    X_test[\n",
    "        [\n",
    "            \"raceethnicity_group_A\",\n",
    "            \"raceethnicity_group_B\",\n",
    "            \"raceethnicity_group_C\",\n",
    "            \"raceethnicity_group_D\",\n",
    "        ]\n",
    "    ],\n",
    "    sep=\"_\",\n",
    "    default_category={\"raceethnicity\": \"group_E\"},\n",
    ")\n",
    "race.head()"
   ]
  },
  {
   "cell_type": "code",
   "execution_count": null,
   "metadata": {
    "ExecuteTime": {
     "start_time": "2023-07-18T19:13:28.056653600Z"
    },
    "collapsed": false
   },
   "outputs": [],
   "source": [
    "# recreating gender variable\n",
    "gender = X_test[\"gender_male\"].apply(lambda x: \"male\" if x else \"female\")\n",
    "gender.head()"
   ]
  },
  {
   "cell_type": "code",
   "execution_count": null,
   "metadata": {
    "ExecuteTime": {
     "start_time": "2023-07-18T19:13:28.070551700Z"
    },
    "collapsed": false
   },
   "outputs": [],
   "source": [
    "def build_score_table(model):\n",
    "    score_data = {\n",
    "        \"Predicted_Math_Score\": model.predict(X_test),\n",
    "        \"Math_Score\": Y_test.to_numpy(),\n",
    "        \"Race\": race.to_numpy()[:, 0],\n",
    "        \"Gender\": gender,\n",
    "    }\n",
    "    data = pd.DataFrame(score_data)\n",
    "    return data"
   ]
  },
  {
   "cell_type": "code",
   "execution_count": null,
   "metadata": {
    "ExecuteTime": {
     "start_time": "2023-07-18T19:13:28.070551700Z"
    },
    "collapsed": false
   },
   "outputs": [],
   "source": [
    "score_tables = {\n",
    "    \"LinearRegression\": build_score_table(lr),\n",
    "    \"RandomForest\": build_score_table(rfr),\n",
    "    \"GradientBoost\": build_score_table(gbr),\n",
    "}"
   ]
  },
  {
   "cell_type": "code",
   "execution_count": null,
   "metadata": {
    "ExecuteTime": {
     "start_time": "2023-07-18T19:13:28.070551700Z"
    },
    "collapsed": false
   },
   "outputs": [],
   "source": [
    "for k, v in score_tables.items():\n",
    "    print(f\"{k} \\n {v.head()}\")"
   ]
  },
  {
   "cell_type": "markdown",
   "metadata": {
    "collapsed": false
   },
   "source": [
    "<a id='section_4'></a>"
   ]
  },
  {
   "cell_type": "markdown",
   "metadata": {
    "collapsed": false
   },
   "source": [
    "## Using `assess_model_bias()`"
   ]
  },
  {
   "cell_type": "code",
   "execution_count": null,
   "metadata": {
    "ExecuteTime": {
     "start_time": "2023-07-18T19:13:28.070551700Z"
    },
    "collapsed": false
   },
   "outputs": [],
   "source": [
    "# setting up environment\n",
    "hostname = \"\"\n",
    "username = input(\"Username: \")\n",
    "password = getpass.getpass(\"Password: \")  # changes required by user\n",
    "\n",
    "sess = Session(hostname, username, password, protocol=\"http\")"
   ]
  },
  {
   "cell_type": "code",
   "execution_count": null,
   "metadata": {
    "ExecuteTime": {
     "start_time": "2023-07-18T19:13:28.101073800Z"
    },
    "collapsed": false
   },
   "outputs": [],
   "source": [
    "# Model names within SAS Model Manager\n",
    "model_prefix = [\"LinearRegression\", \"RandomForest\", \"GradientBoost\"]\n",
    "# Directory location for the model files\n",
    "zip_folder = [\n",
    "    Path.cwd() / \"data/BiasMetrics/examModels/LinearRegression/\",\n",
    "    Path.cwd() / \"data/BiasMetrics/examModels/RandomForest/\",\n",
    "    Path.cwd() / \"data/BiasMetrics/examModels/GradientBoost\",\n",
    "]  # Changes required by user\n",
    "model = [lr, rfr, gbr]"
   ]
  },
  {
   "cell_type": "code",
   "execution_count": null,
   "metadata": {
    "ExecuteTime": {
     "end_time": "2023-07-07T13:48:15.988744800Z",
     "start_time": "2023-07-07T13:47:57.803618300Z"
    },
    "collapsed": false
   },
   "outputs": [],
   "source": [
    "# creating assess bias json files and getting dataframes\n",
    "assess_bias_dfs = {}\n",
    "\n",
    "for model, path in zip(model_prefix, zip_folder):\n",
    "    dfs = pzmm.JSONFiles.assess_model_bias(\n",
    "        score_table=score_tables[model],\n",
    "        actual_values=\"Math_Score\",  # variable for actual value in score table\n",
    "        sensitive_values=[\n",
    "            \"Race\",\n",
    "            \"Gender\",\n",
    "        ],  # variables for sensitive values in score table\n",
    "        pred_values=\"Predicted_Math_Score\",  # variable for predicted values in score table (regression)\n",
    "        json_path=path,  # directory for json files, optional\n",
    "        return_dataframes=True,  # returns group metrics, bias metrics, and max differences data frames, default is False\n",
    "    )\n",
    "\n",
    "    assess_bias_dfs[model] = dfs"
   ]
  },
  {
   "cell_type": "markdown",
   "metadata": {
    "collapsed": false
   },
   "source": [
    "<a id = 'section_5' > </a >"
   ]
  },
  {
   "cell_type": "markdown",
   "metadata": {
    "collapsed": false
   },
   "source": [
    "## Assess Model Bias Output"
   ]
  },
  {
   "cell_type": "markdown",
   "metadata": {
    "collapsed": false
   },
   "source": [
    "### Examples of the Data Frames"
   ]
  },
  {
   "cell_type": "code",
   "execution_count": 117,
   "metadata": {
    "ExecuteTime": {
     "end_time": "2023-07-07T13:48:16.004944100Z",
     "start_time": "2023-07-07T13:48:16.000802300Z"
    },
    "collapsed": false
   },
   "outputs": [
    {
     "data": {
      "text/html": [
       "<div>\n",
       "<style scoped>\n",
       "    .dataframe tbody tr th:only-of-type {\n",
       "        vertical-align: middle;\n",
       "    }\n",
       "\n",
       "    .dataframe tbody tr th {\n",
       "        vertical-align: top;\n",
       "    }\n",
       "\n",
       "    .dataframe thead th {\n",
       "        text-align: right;\n",
       "    }\n",
       "</style>\n",
       "<table border=\"1\" class=\"dataframe\">\n",
       "  <thead>\n",
       "    <tr style=\"text-align: right;\">\n",
       "      <th></th>\n",
       "      <th>LEVEL</th>\n",
       "      <th>Predicted_Math_Score</th>\n",
       "      <th>VLABEL</th>\n",
       "      <th>_DATAROLE_</th>\n",
       "      <th>_VARIABLE_</th>\n",
       "      <th>_ase_</th>\n",
       "      <th>_avgyhat_</th>\n",
       "      <th>_mae_</th>\n",
       "      <th>_msle_</th>\n",
       "      <th>_nobs_</th>\n",
       "      <th>_rase_</th>\n",
       "      <th>_rmae_</th>\n",
       "      <th>_rmsle_</th>\n",
       "    </tr>\n",
       "  </thead>\n",
       "  <tbody>\n",
       "    <tr>\n",
       "      <th>0</th>\n",
       "      <td>group_A</td>\n",
       "      <td>65.939598</td>\n",
       "      <td></td>\n",
       "      <td>TEST</td>\n",
       "      <td>Race</td>\n",
       "      <td>43.580554</td>\n",
       "      <td>65.939598</td>\n",
       "      <td>5.440171</td>\n",
       "      <td>0.009283</td>\n",
       "      <td>23.0</td>\n",
       "      <td>6.601557</td>\n",
       "      <td>2.332417</td>\n",
       "      <td>0.096346</td>\n",
       "    </tr>\n",
       "    <tr>\n",
       "      <th>1</th>\n",
       "      <td>group_B</td>\n",
       "      <td>65.635744</td>\n",
       "      <td></td>\n",
       "      <td>TEST</td>\n",
       "      <td>Race</td>\n",
       "      <td>38.598601</td>\n",
       "      <td>65.635744</td>\n",
       "      <td>5.097320</td>\n",
       "      <td>0.010109</td>\n",
       "      <td>55.0</td>\n",
       "      <td>6.212777</td>\n",
       "      <td>2.257725</td>\n",
       "      <td>0.100543</td>\n",
       "    </tr>\n",
       "    <tr>\n",
       "      <th>2</th>\n",
       "      <td>group_C</td>\n",
       "      <td>63.858842</td>\n",
       "      <td></td>\n",
       "      <td>TEST</td>\n",
       "      <td>Race</td>\n",
       "      <td>27.848870</td>\n",
       "      <td>63.858842</td>\n",
       "      <td>4.270016</td>\n",
       "      <td>0.008939</td>\n",
       "      <td>111.0</td>\n",
       "      <td>5.277203</td>\n",
       "      <td>2.066402</td>\n",
       "      <td>0.094544</td>\n",
       "    </tr>\n",
       "    <tr>\n",
       "      <th>3</th>\n",
       "      <td>group_D</td>\n",
       "      <td>68.684169</td>\n",
       "      <td></td>\n",
       "      <td>TEST</td>\n",
       "      <td>Race</td>\n",
       "      <td>28.578134</td>\n",
       "      <td>68.684169</td>\n",
       "      <td>4.249801</td>\n",
       "      <td>0.007391</td>\n",
       "      <td>77.0</td>\n",
       "      <td>5.345852</td>\n",
       "      <td>2.061505</td>\n",
       "      <td>0.085971</td>\n",
       "    </tr>\n",
       "    <tr>\n",
       "      <th>4</th>\n",
       "      <td>group_E</td>\n",
       "      <td>75.143961</td>\n",
       "      <td></td>\n",
       "      <td>TEST</td>\n",
       "      <td>Race</td>\n",
       "      <td>30.779962</td>\n",
       "      <td>75.143961</td>\n",
       "      <td>4.640106</td>\n",
       "      <td>0.005884</td>\n",
       "      <td>34.0</td>\n",
       "      <td>5.547969</td>\n",
       "      <td>2.154090</td>\n",
       "      <td>0.076708</td>\n",
       "    </tr>\n",
       "    <tr>\n",
       "      <th>0</th>\n",
       "      <td>female</td>\n",
       "      <td>65.049752</td>\n",
       "      <td></td>\n",
       "      <td>TEST</td>\n",
       "      <td>Gender</td>\n",
       "      <td>29.756506</td>\n",
       "      <td>65.049752</td>\n",
       "      <td>4.464487</td>\n",
       "      <td>0.007656</td>\n",
       "      <td>155.0</td>\n",
       "      <td>5.454952</td>\n",
       "      <td>2.112933</td>\n",
       "      <td>0.087499</td>\n",
       "    </tr>\n",
       "    <tr>\n",
       "      <th>1</th>\n",
       "      <td>male</td>\n",
       "      <td>68.798429</td>\n",
       "      <td></td>\n",
       "      <td>TEST</td>\n",
       "      <td>Gender</td>\n",
       "      <td>33.457083</td>\n",
       "      <td>68.798429</td>\n",
       "      <td>4.637594</td>\n",
       "      <td>0.009270</td>\n",
       "      <td>145.0</td>\n",
       "      <td>5.784210</td>\n",
       "      <td>2.153507</td>\n",
       "      <td>0.096281</td>\n",
       "    </tr>\n",
       "  </tbody>\n",
       "</table>\n",
       "</div>"
      ],
      "text/plain": [
       "     LEVEL  Predicted_Math_Score VLABEL _DATAROLE_ _VARIABLE_      _ase_  \\\n",
       "0  group_A             65.939598              TEST       Race  43.580554   \n",
       "1  group_B             65.635744              TEST       Race  38.598601   \n",
       "2  group_C             63.858842              TEST       Race  27.848870   \n",
       "3  group_D             68.684169              TEST       Race  28.578134   \n",
       "4  group_E             75.143961              TEST       Race  30.779962   \n",
       "0   female             65.049752              TEST     Gender  29.756506   \n",
       "1     male             68.798429              TEST     Gender  33.457083   \n",
       "\n",
       "   _avgyhat_     _mae_    _msle_  _nobs_    _rase_    _rmae_   _rmsle_  \n",
       "0  65.939598  5.440171  0.009283    23.0  6.601557  2.332417  0.096346  \n",
       "1  65.635744  5.097320  0.010109    55.0  6.212777  2.257725  0.100543  \n",
       "2  63.858842  4.270016  0.008939   111.0  5.277203  2.066402  0.094544  \n",
       "3  68.684169  4.249801  0.007391    77.0  5.345852  2.061505  0.085971  \n",
       "4  75.143961  4.640106  0.005884    34.0  5.547969  2.154090  0.076708  \n",
       "0  65.049752  4.464487  0.007656   155.0  5.454952  2.112933  0.087499  \n",
       "1  68.798429  4.637594  0.009270   145.0  5.784210  2.153507  0.096281  "
      ]
     },
     "execution_count": 117,
     "metadata": {},
     "output_type": "execute_result"
    }
   ],
   "source": [
    "assess_bias_dfs[\"LinearRegression\"][\"groupMetricsData\"].head(7)"
   ]
  },
  {
   "cell_type": "code",
   "execution_count": 118,
   "metadata": {
    "ExecuteTime": {
     "end_time": "2023-07-07T13:48:16.075438200Z",
     "start_time": "2023-07-07T13:48:16.006624800Z"
    },
    "collapsed": false
   },
   "outputs": [
    {
     "data": {
      "text/html": [
       "<div>\n",
       "<style scoped>\n",
       "    .dataframe tbody tr th:only-of-type {\n",
       "        vertical-align: middle;\n",
       "    }\n",
       "\n",
       "    .dataframe tbody tr th {\n",
       "        vertical-align: top;\n",
       "    }\n",
       "\n",
       "    .dataframe thead th {\n",
       "        text-align: right;\n",
       "    }\n",
       "</style>\n",
       "<table border=\"1\" class=\"dataframe\">\n",
       "  <thead>\n",
       "    <tr style=\"text-align: right;\">\n",
       "      <th></th>\n",
       "      <th>BASE</th>\n",
       "      <th>COMPARE</th>\n",
       "      <th>Metric</th>\n",
       "      <th>MetricLabel</th>\n",
       "      <th>VLABEL</th>\n",
       "      <th>_DATAROLE_</th>\n",
       "      <th>_VARIABLE_</th>\n",
       "      <th>maxdiff</th>\n",
       "    </tr>\n",
       "  </thead>\n",
       "  <tbody>\n",
       "    <tr>\n",
       "      <th>0</th>\n",
       "      <td>group_E</td>\n",
       "      <td>group_C</td>\n",
       "      <td>Predicted_Math_Score</td>\n",
       "      <td>Average Predicted_Math_Score</td>\n",
       "      <td></td>\n",
       "      <td>TEST</td>\n",
       "      <td>Race</td>\n",
       "      <td>11.285119</td>\n",
       "    </tr>\n",
       "    <tr>\n",
       "      <th>1</th>\n",
       "      <td>group_A</td>\n",
       "      <td>group_C</td>\n",
       "      <td>ASE</td>\n",
       "      <td>Average Square Error</td>\n",
       "      <td></td>\n",
       "      <td>TEST</td>\n",
       "      <td>Race</td>\n",
       "      <td>15.731684</td>\n",
       "    </tr>\n",
       "    <tr>\n",
       "      <th>2</th>\n",
       "      <td>group_A</td>\n",
       "      <td>group_C</td>\n",
       "      <td>RASE</td>\n",
       "      <td>Root Average Square Error</td>\n",
       "      <td></td>\n",
       "      <td>TEST</td>\n",
       "      <td>Race</td>\n",
       "      <td>1.324354</td>\n",
       "    </tr>\n",
       "  </tbody>\n",
       "</table>\n",
       "</div>"
      ],
      "text/plain": [
       "      BASE  COMPARE                Metric                   MetricLabel  \\\n",
       "0  group_E  group_C  Predicted_Math_Score  Average Predicted_Math_Score   \n",
       "1  group_A  group_C                   ASE          Average Square Error   \n",
       "2  group_A  group_C                  RASE     Root Average Square Error   \n",
       "\n",
       "  VLABEL _DATAROLE_ _VARIABLE_    maxdiff  \n",
       "0              TEST       Race  11.285119  \n",
       "1              TEST       Race  15.731684  \n",
       "2              TEST       Race   1.324354  "
      ]
     },
     "execution_count": 118,
     "metadata": {},
     "output_type": "execute_result"
    }
   ],
   "source": [
    "# race/ethnicity\n",
    "assess_bias_dfs[\"LinearRegression\"][\"maxDifferencesData\"].head(3)"
   ]
  },
  {
   "cell_type": "code",
   "execution_count": 119,
   "metadata": {
    "ExecuteTime": {
     "end_time": "2023-07-07T13:48:16.075438200Z",
     "start_time": "2023-07-07T13:48:16.024329200Z"
    },
    "collapsed": false
   },
   "outputs": [
    {
     "data": {
      "text/html": [
       "<div>\n",
       "<style scoped>\n",
       "    .dataframe tbody tr th:only-of-type {\n",
       "        vertical-align: middle;\n",
       "    }\n",
       "\n",
       "    .dataframe tbody tr th {\n",
       "        vertical-align: top;\n",
       "    }\n",
       "\n",
       "    .dataframe thead th {\n",
       "        text-align: right;\n",
       "    }\n",
       "</style>\n",
       "<table border=\"1\" class=\"dataframe\">\n",
       "  <thead>\n",
       "    <tr style=\"text-align: right;\">\n",
       "      <th></th>\n",
       "      <th>BASE</th>\n",
       "      <th>COMPARE</th>\n",
       "      <th>Metric</th>\n",
       "      <th>MetricLabel</th>\n",
       "      <th>VLABEL</th>\n",
       "      <th>_DATAROLE_</th>\n",
       "      <th>_VARIABLE_</th>\n",
       "      <th>maxdiff</th>\n",
       "    </tr>\n",
       "  </thead>\n",
       "  <tbody>\n",
       "    <tr>\n",
       "      <th>5</th>\n",
       "      <td>male</td>\n",
       "      <td>female</td>\n",
       "      <td>MSLE</td>\n",
       "      <td>Mean Square Logarithmic Error</td>\n",
       "      <td></td>\n",
       "      <td>TEST</td>\n",
       "      <td>Gender</td>\n",
       "      <td>0.001614</td>\n",
       "    </tr>\n",
       "    <tr>\n",
       "      <th>6</th>\n",
       "      <td>male</td>\n",
       "      <td>female</td>\n",
       "      <td>RMSLE</td>\n",
       "      <td>Root Mean Square Logarithmic Error</td>\n",
       "      <td></td>\n",
       "      <td>TEST</td>\n",
       "      <td>Gender</td>\n",
       "      <td>0.008782</td>\n",
       "    </tr>\n",
       "    <tr>\n",
       "      <th>7</th>\n",
       "      <td>male</td>\n",
       "      <td>female</td>\n",
       "      <td>PREDICTED</td>\n",
       "      <td>Average Prediction</td>\n",
       "      <td></td>\n",
       "      <td>TEST</td>\n",
       "      <td>Gender</td>\n",
       "      <td>3.748677</td>\n",
       "    </tr>\n",
       "  </tbody>\n",
       "</table>\n",
       "</div>"
      ],
      "text/plain": [
       "   BASE COMPARE     Metric                         MetricLabel VLABEL  \\\n",
       "5  male  female       MSLE       Mean Square Logarithmic Error          \n",
       "6  male  female      RMSLE  Root Mean Square Logarithmic Error          \n",
       "7  male  female  PREDICTED                  Average Prediction          \n",
       "\n",
       "  _DATAROLE_ _VARIABLE_   maxdiff  \n",
       "5       TEST     Gender  0.001614  \n",
       "6       TEST     Gender  0.008782  \n",
       "7       TEST     Gender  3.748677  "
      ]
     },
     "execution_count": 119,
     "metadata": {},
     "output_type": "execute_result"
    }
   ],
   "source": [
    "# gender\n",
    "assess_bias_dfs[\"LinearRegression\"][\"maxDifferencesData\"].tail(3)"
   ]
  },
  {
   "cell_type": "code",
   "execution_count": 120,
   "metadata": {
    "ExecuteTime": {
     "end_time": "2023-07-07T13:48:16.075438200Z",
     "start_time": "2023-07-07T13:48:16.035682500Z"
    },
    "collapsed": false
   },
   "outputs": [
    {
     "data": {
      "text/html": [
       "<div>\n",
       "<style scoped>\n",
       "    .dataframe tbody tr th:only-of-type {\n",
       "        vertical-align: middle;\n",
       "    }\n",
       "\n",
       "    .dataframe tbody tr th {\n",
       "        vertical-align: top;\n",
       "    }\n",
       "\n",
       "    .dataframe thead th {\n",
       "        text-align: right;\n",
       "    }\n",
       "</style>\n",
       "<table border=\"1\" class=\"dataframe\">\n",
       "  <thead>\n",
       "    <tr style=\"text-align: right;\">\n",
       "      <th></th>\n",
       "      <th>Metric</th>\n",
       "      <th>MetricLabel</th>\n",
       "      <th>Value</th>\n",
       "      <th>Base</th>\n",
       "      <th>Compare</th>\n",
       "      <th>Note</th>\n",
       "      <th>_VARIABLE_</th>\n",
       "    </tr>\n",
       "  </thead>\n",
       "  <tbody>\n",
       "    <tr>\n",
       "      <th>0</th>\n",
       "      <td>PredictiveParity</td>\n",
       "      <td>Predictive Parity</td>\n",
       "      <td>11.285119</td>\n",
       "      <td>group_E</td>\n",
       "      <td>group_C</td>\n",
       "      <td></td>\n",
       "      <td>Race</td>\n",
       "    </tr>\n",
       "    <tr>\n",
       "      <th>0</th>\n",
       "      <td>PredictiveParity</td>\n",
       "      <td>Predictive Parity</td>\n",
       "      <td>3.748677</td>\n",
       "      <td>male</td>\n",
       "      <td>female</td>\n",
       "      <td></td>\n",
       "      <td>Gender</td>\n",
       "    </tr>\n",
       "  </tbody>\n",
       "</table>\n",
       "</div>"
      ],
      "text/plain": [
       "             Metric        MetricLabel      Value     Base  Compare Note  \\\n",
       "0  PredictiveParity  Predictive Parity  11.285119  group_E  group_C        \n",
       "0  PredictiveParity  Predictive Parity   3.748677     male   female        \n",
       "\n",
       "  _VARIABLE_  \n",
       "0       Race  \n",
       "0     Gender  "
      ]
     },
     "execution_count": 120,
     "metadata": {},
     "output_type": "execute_result"
    }
   ],
   "source": [
    "assess_bias_dfs[\"LinearRegression\"][\"biasMetricsData\"].head()"
   ]
  },
  {
   "cell_type": "code",
   "execution_count": 121,
   "metadata": {
    "ExecuteTime": {
     "end_time": "2023-07-07T13:48:16.075438200Z",
     "start_time": "2023-07-07T13:48:16.048340600Z"
    },
    "collapsed": false
   },
   "outputs": [],
   "source": [
    "gm_lr = assess_bias_dfs[\"LinearRegression\"][\"groupMetricsData\"]\n",
    "gm_rfr = assess_bias_dfs[\"RandomForest\"][\"groupMetricsData\"]\n",
    "gm_gbr = assess_bias_dfs[\"GradientBoost\"][\"groupMetricsData\"]"
   ]
  },
  {
   "cell_type": "code",
   "execution_count": 122,
   "metadata": {
    "ExecuteTime": {
     "end_time": "2023-07-07T13:48:16.123619Z",
     "start_time": "2023-07-07T13:48:16.054688300Z"
    },
    "collapsed": false
   },
   "outputs": [],
   "source": [
    "md_lr = assess_bias_dfs[\"LinearRegression\"][\"maxDifferencesData\"]\n",
    "md_rfr = assess_bias_dfs[\"RandomForest\"][\"maxDifferencesData\"]\n",
    "md_gbr = assess_bias_dfs[\"GradientBoost\"][\"maxDifferencesData\"]"
   ]
  },
  {
   "cell_type": "markdown",
   "metadata": {
    "collapsed": false
   },
   "source": [
    "### Performance Bias"
   ]
  },
  {
   "cell_type": "code",
   "execution_count": 123,
   "metadata": {
    "ExecuteTime": {
     "end_time": "2023-07-07T13:48:16.155298Z",
     "start_time": "2023-07-07T13:48:16.064467100Z"
    },
    "collapsed": false
   },
   "outputs": [],
   "source": [
    "plt.rcParams[\"figure.figsize\"] = [12, 4]\n",
    "plt.rcParams[\"figure.autolayout\"] = True"
   ]
  },
  {
   "cell_type": "markdown",
   "metadata": {
    "collapsed": false
   },
   "source": [
    "Average Squared Error: $$ASE = \\frac{1}{n-p} \\sum_{i=1}^{n} (y_i - \\hat{y_i})^2$$"
   ]
  },
  {
   "cell_type": "code",
   "execution_count": 124,
   "metadata": {
    "ExecuteTime": {
     "end_time": "2023-07-07T13:48:17.373831400Z",
     "start_time": "2023-07-07T13:48:16.075438200Z"
    },
    "collapsed": false
   },
   "outputs": [
    {
     "data": {
      "image/png": "[encoded data removed]",
      "text/plain": [
       "<Figure size 1200x400 with 3 Axes>"
      ]
     },
     "metadata": {},
     "output_type": "display_data"
    }
   ],
   "source": [
    "fig, axes = plt.subplots(1, 3)\n",
    "fig.suptitle(\"Average Squared Error by Race\")\n",
    "\n",
    "sns.barplot(\n",
    "    data=gm_lr[gm_lr[\"_VARIABLE_\"] == \"Race\"], x=\"LEVEL\", y=\"_ase_\", ax=axes[0]\n",
    ").set(title=\"Linear Regression\")\n",
    "sns.barplot(\n",
    "    data=gm_rfr[gm_rfr[\"_VARIABLE_\"] == \"Race\"], x=\"LEVEL\", y=\"_ase_\", ax=axes[1]\n",
    ").set(title=\"Random Forest\")\n",
    "sns.barplot(\n",
    "    data=gm_gbr[gm_gbr[\"_VARIABLE_\"] == \"Race\"], x=\"LEVEL\", y=\"_ase_\", ax=axes[2]\n",
    ").set(title=\"Gradient Boosting\")\n",
    "\n",
    "plt.show()"
   ]
  },
  {
   "cell_type": "code",
   "execution_count": 125,
   "metadata": {
    "ExecuteTime": {
     "end_time": "2023-07-07T13:48:19.116986100Z",
     "start_time": "2023-07-07T13:48:17.373831400Z"
    },
    "collapsed": false
   },
   "outputs": [
    {
     "data": {
      "image/png": "[encoded data removed]",
      "text/plain": [
       "<Figure size 1200x400 with 3 Axes>"
      ]
     },
     "metadata": {},
     "output_type": "display_data"
    }
   ],
   "source": [
    "fig, axes = plt.subplots(1, 3)\n",
    "fig.suptitle(\"Average Squared Error by Sex\")\n",
    "\n",
    "sns.barplot(\n",
    "    data=gm_lr[gm_lr[\"_VARIABLE_\"] == \"Gender\"], x=\"LEVEL\", y=\"_ase_\", ax=axes[0]\n",
    ").set(title=\"Linear Regression\")\n",
    "sns.barplot(\n",
    "    data=gm_rfr[gm_rfr[\"_VARIABLE_\"] == \"Gender\"], x=\"LEVEL\", y=\"_ase_\", ax=axes[1]\n",
    ").set(title=\"Random Forest\")\n",
    "sns.barplot(\n",
    "    data=gm_gbr[gm_gbr[\"_VARIABLE_\"] == \"Gender\"], x=\"LEVEL\", y=\"_ase_\", ax=axes[2]\n",
    ").set(title=\"Gradient Boosting\")\n",
    "\n",
    "plt.show()"
   ]
  },
  {
   "cell_type": "code",
   "execution_count": 126,
   "metadata": {
    "ExecuteTime": {
     "end_time": "2023-07-07T13:48:19.136357700Z",
     "start_time": "2023-07-07T13:48:19.121928300Z"
    },
    "collapsed": false
   },
   "outputs": [],
   "source": [
    "md_ase_lr_race = md_lr[(md_lr[\"Metric\"] == \"ASE\") & (md_lr[\"_VARIABLE_\"] == \"Race\")][\n",
    "    \"maxdiff\"\n",
    "]\n",
    "md_ase_lr_sex = md_lr[(md_lr[\"Metric\"] == \"ASE\") & (md_lr[\"_VARIABLE_\"] == \"Gender\")][\n",
    "    \"maxdiff\"\n",
    "]\n",
    "md_ase_lr = [x.values[0] for x in [md_ase_lr_race, md_ase_lr_sex]]\n",
    "\n",
    "md_ase_rfr_race = md_rfr[\n",
    "    (md_rfr[\"Metric\"] == \"ASE\") & (md_rfr[\"_VARIABLE_\"] == \"Race\")\n",
    "][\"maxdiff\"]\n",
    "md_ase_rfr_sex = md_rfr[\n",
    "    (md_rfr[\"Metric\"] == \"ASE\") & (md_rfr[\"_VARIABLE_\"] == \"Gender\")\n",
    "][\"maxdiff\"]\n",
    "md_ase_rfr = [x.values[0] for x in [md_ase_rfr_race, md_ase_rfr_sex]]\n",
    "\n",
    "md_ase_gbr_race = md_gbr[\n",
    "    (md_gbr[\"Metric\"] == \"ASE\") & (md_gbr[\"_VARIABLE_\"] == \"Race\")\n",
    "][\"maxdiff\"]\n",
    "md_ase_gbr_sex = md_gbr[\n",
    "    (md_gbr[\"Metric\"] == \"ASE\") & (md_gbr[\"_VARIABLE_\"] == \"Gender\")\n",
    "][\"maxdiff\"]\n",
    "md_ase_gbr = [x.values[0] for x in [md_ase_gbr_race, md_ase_gbr_sex]]"
   ]
  },
  {
   "cell_type": "code",
   "execution_count": 127,
   "metadata": {
    "ExecuteTime": {
     "end_time": "2023-07-07T13:48:19.744824600Z",
     "start_time": "2023-07-07T13:48:19.141984900Z"
    },
    "collapsed": false
   },
   "outputs": [
    {
     "data": {
      "image/png": "[encoded data removed]",
      "text/plain": [
       "<Figure size 1200x400 with 3 Axes>"
      ]
     },
     "metadata": {},
     "output_type": "display_data"
    }
   ],
   "source": [
    "fig, axes = plt.subplots(1, 3)\n",
    "fig.suptitle(\"Max Average Squared Error Difference by Sensitive Variable\")\n",
    "\n",
    "sns.barplot(y=md_ase_lr, x=[\"Race\", \"Sex\"], ax=axes[0]).set(title=\"Linear Regression\")\n",
    "sns.barplot(y=md_ase_rfr, x=[\"Race\", \"Sex\"], ax=axes[1]).set(title=\"Random Forest\")\n",
    "sns.barplot(y=md_ase_gbr, x=[\"Race\", \"Sex\"], ax=axes[2]).set(title=\"Gradient Boost\")\n",
    "\n",
    "plt.show()"
   ]
  },
  {
   "cell_type": "markdown",
   "metadata": {
    "collapsed": false
   },
   "source": [
    "Root Average Squared Error: $$RASE = \\sqrt{\\frac{1}{n-p} \\sum_{i=1}^{n} (y_i - \\hat{y_i})^2}$$"
   ]
  },
  {
   "cell_type": "code",
   "execution_count": 128,
   "metadata": {
    "ExecuteTime": {
     "end_time": "2023-07-07T13:48:20.452981400Z",
     "start_time": "2023-07-07T13:48:19.744824600Z"
    },
    "collapsed": false
   },
   "outputs": [
    {
     "data": {
      "image/png": "[encoded data removed]",
      "text/plain": [
       "<Figure size 1200x400 with 3 Axes>"
      ]
     },
     "metadata": {},
     "output_type": "display_data"
    }
   ],
   "source": [
    "fig, axes = plt.subplots(1, 3)\n",
    "fig.suptitle(\"Root Average Squared Error by Race\")\n",
    "\n",
    "sns.barplot(\n",
    "    data=gm_lr[gm_lr[\"_VARIABLE_\"] == \"Race\"], x=\"LEVEL\", y=\"_rase_\", ax=axes[0]\n",
    ").set(title=\"Linear Regression\")\n",
    "sns.barplot(\n",
    "    data=gm_rfr[gm_rfr[\"_VARIABLE_\"] == \"Race\"], x=\"LEVEL\", y=\"_rase_\", ax=axes[1]\n",
    ").set(title=\"Random Forest\")\n",
    "sns.barplot(\n",
    "    data=gm_gbr[gm_gbr[\"_VARIABLE_\"] == \"Race\"], x=\"LEVEL\", y=\"_rase_\", ax=axes[2]\n",
    ").set(title=\"Gradient Boosting\")\n",
    "\n",
    "plt.show()"
   ]
  },
  {
   "cell_type": "code",
   "execution_count": 129,
   "metadata": {
    "ExecuteTime": {
     "end_time": "2023-07-07T13:48:20.966726Z",
     "start_time": "2023-07-07T13:48:20.436480100Z"
    },
    "collapsed": false
   },
   "outputs": [
    {
     "data": {
      "image/png": "[encoded data removed]",
      "text/plain": [
       "<Figure size 1200x400 with 3 Axes>"
      ]
     },
     "metadata": {},
     "output_type": "display_data"
    }
   ],
   "source": [
    "fig, axes = plt.subplots(1, 3)\n",
    "fig.suptitle(\"Root Average Squared Error by Sex\")\n",
    "\n",
    "sns.barplot(\n",
    "    data=gm_lr[gm_lr[\"_VARIABLE_\"] == \"Gender\"], x=\"LEVEL\", y=\"_rase_\", ax=axes[0]\n",
    ").set(title=\"Linear Regression\")\n",
    "sns.barplot(\n",
    "    data=gm_rfr[gm_rfr[\"_VARIABLE_\"] == \"Gender\"], x=\"LEVEL\", y=\"_rase_\", ax=axes[1]\n",
    ").set(title=\"Random Forest\")\n",
    "sns.barplot(\n",
    "    data=gm_gbr[gm_gbr[\"_VARIABLE_\"] == \"Gender\"], x=\"LEVEL\", y=\"_rase_\", ax=axes[2]\n",
    ").set(title=\"Gradient Boosting\")\n",
    "\n",
    "plt.show()"
   ]
  },
  {
   "cell_type": "code",
   "execution_count": 130,
   "metadata": {
    "ExecuteTime": {
     "end_time": "2023-07-07T13:48:20.980629100Z",
     "start_time": "2023-07-07T13:48:20.962995200Z"
    },
    "collapsed": false
   },
   "outputs": [],
   "source": [
    "md_rase_lr_race = md_lr[(md_lr[\"Metric\"] == \"RASE\") & (md_lr[\"_VARIABLE_\"] == \"Race\")][\n",
    "    \"maxdiff\"\n",
    "]\n",
    "md_rase_lr_sex = md_lr[(md_lr[\"Metric\"] == \"RASE\") & (md_lr[\"_VARIABLE_\"] == \"Gender\")][\n",
    "    \"maxdiff\"\n",
    "]\n",
    "md_rase_lr = [x.values[0] for x in [md_rase_lr_race, md_rase_lr_sex]]\n",
    "\n",
    "md_rase_rfr_race = md_rfr[\n",
    "    (md_rfr[\"Metric\"] == \"RASE\") & (md_rfr[\"_VARIABLE_\"] == \"Race\")\n",
    "][\"maxdiff\"]\n",
    "md_rase_rfr_sex = md_rfr[\n",
    "    (md_rfr[\"Metric\"] == \"RASE\") & (md_rfr[\"_VARIABLE_\"] == \"Gender\")\n",
    "][\"maxdiff\"]\n",
    "md_rase_rfr = [x.values[0] for x in [md_rase_rfr_race, md_rase_rfr_sex]]\n",
    "\n",
    "md_rase_gbr_race = md_gbr[\n",
    "    (md_gbr[\"Metric\"] == \"RASE\") & (md_gbr[\"_VARIABLE_\"] == \"Race\")\n",
    "][\"maxdiff\"]\n",
    "md_rase_gbr_sex = md_gbr[\n",
    "    (md_gbr[\"Metric\"] == \"RASE\") & (md_gbr[\"_VARIABLE_\"] == \"Gender\")\n",
    "][\"maxdiff\"]\n",
    "md_rase_gbr = [x.values[0] for x in [md_rase_gbr_race, md_rase_gbr_sex]]"
   ]
  },
  {
   "cell_type": "code",
   "execution_count": 131,
   "metadata": {
    "ExecuteTime": {
     "end_time": "2023-07-07T13:48:21.468355500Z",
     "start_time": "2023-07-07T13:48:20.972487100Z"
    },
    "collapsed": false
   },
   "outputs": [
    {
     "data": {
      "image/png": "[encoded data removed]",
      "text/plain": [
       "<Figure size 1200x400 with 3 Axes>"
      ]
     },
     "metadata": {},
     "output_type": "display_data"
    }
   ],
   "source": [
    "fig, axes = plt.subplots(1, 3)\n",
    "fig.suptitle(\"Max Root Average Squared Error Difference by Sensitive Variable\")\n",
    "\n",
    "sns.barplot(y=md_rase_lr, x=[\"Race\", \"Sex\"], ax=axes[0]).set(title=\"Linear Regression\")\n",
    "sns.barplot(y=md_rase_rfr, x=[\"Race\", \"Sex\"], ax=axes[1]).set(title=\"Random Forest\")\n",
    "sns.barplot(y=md_rase_gbr, x=[\"Race\", \"Sex\"], ax=axes[2]).set(title=\"Gradient Boost\")\n",
    "\n",
    "plt.show()"
   ]
  },
  {
   "cell_type": "markdown",
   "metadata": {
    "collapsed": false
   },
   "source": [
    "### Prediction Bias"
   ]
  },
  {
   "cell_type": "code",
   "execution_count": 132,
   "metadata": {
    "ExecuteTime": {
     "end_time": "2023-07-07T13:48:22.235991800Z",
     "start_time": "2023-07-07T13:48:21.456589800Z"
    },
    "collapsed": false
   },
   "outputs": [
    {
     "data": {
      "image/png": "[encoded data removed]",
      "text/plain": [
       "<Figure size 1200x400 with 3 Axes>"
      ]
     },
     "metadata": {},
     "output_type": "display_data"
    }
   ],
   "source": [
    "fig, axes = plt.subplots(1, 3)\n",
    "fig.suptitle(\"Predicted Math Score by Race\")\n",
    "\n",
    "sns.barplot(\n",
    "    data=gm_lr[gm_lr[\"_VARIABLE_\"] == \"Race\"],\n",
    "    x=\"LEVEL\",\n",
    "    y=\"Predicted_Math_Score\",\n",
    "    ax=axes[0],\n",
    ").set(title=\"Linear Regression\")\n",
    "sns.barplot(\n",
    "    data=gm_rfr[gm_rfr[\"_VARIABLE_\"] == \"Race\"],\n",
    "    x=\"LEVEL\",\n",
    "    y=\"Predicted_Math_Score\",\n",
    "    ax=axes[1],\n",
    ").set(title=\"Random Forest\")\n",
    "sns.barplot(\n",
    "    data=gm_gbr[gm_gbr[\"_VARIABLE_\"] == \"Race\"],\n",
    "    x=\"LEVEL\",\n",
    "    y=\"Predicted_Math_Score\",\n",
    "    ax=axes[2],\n",
    ").set(title=\"Gradient Boosting\")\n",
    "\n",
    "plt.show()"
   ]
  },
  {
   "cell_type": "code",
   "execution_count": 133,
   "metadata": {
    "ExecuteTime": {
     "end_time": "2023-07-07T13:48:22.723860200Z",
     "start_time": "2023-07-07T13:48:22.223046200Z"
    },
    "collapsed": false
   },
   "outputs": [
    {
     "data": {
      "image/png": "[encoded data removed]",
      "text/plain": [
       "<Figure size 1200x400 with 3 Axes>"
      ]
     },
     "metadata": {},
     "output_type": "display_data"
    }
   ],
   "source": [
    "fig, axes = plt.subplots(1, 3)\n",
    "fig.suptitle(\"Predicted Math Score by Sex\")\n",
    "\n",
    "sns.barplot(\n",
    "    data=gm_lr[gm_lr[\"_VARIABLE_\"] == \"Gender\"],\n",
    "    x=\"LEVEL\",\n",
    "    y=\"Predicted_Math_Score\",\n",
    "    ax=axes[0],\n",
    ").set(title=\"Decision Tree\")\n",
    "sns.barplot(\n",
    "    data=gm_rfr[gm_rfr[\"_VARIABLE_\"] == \"Gender\"],\n",
    "    x=\"LEVEL\",\n",
    "    y=\"Predicted_Math_Score\",\n",
    "    ax=axes[1],\n",
    ").set(title=\"Random Forest\")\n",
    "sns.barplot(\n",
    "    data=gm_gbr[gm_gbr[\"_VARIABLE_\"] == \"Gender\"],\n",
    "    x=\"LEVEL\",\n",
    "    y=\"Predicted_Math_Score\",\n",
    "    ax=axes[2],\n",
    ").set(title=\"Gradient Boosting\")\n",
    "\n",
    "plt.show()"
   ]
  },
  {
   "cell_type": "code",
   "execution_count": 134,
   "metadata": {
    "ExecuteTime": {
     "end_time": "2023-07-07T13:48:22.738388900Z",
     "start_time": "2023-07-07T13:48:22.716900400Z"
    },
    "collapsed": false
   },
   "outputs": [],
   "source": [
    "md_pe_lr_race = md_lr[\n",
    "    (md_lr[\"Metric\"] == \"Predicted_Math_Score\") & (md_lr[\"_VARIABLE_\"] == \"Race\")\n",
    "][\"maxdiff\"]\n",
    "md_pe_lr_sex = md_lr[\n",
    "    (md_lr[\"Metric\"] == \"Predicted_Math_Score\") & (md_lr[\"_VARIABLE_\"] == \"Gender\")\n",
    "][\"maxdiff\"]\n",
    "md_pe_lr = [x.values[0] for x in [md_pe_lr_race, md_pe_lr_sex]]\n",
    "\n",
    "md_pe_rfr_race = md_rfr[\n",
    "    (md_rfr[\"Metric\"] == \"Predicted_Math_Score\") & (md_rfr[\"_VARIABLE_\"] == \"Race\")\n",
    "][\"maxdiff\"]\n",
    "md_pe_rfr_sex = md_rfr[\n",
    "    (md_rfr[\"Metric\"] == \"Predicted_Math_Score\") & (md_rfr[\"_VARIABLE_\"] == \"Gender\")\n",
    "][\"maxdiff\"]\n",
    "md_pe_rfr = [x.values[0] for x in [md_pe_rfr_race, md_pe_rfr_sex]]\n",
    "\n",
    "md_pe_gbr_race = md_gbr[\n",
    "    (md_gbr[\"Metric\"] == \"Predicted_Math_Score\") & (md_gbr[\"_VARIABLE_\"] == \"Race\")\n",
    "][\"maxdiff\"]\n",
    "md_pe_gbr_sex = md_gbr[\n",
    "    (md_gbr[\"Metric\"] == \"Predicted_Math_Score\") & (md_gbr[\"_VARIABLE_\"] == \"Gender\")\n",
    "][\"maxdiff\"]\n",
    "md_pe_gbr = [x.values[0] for x in [md_pe_gbr_race, md_pe_gbr_sex]]"
   ]
  },
  {
   "cell_type": "code",
   "execution_count": 135,
   "metadata": {
    "ExecuteTime": {
     "end_time": "2023-07-07T13:48:23.220390900Z",
     "start_time": "2023-07-07T13:48:22.739648400Z"
    },
    "collapsed": false
   },
   "outputs": [
    {
     "data": {
      "image/png": "[encoded data removed]",
      "text/plain": [
       "<Figure size 1200x400 with 3 Axes>"
      ]
     },
     "metadata": {},
     "output_type": "display_data"
    }
   ],
   "source": [
    "fig, axes = plt.subplots(1, 3)\n",
    "fig.suptitle(\"Max Predicted Math Score Difference by Sensitive Variable\")\n",
    "\n",
    "sns.barplot(y=md_pe_lr, x=[\"Race\", \"Sex\"], ax=axes[0]).set(title=\"Linear Regression\")\n",
    "sns.barplot(y=md_pe_rfr, x=[\"Race\", \"Sex\"], ax=axes[1]).set(title=\"Random Forest\")\n",
    "sns.barplot(y=md_pe_gbr, x=[\"Race\", \"Sex\"], ax=axes[2]).set(title=\"Gradient Boost\")\n",
    "\n",
    "plt.show()"
   ]
  },
  {
   "cell_type": "markdown",
   "metadata": {
    "collapsed": false
   },
   "source": [
    "***"
   ]
  }
 ],
 "metadata": {
  "kernelspec": {
   "display_name": "Python 3",
   "language": "python",
   "name": "python3"
  },
  "language_info": {
   "codemirror_mode": {
    "name": "ipython",
    "version": 2
   },
   "file_extension": ".py",
   "mimetype": "text/x-python",
   "name": "python",
   "nbconvert_exporter": "python",
   "pygments_lexer": "ipython2",
   "version": "2.7.6"
  }
 },
 "nbformat": 4,
 "nbformat_minor": 0
}
