{
 "cells": [
  {
   "cell_type": "markdown",
   "metadata": {
    "collapsed": false
   },
   "source": [
    "Copyright © 2023, SAS Institute Inc., Cary, NC, USA.  All Rights Reserved.\n",
    "SPDX-License-Identifier: Apache-2.0"
   ]
  },
  {
   "cell_type": "markdown",
   "metadata": {},
   "source": [
    "# Titanic Dataset : Assess Bias of Classification Models\n",
    "\n",
    "This notebook provides an example of how to assess model bias for python models using the titanic dataset. The `assess_model_bias()` function featured in this notebook produces JSON files that can be uploaded into Model Manager on SAS Viya 4. Lines of code that must be modified by the user, such as directory paths or the host server are noted with the comment \"_Changes required by user._\".\n",
    "\n",
    "_**Note:** If you download only this notebook and not the rest of the repository, you must also download the titanic.csv file from the data folder in the examples directory. These files are used when executing this notebook example._\n",
    "\n",
    "Here are the steps shown in this notebook:\n",
    "\n",
    "1. [Import Modules](#section_0)\n",
    "2. [Import, review, and preprocess data for model training.](#section_1)\n",
    "3. [Build, train, and assess a scikit-learn decision tree, random forest, and gradient boosting model.](#section_2)\n",
    "4. [Create score tables for each model using the test data.](#section_3)\n",
    "5. [Call `assess_model_bias()` to create JSON files and return relevant data frames.](#section_4)\n",
    "6. [Review data frames from assess bias function and generate graphics similar to Model Studio.](#section_5)\n",
    "7. [Run through steps 1-5 again but with a multi-classification model.](#section_6)"
   ]
  },
  {
   "cell_type": "markdown",
   "metadata": {
    "collapsed": false
   },
   "source": [
    "<a id='section_0'></a>"
   ]
  },
  {
   "cell_type": "markdown",
   "metadata": {},
   "source": [
    "## Import Modules"
   ]
  },
  {
   "cell_type": "code",
   "execution_count": 48,
   "metadata": {
    "ExecuteTime": {
     "end_time": "2023-07-17T17:09:58.420212400Z",
     "start_time": "2023-07-17T17:09:58.305397800Z"
    }
   },
   "outputs": [],
   "source": [
    "from sasctl import Session\n",
    "import sasctl.pzmm as pzmm\n",
    "from sklearn.model_selection import train_test_split\n",
    "from sklearn.ensemble import GradientBoostingClassifier, RandomForestClassifier\n",
    "from sklearn.tree import DecisionTreeClassifier\n",
    "from sklearn.metrics import classification_report, confusion_matrix\n",
    "import pandas as pd\n",
    "from pathlib import Path\n",
    "import seaborn as sns\n",
    "import numpy as np\n",
    "import matplotlib.pyplot as plt\n",
    "import getpass"
   ]
  },
  {
   "cell_type": "markdown",
   "metadata": {
    "collapsed": false
   },
   "source": [
    "<a id='section_1'></a>"
   ]
  },
  {
   "cell_type": "markdown",
   "metadata": {},
   "source": [
    "## Load, Assess, and Pre-process Data"
   ]
  },
  {
   "cell_type": "code",
   "execution_count": 49,
   "metadata": {
    "ExecuteTime": {
     "end_time": "2023-07-17T17:09:58.751871600Z",
     "start_time": "2023-07-17T17:09:58.695111600Z"
    }
   },
   "outputs": [
    {
     "data": {
      "text/html": [
       "<div>\n",
       "<style scoped>\n",
       "    .dataframe tbody tr th:only-of-type {\n",
       "        vertical-align: middle;\n",
       "    }\n",
       "\n",
       "    .dataframe tbody tr th {\n",
       "        vertical-align: top;\n",
       "    }\n",
       "\n",
       "    .dataframe thead th {\n",
       "        text-align: right;\n",
       "    }\n",
       "</style>\n",
       "<table border=\"1\" class=\"dataframe\">\n",
       "  <thead>\n",
       "    <tr style=\"text-align: right;\">\n",
       "      <th></th>\n",
       "      <th>PassengerId</th>\n",
       "      <th>Survived</th>\n",
       "      <th>Pclass</th>\n",
       "      <th>Lname</th>\n",
       "      <th>Name</th>\n",
       "      <th>Sex</th>\n",
       "      <th>Age</th>\n",
       "      <th>SibSp</th>\n",
       "      <th>Parch</th>\n",
       "      <th>Ticket</th>\n",
       "      <th>Fare</th>\n",
       "      <th>Cabin</th>\n",
       "      <th>Embarked</th>\n",
       "    </tr>\n",
       "  </thead>\n",
       "  <tbody>\n",
       "    <tr>\n",
       "      <th>0</th>\n",
       "      <td>1</td>\n",
       "      <td>0</td>\n",
       "      <td>3</td>\n",
       "      <td>Braund</td>\n",
       "      <td>Mr. Owen Harris</td>\n",
       "      <td>male</td>\n",
       "      <td>22.0</td>\n",
       "      <td>1</td>\n",
       "      <td>0</td>\n",
       "      <td>A/5 21171</td>\n",
       "      <td>7.2500</td>\n",
       "      <td>NaN</td>\n",
       "      <td>S</td>\n",
       "    </tr>\n",
       "    <tr>\n",
       "      <th>1</th>\n",
       "      <td>2</td>\n",
       "      <td>1</td>\n",
       "      <td>1</td>\n",
       "      <td>Cumings</td>\n",
       "      <td>Mrs. John Bradley (Florence Briggs Thayer)</td>\n",
       "      <td>female</td>\n",
       "      <td>38.0</td>\n",
       "      <td>1</td>\n",
       "      <td>0</td>\n",
       "      <td>PC 17599</td>\n",
       "      <td>71.2833</td>\n",
       "      <td>C85</td>\n",
       "      <td>C</td>\n",
       "    </tr>\n",
       "    <tr>\n",
       "      <th>2</th>\n",
       "      <td>3</td>\n",
       "      <td>1</td>\n",
       "      <td>3</td>\n",
       "      <td>Heikkinen</td>\n",
       "      <td>Miss. Laina</td>\n",
       "      <td>female</td>\n",
       "      <td>26.0</td>\n",
       "      <td>0</td>\n",
       "      <td>0</td>\n",
       "      <td>STON/O2. 3101282</td>\n",
       "      <td>7.9250</td>\n",
       "      <td>NaN</td>\n",
       "      <td>S</td>\n",
       "    </tr>\n",
       "    <tr>\n",
       "      <th>3</th>\n",
       "      <td>4</td>\n",
       "      <td>1</td>\n",
       "      <td>1</td>\n",
       "      <td>Futrelle</td>\n",
       "      <td>Mrs. Jacques Heath (Lily May Peel)</td>\n",
       "      <td>female</td>\n",
       "      <td>35.0</td>\n",
       "      <td>1</td>\n",
       "      <td>0</td>\n",
       "      <td>113803</td>\n",
       "      <td>53.1000</td>\n",
       "      <td>C123</td>\n",
       "      <td>S</td>\n",
       "    </tr>\n",
       "    <tr>\n",
       "      <th>4</th>\n",
       "      <td>5</td>\n",
       "      <td>0</td>\n",
       "      <td>3</td>\n",
       "      <td>Allen</td>\n",
       "      <td>Mr. William Henry</td>\n",
       "      <td>male</td>\n",
       "      <td>35.0</td>\n",
       "      <td>0</td>\n",
       "      <td>0</td>\n",
       "      <td>373450</td>\n",
       "      <td>8.0500</td>\n",
       "      <td>NaN</td>\n",
       "      <td>S</td>\n",
       "    </tr>\n",
       "  </tbody>\n",
       "</table>\n",
       "</div>"
      ],
      "text/plain": [
       "   PassengerId  Survived  Pclass      Lname  \\\n",
       "0            1         0       3     Braund   \n",
       "1            2         1       1    Cumings   \n",
       "2            3         1       3  Heikkinen   \n",
       "3            4         1       1   Futrelle   \n",
       "4            5         0       3      Allen   \n",
       "\n",
       "                                          Name     Sex   Age  SibSp  Parch  \\\n",
       "0                              Mr. Owen Harris    male  22.0      1      0   \n",
       "1   Mrs. John Bradley (Florence Briggs Thayer)  female  38.0      1      0   \n",
       "2                                  Miss. Laina  female  26.0      0      0   \n",
       "3           Mrs. Jacques Heath (Lily May Peel)  female  35.0      1      0   \n",
       "4                            Mr. William Henry    male  35.0      0      0   \n",
       "\n",
       "             Ticket     Fare Cabin Embarked  \n",
       "0         A/5 21171   7.2500   NaN        S  \n",
       "1          PC 17599  71.2833   C85        C  \n",
       "2  STON/O2. 3101282   7.9250   NaN        S  \n",
       "3            113803  53.1000  C123        S  \n",
       "4            373450   8.0500   NaN        S  "
      ]
     },
     "execution_count": 49,
     "metadata": {},
     "output_type": "execute_result"
    }
   ],
   "source": [
    "df_raw = pd.read_csv('data/titanic.csv')\n",
    "df_raw.head()"
   ]
  },
  {
   "cell_type": "code",
   "execution_count": 50,
   "metadata": {
    "ExecuteTime": {
     "end_time": "2023-07-17T17:09:59.242796300Z",
     "start_time": "2023-07-17T17:09:58.937071300Z"
    }
   },
   "outputs": [
    {
     "data": {
      "text/plain": [
       "Sex\n",
       "male      100\n",
       "female     56\n",
       "Name: count, dtype: int64"
      ]
     },
     "execution_count": 50,
     "metadata": {},
     "output_type": "execute_result"
    }
   ],
   "source": [
    "df_raw['Sex'].value_counts()"
   ]
  },
  {
   "cell_type": "code",
   "execution_count": 51,
   "metadata": {
    "ExecuteTime": {
     "end_time": "2023-07-17T17:10:00.125049500Z",
     "start_time": "2023-07-17T17:09:59.160928900Z"
    }
   },
   "outputs": [
    {
     "data": {
      "text/html": [
       "<div>\n",
       "<style scoped>\n",
       "    .dataframe tbody tr th:only-of-type {\n",
       "        vertical-align: middle;\n",
       "    }\n",
       "\n",
       "    .dataframe tbody tr th {\n",
       "        vertical-align: top;\n",
       "    }\n",
       "\n",
       "    .dataframe thead th {\n",
       "        text-align: right;\n",
       "    }\n",
       "</style>\n",
       "<table border=\"1\" class=\"dataframe\">\n",
       "  <thead>\n",
       "    <tr style=\"text-align: right;\">\n",
       "      <th></th>\n",
       "      <th></th>\n",
       "      <th>proportion</th>\n",
       "    </tr>\n",
       "    <tr>\n",
       "      <th>Sex</th>\n",
       "      <th>Survived</th>\n",
       "      <th></th>\n",
       "    </tr>\n",
       "  </thead>\n",
       "  <tbody>\n",
       "    <tr>\n",
       "      <th rowspan=\"2\" valign=\"top\">female</th>\n",
       "      <th>1</th>\n",
       "      <td>0.714286</td>\n",
       "    </tr>\n",
       "    <tr>\n",
       "      <th>0</th>\n",
       "      <td>0.285714</td>\n",
       "    </tr>\n",
       "    <tr>\n",
       "      <th rowspan=\"2\" valign=\"top\">male</th>\n",
       "      <th>0</th>\n",
       "      <td>0.860000</td>\n",
       "    </tr>\n",
       "    <tr>\n",
       "      <th>1</th>\n",
       "      <td>0.140000</td>\n",
       "    </tr>\n",
       "  </tbody>\n",
       "</table>\n",
       "</div>"
      ],
      "text/plain": [
       "                 proportion\n",
       "Sex    Survived            \n",
       "female 1           0.714286\n",
       "       0           0.285714\n",
       "male   0           0.860000\n",
       "       1           0.140000"
      ]
     },
     "execution_count": 51,
     "metadata": {},
     "output_type": "execute_result"
    },
    {
     "data": {
      "image/png": "[encoded data removed]",
      "text/plain": [
       "<Figure size 700x400 with 1 Axes>"
      ]
     },
     "metadata": {},
     "output_type": "display_data"
    }
   ],
   "source": [
    "# summary statistics for survival by gender\n",
    "sns.histplot(x=df_raw['Sex'], hue=df_raw['Survived'].astype(str), multiple=\"stack\", stat=\"percent\")\n",
    "df_raw[['Sex', 'Survived']].groupby('Sex').value_counts(normalize=True).to_frame()"
   ]
  },
  {
   "cell_type": "code",
   "execution_count": 52,
   "metadata": {
    "ExecuteTime": {
     "end_time": "2023-07-17T17:10:00.128013800Z",
     "start_time": "2023-07-17T17:09:59.730492200Z"
    }
   },
   "outputs": [],
   "source": [
    "# pre-processing data\n",
    "columns = ['Survived', 'Pclass', 'Sex', 'Age', 'SibSp', 'Parch', 'Fare', 'Embarked']\n",
    "df = df_raw[columns].dropna()\n",
    "df = pd.get_dummies(df, columns=['Sex', 'Pclass', 'Embarked'])\n",
    "df = df.drop(['Sex_male', 'Pclass_3', 'Embarked_S'], axis = 1)"
   ]
  },
  {
   "cell_type": "code",
   "execution_count": 53,
   "metadata": {
    "ExecuteTime": {
     "end_time": "2023-07-17T17:10:00.130016100Z",
     "start_time": "2023-07-17T17:09:59.752633200Z"
    }
   },
   "outputs": [
    {
     "data": {
      "text/html": [
       "<div>\n",
       "<style scoped>\n",
       "    .dataframe tbody tr th:only-of-type {\n",
       "        vertical-align: middle;\n",
       "    }\n",
       "\n",
       "    .dataframe tbody tr th {\n",
       "        vertical-align: top;\n",
       "    }\n",
       "\n",
       "    .dataframe thead th {\n",
       "        text-align: right;\n",
       "    }\n",
       "</style>\n",
       "<table border=\"1\" class=\"dataframe\">\n",
       "  <thead>\n",
       "    <tr style=\"text-align: right;\">\n",
       "      <th></th>\n",
       "      <th>Survived</th>\n",
       "      <th>Age</th>\n",
       "      <th>SibSp</th>\n",
       "      <th>Parch</th>\n",
       "      <th>Fare</th>\n",
       "      <th>Sex_female</th>\n",
       "      <th>Pclass_1</th>\n",
       "      <th>Pclass_2</th>\n",
       "      <th>Embarked_C</th>\n",
       "      <th>Embarked_Q</th>\n",
       "    </tr>\n",
       "  </thead>\n",
       "  <tbody>\n",
       "    <tr>\n",
       "      <th>0</th>\n",
       "      <td>0</td>\n",
       "      <td>22.0</td>\n",
       "      <td>1</td>\n",
       "      <td>0</td>\n",
       "      <td>7.2500</td>\n",
       "      <td>False</td>\n",
       "      <td>False</td>\n",
       "      <td>False</td>\n",
       "      <td>False</td>\n",
       "      <td>False</td>\n",
       "    </tr>\n",
       "    <tr>\n",
       "      <th>1</th>\n",
       "      <td>1</td>\n",
       "      <td>38.0</td>\n",
       "      <td>1</td>\n",
       "      <td>0</td>\n",
       "      <td>71.2833</td>\n",
       "      <td>True</td>\n",
       "      <td>True</td>\n",
       "      <td>False</td>\n",
       "      <td>True</td>\n",
       "      <td>False</td>\n",
       "    </tr>\n",
       "    <tr>\n",
       "      <th>2</th>\n",
       "      <td>1</td>\n",
       "      <td>26.0</td>\n",
       "      <td>0</td>\n",
       "      <td>0</td>\n",
       "      <td>7.9250</td>\n",
       "      <td>True</td>\n",
       "      <td>False</td>\n",
       "      <td>False</td>\n",
       "      <td>False</td>\n",
       "      <td>False</td>\n",
       "    </tr>\n",
       "    <tr>\n",
       "      <th>3</th>\n",
       "      <td>1</td>\n",
       "      <td>35.0</td>\n",
       "      <td>1</td>\n",
       "      <td>0</td>\n",
       "      <td>53.1000</td>\n",
       "      <td>True</td>\n",
       "      <td>True</td>\n",
       "      <td>False</td>\n",
       "      <td>False</td>\n",
       "      <td>False</td>\n",
       "    </tr>\n",
       "    <tr>\n",
       "      <th>4</th>\n",
       "      <td>0</td>\n",
       "      <td>35.0</td>\n",
       "      <td>0</td>\n",
       "      <td>0</td>\n",
       "      <td>8.0500</td>\n",
       "      <td>False</td>\n",
       "      <td>False</td>\n",
       "      <td>False</td>\n",
       "      <td>False</td>\n",
       "      <td>False</td>\n",
       "    </tr>\n",
       "  </tbody>\n",
       "</table>\n",
       "</div>"
      ],
      "text/plain": [
       "   Survived   Age  SibSp  Parch     Fare  Sex_female  Pclass_1  Pclass_2  \\\n",
       "0         0  22.0      1      0   7.2500       False     False     False   \n",
       "1         1  38.0      1      0  71.2833        True      True     False   \n",
       "2         1  26.0      0      0   7.9250        True     False     False   \n",
       "3         1  35.0      1      0  53.1000        True      True     False   \n",
       "4         0  35.0      0      0   8.0500       False     False     False   \n",
       "\n",
       "   Embarked_C  Embarked_Q  \n",
       "0       False       False  \n",
       "1        True       False  \n",
       "2       False       False  \n",
       "3       False       False  \n",
       "4       False       False  "
      ]
     },
     "execution_count": 53,
     "metadata": {},
     "output_type": "execute_result"
    }
   ],
   "source": [
    "df.head()"
   ]
  },
  {
   "cell_type": "markdown",
   "metadata": {
    "collapsed": false
   },
   "source": [
    "<a id='section_2'></a>"
   ]
  },
  {
   "cell_type": "markdown",
   "metadata": {},
   "source": [
    "## Train and Assess Python Models"
   ]
  },
  {
   "cell_type": "code",
   "execution_count": 54,
   "metadata": {
    "ExecuteTime": {
     "end_time": "2023-07-17T17:10:00.444010500Z",
     "start_time": "2023-07-17T17:09:59.855070Z"
    }
   },
   "outputs": [],
   "source": [
    "features = df.drop('Survived', axis=1).columns\n",
    "target = 'Survived'\n",
    "\n",
    "X_train, X_test, Y_train, Y_test = train_test_split(df[features], df[target], train_size=0.6, test_size=0.4,\n",
    "                                                    random_state=42)"
   ]
  },
  {
   "cell_type": "code",
   "execution_count": 55,
   "metadata": {
    "ExecuteTime": {
     "end_time": "2023-07-17T17:10:01.280096600Z",
     "start_time": "2023-07-17T17:09:59.977522900Z"
    }
   },
   "outputs": [
    {
     "data": {
      "text/html": [
       "<style>#sk-container-id-3 {color: black;background-color: white;}#sk-container-id-3 pre{padding: 0;}#sk-container-id-3 div.sk-toggleable {background-color: white;}#sk-container-id-3 label.sk-toggleable__label {cursor: pointer;display: block;width: 100%;margin-bottom: 0;padding: 0.3em;box-sizing: border-box;text-align: center;}#sk-container-id-3 label.sk-toggleable__label-arrow:before {content: \"▸\";float: left;margin-right: 0.25em;color: #696969;}#sk-container-id-3 label.sk-toggleable__label-arrow:hover:before {color: black;}#sk-container-id-3 div.sk-estimator:hover label.sk-toggleable__label-arrow:before {color: black;}#sk-container-id-3 div.sk-toggleable__content {max-height: 0;max-width: 0;overflow: hidden;text-align: left;background-color: #f0f8ff;}#sk-container-id-3 div.sk-toggleable__content pre {margin: 0.2em;color: black;border-radius: 0.25em;background-color: #f0f8ff;}#sk-container-id-3 input.sk-toggleable__control:checked~div.sk-toggleable__content {max-height: 200px;max-width: 100%;overflow: auto;}#sk-container-id-3 input.sk-toggleable__control:checked~label.sk-toggleable__label-arrow:before {content: \"▾\";}#sk-container-id-3 div.sk-estimator input.sk-toggleable__control:checked~label.sk-toggleable__label {background-color: #d4ebff;}#sk-container-id-3 div.sk-label input.sk-toggleable__control:checked~label.sk-toggleable__label {background-color: #d4ebff;}#sk-container-id-3 input.sk-hidden--visually {border: 0;clip: rect(1px 1px 1px 1px);clip: rect(1px, 1px, 1px, 1px);height: 1px;margin: -1px;overflow: hidden;padding: 0;position: absolute;width: 1px;}#sk-container-id-3 div.sk-estimator {font-family: monospace;background-color: #f0f8ff;border: 1px dotted black;border-radius: 0.25em;box-sizing: border-box;margin-bottom: 0.5em;}#sk-container-id-3 div.sk-estimator:hover {background-color: #d4ebff;}#sk-container-id-3 div.sk-parallel-item::after {content: \"\";width: 100%;border-bottom: 1px solid gray;flex-grow: 1;}#sk-container-id-3 div.sk-label:hover label.sk-toggleable__label {background-color: #d4ebff;}#sk-container-id-3 div.sk-serial::before {content: \"\";position: absolute;border-left: 1px solid gray;box-sizing: border-box;top: 0;bottom: 0;left: 50%;z-index: 0;}#sk-container-id-3 div.sk-serial {display: flex;flex-direction: column;align-items: center;background-color: white;padding-right: 0.2em;padding-left: 0.2em;position: relative;}#sk-container-id-3 div.sk-item {position: relative;z-index: 1;}#sk-container-id-3 div.sk-parallel {display: flex;align-items: stretch;justify-content: center;background-color: white;position: relative;}#sk-container-id-3 div.sk-item::before, #sk-container-id-3 div.sk-parallel-item::before {content: \"\";position: absolute;border-left: 1px solid gray;box-sizing: border-box;top: 0;bottom: 0;left: 50%;z-index: -1;}#sk-container-id-3 div.sk-parallel-item {display: flex;flex-direction: column;z-index: 1;position: relative;background-color: white;}#sk-container-id-3 div.sk-parallel-item:first-child::after {align-self: flex-end;width: 50%;}#sk-container-id-3 div.sk-parallel-item:last-child::after {align-self: flex-start;width: 50%;}#sk-container-id-3 div.sk-parallel-item:only-child::after {width: 0;}#sk-container-id-3 div.sk-dashed-wrapped {border: 1px dashed gray;margin: 0 0.4em 0.5em 0.4em;box-sizing: border-box;padding-bottom: 0.4em;background-color: white;}#sk-container-id-3 div.sk-label label {font-family: monospace;font-weight: bold;display: inline-block;line-height: 1.2em;}#sk-container-id-3 div.sk-label-container {text-align: center;}#sk-container-id-3 div.sk-container {/* jupyter's `normalize.less` sets `[hidden] { display: none; }` but bootstrap.min.css set `[hidden] { display: none !important; }` so we also need the `!important` here to be able to override the default hidden behavior on the sphinx rendered scikit-learn.org. See: https://github.com/scikit-learn/scikit-learn/issues/21755 */display: inline-block !important;position: relative;}#sk-container-id-3 div.sk-text-repr-fallback {display: none;}</style><div id=\"sk-container-id-3\" class=\"sk-top-container\"><div class=\"sk-text-repr-fallback\"><pre>GradientBoostingClassifier(random_state=42)</pre><b>In a Jupyter environment, please rerun this cell to show the HTML representation or trust the notebook. <br />On GitHub, the HTML representation is unable to render, please try loading this page with nbviewer.org.</b></div><div class=\"sk-container\" hidden><div class=\"sk-item\"><div class=\"sk-estimator sk-toggleable\"><input class=\"sk-toggleable__control sk-hidden--visually\" id=\"sk-estimator-id-3\" type=\"checkbox\" checked><label for=\"sk-estimator-id-3\" class=\"sk-toggleable__label sk-toggleable__label-arrow\">GradientBoostingClassifier</label><div class=\"sk-toggleable__content\"><pre>GradientBoostingClassifier(random_state=42)</pre></div></div></div></div></div>"
      ],
      "text/plain": [
       "GradientBoostingClassifier(random_state=42)"
      ]
     },
     "execution_count": 55,
     "metadata": {},
     "output_type": "execute_result"
    }
   ],
   "source": [
    "dtc = DecisionTreeClassifier(random_state=42)\n",
    "rfc = RandomForestClassifier(random_state=42)\n",
    "gbc = GradientBoostingClassifier(random_state=42)\n",
    "\n",
    "dtc.fit(X_train, Y_train)\n",
    "rfc.fit(X_train, Y_train)\n",
    "gbc.fit(X_train, Y_train)"
   ]
  },
  {
   "cell_type": "code",
   "execution_count": 56,
   "metadata": {
    "ExecuteTime": {
     "end_time": "2023-07-17T17:10:01.303693700Z",
     "start_time": "2023-07-17T17:10:00.371212400Z"
    }
   },
   "outputs": [],
   "source": [
    "# Calculate the importance of a predictor\n",
    "def sort_feature_importance(model, data):\n",
    "    features = {}\n",
    "    for importance, name in sorted(zip(model.feature_importances_, data.columns), reverse=True):\n",
    "        features[name] = str(np.round(importance*100, 2)) + \"%\"\n",
    "    return features"
   ]
  },
  {
   "cell_type": "code",
   "execution_count": 57,
   "metadata": {
    "ExecuteTime": {
     "end_time": "2023-07-17T17:10:01.304705200Z",
     "start_time": "2023-07-17T17:10:00.376741700Z"
    }
   },
   "outputs": [
    {
     "data": {
      "text/html": [
       "<div>\n",
       "<style scoped>\n",
       "    .dataframe tbody tr th:only-of-type {\n",
       "        vertical-align: middle;\n",
       "    }\n",
       "\n",
       "    .dataframe tbody tr th {\n",
       "        vertical-align: top;\n",
       "    }\n",
       "\n",
       "    .dataframe thead th {\n",
       "        text-align: right;\n",
       "    }\n",
       "</style>\n",
       "<table border=\"1\" class=\"dataframe\">\n",
       "  <thead>\n",
       "    <tr style=\"text-align: right;\">\n",
       "      <th></th>\n",
       "      <th>DecisionTree</th>\n",
       "      <th>RandomForest</th>\n",
       "      <th>GradientBoosting</th>\n",
       "    </tr>\n",
       "  </thead>\n",
       "  <tbody>\n",
       "    <tr>\n",
       "      <th>Sex_female</th>\n",
       "      <td>30.81%</td>\n",
       "      <td>23.55%</td>\n",
       "      <td>32.54%</td>\n",
       "    </tr>\n",
       "    <tr>\n",
       "      <th>Age</th>\n",
       "      <td>22.01%</td>\n",
       "      <td>25.76%</td>\n",
       "      <td>22.19%</td>\n",
       "    </tr>\n",
       "    <tr>\n",
       "      <th>Fare</th>\n",
       "      <td>21.69%</td>\n",
       "      <td>24.34%</td>\n",
       "      <td>20.77%</td>\n",
       "    </tr>\n",
       "    <tr>\n",
       "      <th>SibSp</th>\n",
       "      <td>13.67%</td>\n",
       "      <td>9.8%</td>\n",
       "      <td>17.94%</td>\n",
       "    </tr>\n",
       "    <tr>\n",
       "      <th>Pclass_2</th>\n",
       "      <td>8.93%</td>\n",
       "      <td>5.11%</td>\n",
       "      <td>5.01%</td>\n",
       "    </tr>\n",
       "    <tr>\n",
       "      <th>Pclass_1</th>\n",
       "      <td>2.89%</td>\n",
       "      <td>3.89%</td>\n",
       "      <td>0.8%</td>\n",
       "    </tr>\n",
       "    <tr>\n",
       "      <th>Parch</th>\n",
       "      <td>0.0%</td>\n",
       "      <td>3.29%</td>\n",
       "      <td>0.13%</td>\n",
       "    </tr>\n",
       "    <tr>\n",
       "      <th>Embarked_Q</th>\n",
       "      <td>0.0%</td>\n",
       "      <td>0.63%</td>\n",
       "      <td>0.23%</td>\n",
       "    </tr>\n",
       "    <tr>\n",
       "      <th>Embarked_C</th>\n",
       "      <td>0.0%</td>\n",
       "      <td>3.63%</td>\n",
       "      <td>0.38%</td>\n",
       "    </tr>\n",
       "  </tbody>\n",
       "</table>\n",
       "</div>"
      ],
      "text/plain": [
       "           DecisionTree RandomForest GradientBoosting\n",
       "Sex_female       30.81%       23.55%           32.54%\n",
       "Age              22.01%       25.76%           22.19%\n",
       "Fare             21.69%       24.34%           20.77%\n",
       "SibSp            13.67%         9.8%           17.94%\n",
       "Pclass_2          8.93%        5.11%            5.01%\n",
       "Pclass_1          2.89%        3.89%             0.8%\n",
       "Parch              0.0%        3.29%            0.13%\n",
       "Embarked_Q         0.0%        0.63%            0.23%\n",
       "Embarked_C         0.0%        3.63%            0.38%"
      ]
     },
     "execution_count": 57,
     "metadata": {},
     "output_type": "execute_result"
    }
   ],
   "source": [
    "importances = pd.DataFrame.from_dict(sort_feature_importance(dtc, X_train), orient=\"index\").rename(columns={0: \"DecisionTree\"})\n",
    "importances[\"RandomForest\"] = pd.DataFrame.from_dict(sort_feature_importance(rfc, X_train), orient=\"index\")\n",
    "importances[\"GradientBoosting\"] = pd.DataFrame.from_dict(sort_feature_importance(gbc, X_train), orient=\"index\")\n",
    "importances"
   ]
  },
  {
   "cell_type": "code",
   "execution_count": 58,
   "metadata": {
    "ExecuteTime": {
     "end_time": "2023-07-17T17:10:01.305694900Z",
     "start_time": "2023-07-17T17:10:00.427940300Z"
    }
   },
   "outputs": [
    {
     "name": "stdout",
     "output_type": "stream",
     "text": [
      "[[31  6]\n",
      " [ 8  5]]\n",
      "              precision    recall  f1-score   support\n",
      "\n",
      "           0       0.79      0.84      0.82        37\n",
      "           1       0.45      0.38      0.42        13\n",
      "\n",
      "    accuracy                           0.72        50\n",
      "   macro avg       0.62      0.61      0.62        50\n",
      "weighted avg       0.71      0.72      0.71        50\n",
      "\n",
      "Decision Tree Model Accuracy = 72.0%\n"
     ]
    }
   ],
   "source": [
    "# assess model fit\n",
    "y_dtc_predict = dtc.predict(X_test)\n",
    "y_dtc_proba = dtc.predict_proba(X_test)\n",
    "print(confusion_matrix(Y_test, y_dtc_predict))\n",
    "print(classification_report(Y_test, y_dtc_predict))\n",
    "print(\"Decision Tree Model Accuracy = \" + str(np.round(dtc.score(X_test, Y_test)*100,2)) + \"%\")"
   ]
  },
  {
   "cell_type": "code",
   "execution_count": 59,
   "metadata": {
    "ExecuteTime": {
     "end_time": "2023-07-17T17:10:01.520039600Z",
     "start_time": "2023-07-17T17:10:00.628310300Z"
    }
   },
   "outputs": [
    {
     "name": "stdout",
     "output_type": "stream",
     "text": [
      "[[35  2]\n",
      " [10  3]]\n",
      "              precision    recall  f1-score   support\n",
      "\n",
      "           0       0.78      0.95      0.85        37\n",
      "           1       0.60      0.23      0.33        13\n",
      "\n",
      "    accuracy                           0.76        50\n",
      "   macro avg       0.69      0.59      0.59        50\n",
      "weighted avg       0.73      0.76      0.72        50\n",
      "\n",
      "Random Forest Model Accuracy = 76.0%\n"
     ]
    }
   ],
   "source": [
    "y_rfc_predict = rfc.predict(X_test)\n",
    "y_rfc_proba = rfc.predict_proba(X_test)\n",
    "print(confusion_matrix(Y_test, y_rfc_predict))\n",
    "print(classification_report(Y_test, y_rfc_predict))\n",
    "print(\"Random Forest Model Accuracy = \" + str(np.round(rfc.score(X_test, Y_test)*100,2)) + \"%\")"
   ]
  },
  {
   "cell_type": "code",
   "execution_count": 60,
   "metadata": {
    "ExecuteTime": {
     "end_time": "2023-07-17T17:10:01.653003800Z",
     "start_time": "2023-07-17T17:10:00.775266Z"
    }
   },
   "outputs": [
    {
     "name": "stdout",
     "output_type": "stream",
     "text": [
      "[[33  4]\n",
      " [ 9  4]]\n",
      "              precision    recall  f1-score   support\n",
      "\n",
      "           0       0.79      0.89      0.84        37\n",
      "           1       0.50      0.31      0.38        13\n",
      "\n",
      "    accuracy                           0.74        50\n",
      "   macro avg       0.64      0.60      0.61        50\n",
      "weighted avg       0.71      0.74      0.72        50\n",
      "\n",
      "Gradient Boosting Model Accuracy = 74.0%\n"
     ]
    }
   ],
   "source": [
    "y_gbc_predict = gbc.predict(X_test)\n",
    "y_gbc_proba = gbc.predict_proba(X_test)\n",
    "print(confusion_matrix(Y_test, y_gbc_predict))\n",
    "print(classification_report(Y_test, y_gbc_predict))\n",
    "print(\"Gradient Boosting Model Accuracy = \" + str(np.round(gbc.score(X_test, Y_test)*100,2)) + \"%\")"
   ]
  },
  {
   "cell_type": "markdown",
   "metadata": {
    "collapsed": false
   },
   "source": [
    "<a id='section_3'></a>"
   ]
  },
  {
   "cell_type": "markdown",
   "metadata": {},
   "source": [
    "## Create Score Tables"
   ]
  },
  {
   "cell_type": "code",
   "execution_count": 61,
   "metadata": {
    "ExecuteTime": {
     "end_time": "2023-07-17T17:10:01.784534700Z",
     "start_time": "2023-07-17T17:10:01.078350500Z"
    }
   },
   "outputs": [],
   "source": [
    "# recreating sex variable\n",
    "sex = X_test['Sex_female'].apply(lambda x: 'female' if x else 'male')"
   ]
  },
  {
   "cell_type": "code",
   "execution_count": 62,
   "metadata": {
    "ExecuteTime": {
     "end_time": "2023-07-17T17:10:01.956622500Z",
     "start_time": "2023-07-17T17:10:01.248853200Z"
    },
    "collapsed": false
   },
   "outputs": [
    {
     "data": {
      "text/plain": [
       "array([0, 1], dtype=int64)"
      ]
     },
     "execution_count": 62,
     "metadata": {},
     "output_type": "execute_result"
    }
   ],
   "source": [
    "dtc.classes_"
   ]
  },
  {
   "cell_type": "code",
   "execution_count": 63,
   "metadata": {
    "ExecuteTime": {
     "end_time": "2023-07-17T17:10:02.190659900Z",
     "start_time": "2023-07-17T17:10:01.388896800Z"
    },
    "collapsed": false
   },
   "outputs": [],
   "source": [
    "def build_score_table(model):\n",
    "    score_data = {'P_Survived1': model.predict_proba(X_test)[:,1],\n",
    "                  'P_Survived0': model.predict_proba(X_test)[:,0],\n",
    "                  'Survived': Y_test.to_numpy(),\n",
    "                  'Sex': sex}\n",
    "    data = pd.DataFrame(score_data)\n",
    "    return data"
   ]
  },
  {
   "cell_type": "code",
   "execution_count": 64,
   "metadata": {
    "ExecuteTime": {
     "end_time": "2023-07-17T17:10:02.456158100Z",
     "start_time": "2023-07-17T17:10:01.579980400Z"
    },
    "collapsed": false
   },
   "outputs": [],
   "source": [
    "score_tables = {\"DecisionTree\": build_score_table(dtc),\n",
    "                \"RandomForest\": build_score_table(rfc),\n",
    "                \"GradientBoost\": build_score_table(gbc)}"
   ]
  },
  {
   "cell_type": "code",
   "execution_count": 65,
   "metadata": {
    "ExecuteTime": {
     "end_time": "2023-07-17T17:10:02.632127400Z",
     "start_time": "2023-07-17T17:10:01.716828400Z"
    }
   },
   "outputs": [
    {
     "name": "stdout",
     "output_type": "stream",
     "text": [
      "DecisionTree \n",
      "     P_Survived1  P_Survived0  Survived     Sex\n",
      "21          0.0          1.0         1    male\n",
      "57          0.0          1.0         0    male\n",
      "50          0.0          1.0         0    male\n",
      "99          0.0          1.0         0    male\n",
      "71          1.0          0.0         0  female\n",
      "RandomForest \n",
      "     P_Survived1  P_Survived0  Survived     Sex\n",
      "21         0.06         0.94         1    male\n",
      "57         0.38         0.62         0    male\n",
      "50         0.23         0.77         0    male\n",
      "99         0.11         0.89         0    male\n",
      "71         0.41         0.59         0  female\n",
      "GradientBoost \n",
      "     P_Survived1  P_Survived0  Survived     Sex\n",
      "21     0.004533     0.995467         1    male\n",
      "57     0.092341     0.907659         0    male\n",
      "50     0.477515     0.522485         0    male\n",
      "99     0.009657     0.990343         0    male\n",
      "71     0.900963     0.099037         0  female\n"
     ]
    }
   ],
   "source": [
    "for k,v in score_tables.items():\n",
    "    print(f'{k} \\n {v.head()}')"
   ]
  },
  {
   "cell_type": "markdown",
   "metadata": {
    "collapsed": false
   },
   "source": [
    "<a id='section_4'></a>"
   ]
  },
  {
   "cell_type": "markdown",
   "metadata": {},
   "source": [
    "## Using `assess_model_bias()`"
   ]
  },
  {
   "cell_type": "code",
   "execution_count": 66,
   "metadata": {
    "ExecuteTime": {
     "end_time": "2023-07-17T17:10:12.432946300Z",
     "start_time": "2023-07-17T17:10:02.136004200Z"
    }
   },
   "outputs": [],
   "source": [
    "# setting up environment\n",
    "hostname = ''\n",
    "username = input(\"Username: \")\n",
    "password = getpass.getpass(\"Password: \") # changes required by user\n",
    "\n",
    "sess = Session(hostname, username, password, protocol='http')"
   ]
  },
  {
   "cell_type": "code",
   "execution_count": 67,
   "metadata": {
    "ExecuteTime": {
     "end_time": "2023-07-17T17:10:12.443348600Z",
     "start_time": "2023-07-17T17:10:12.431930300Z"
    }
   },
   "outputs": [],
   "source": [
    "# Model names\n",
    "model_prefix = [\"DecisionTree\", \"RandomForest\", \"GradientBoost\"]\n",
    "# Directory location for the model files\n",
    "zip_folder = [Path.cwd() / \"data/BiasMetrics/titanicModels/DecisionTree/\",\n",
    "             Path.cwd() / \"data/BiasMetrics/titanicModels/RandomForest/\",\n",
    "             Path.cwd() / \"data/BiasMetrics/titanicModels/GradientBoost/\"] # Changes required by user\n",
    "model = [dtc, rfc, gbc]"
   ]
  },
  {
   "cell_type": "code",
   "execution_count": null,
   "metadata": {
    "ExecuteTime": {
     "end_time": "2023-07-17T17:10:27.012742900Z",
     "start_time": "2023-07-17T17:10:12.448320500Z"
    }
   },
   "outputs": [],
   "source": [
    "# creating assess bias json files and getting dataframes\n",
    "assess_bias_dfs = {}\n",
    "\n",
    "for (model, path) in zip(model_prefix, zip_folder):\n",
    "    dfs = pzmm.JSONFiles.assess_model_bias(\n",
    "        score_table=score_tables[model],\n",
    "        actual_values='Survived', # actual classes\n",
    "        sensitive_values='Sex', # variable to assess for bias, can add more as a list\n",
    "        prob_values=['P_Survived1', 'P_Survived0'], # variables for predicted probabilities (classification), first class will be the target class\n",
    "        levels=['1', '0'], # same order as prob_values\n",
    "        json_path=path, # directory for json files, optional\n",
    "        return_dataframes=True # returns group metrics, bias metrics, and max differences data frames, default is False\n",
    "    )\n",
    "\n",
    "    assess_bias_dfs[model] = dfs"
   ]
  },
  {
   "cell_type": "markdown",
   "metadata": {
    "collapsed": false
   },
   "source": [
    "<a id='section_5'></a>"
   ]
  },
  {
   "cell_type": "markdown",
   "metadata": {},
   "source": [
    "## Assess Model Bias Output"
   ]
  },
  {
   "cell_type": "markdown",
   "metadata": {},
   "source": [
    "### Examples of the Data Frames"
   ]
  },
  {
   "cell_type": "code",
   "execution_count": 69,
   "metadata": {
    "ExecuteTime": {
     "end_time": "2023-07-17T17:10:27.035137Z",
     "start_time": "2023-07-17T17:10:27.012742900Z"
    }
   },
   "outputs": [
    {
     "data": {
      "text/html": [
       "<div>\n",
       "<style scoped>\n",
       "    .dataframe tbody tr th:only-of-type {\n",
       "        vertical-align: middle;\n",
       "    }\n",
       "\n",
       "    .dataframe tbody tr th {\n",
       "        vertical-align: top;\n",
       "    }\n",
       "\n",
       "    .dataframe thead th {\n",
       "        text-align: right;\n",
       "    }\n",
       "</style>\n",
       "<table border=\"1\" class=\"dataframe\">\n",
       "  <thead>\n",
       "    <tr style=\"text-align: right;\">\n",
       "      <th></th>\n",
       "      <th>INTO_EVENT</th>\n",
       "      <th>LEVEL</th>\n",
       "      <th>PREDICTED_EVENT</th>\n",
       "      <th>P_Survived0</th>\n",
       "      <th>P_Survived1</th>\n",
       "      <th>VLABEL</th>\n",
       "      <th>_DATAROLE_</th>\n",
       "      <th>_VARIABLE_</th>\n",
       "      <th>_acc_</th>\n",
       "      <th>_ase_</th>\n",
       "      <th>...</th>\n",
       "      <th>_mcll_</th>\n",
       "      <th>_misccutoff_</th>\n",
       "      <th>_miscks_</th>\n",
       "      <th>_nobs_</th>\n",
       "      <th>_rase_</th>\n",
       "      <th>_resp_</th>\n",
       "      <th>_tn_</th>\n",
       "      <th>_tnr_</th>\n",
       "      <th>_tp_</th>\n",
       "      <th>_tpr_</th>\n",
       "    </tr>\n",
       "  </thead>\n",
       "  <tbody>\n",
       "    <tr>\n",
       "      <th>0</th>\n",
       "      <td>0.266667</td>\n",
       "      <td>female</td>\n",
       "      <td>0.468000</td>\n",
       "      <td>0.532000</td>\n",
       "      <td>0.468000</td>\n",
       "      <td></td>\n",
       "      <td>TEST</td>\n",
       "      <td>Sex</td>\n",
       "      <td>0.466667</td>\n",
       "      <td>0.295813</td>\n",
       "      <td>...</td>\n",
       "      <td>0.827098</td>\n",
       "      <td>0.533333</td>\n",
       "      <td>0.266667</td>\n",
       "      <td>15.0</td>\n",
       "      <td>0.543887</td>\n",
       "      <td>0.0</td>\n",
       "      <td>4.0</td>\n",
       "      <td>0.80000</td>\n",
       "      <td>3.0</td>\n",
       "      <td>0.3</td>\n",
       "    </tr>\n",
       "    <tr>\n",
       "      <th>1</th>\n",
       "      <td>0.028571</td>\n",
       "      <td>male</td>\n",
       "      <td>0.180286</td>\n",
       "      <td>0.819714</td>\n",
       "      <td>0.180286</td>\n",
       "      <td></td>\n",
       "      <td>TEST</td>\n",
       "      <td>Sex</td>\n",
       "      <td>0.885714</td>\n",
       "      <td>0.108351</td>\n",
       "      <td>...</td>\n",
       "      <td>0.377885</td>\n",
       "      <td>0.114286</td>\n",
       "      <td>0.828571</td>\n",
       "      <td>35.0</td>\n",
       "      <td>0.329168</td>\n",
       "      <td>0.0</td>\n",
       "      <td>31.0</td>\n",
       "      <td>0.96875</td>\n",
       "      <td>0.0</td>\n",
       "      <td>0.0</td>\n",
       "    </tr>\n",
       "  </tbody>\n",
       "</table>\n",
       "<p>2 rows × 35 columns</p>\n",
       "</div>"
      ],
      "text/plain": [
       "   INTO_EVENT   LEVEL  PREDICTED_EVENT  P_Survived0  P_Survived1 VLABEL  \\\n",
       "0    0.266667  female         0.468000     0.532000     0.468000          \n",
       "1    0.028571    male         0.180286     0.819714     0.180286          \n",
       "\n",
       "  _DATAROLE_ _VARIABLE_     _acc_     _ase_  ...    _mcll_  _misccutoff_  \\\n",
       "0       TEST        Sex  0.466667  0.295813  ...  0.827098      0.533333   \n",
       "1       TEST        Sex  0.885714  0.108351  ...  0.377885      0.114286   \n",
       "\n",
       "   _miscks_  _nobs_    _rase_  _resp_  _tn_    _tnr_  _tp_  _tpr_  \n",
       "0  0.266667    15.0  0.543887     0.0   4.0  0.80000   3.0    0.3  \n",
       "1  0.828571    35.0  0.329168     0.0  31.0  0.96875   0.0    0.0  \n",
       "\n",
       "[2 rows x 35 columns]"
      ]
     },
     "execution_count": 69,
     "metadata": {},
     "output_type": "execute_result"
    }
   ],
   "source": [
    "assess_bias_dfs['RandomForest']['groupMetricsData'].head()"
   ]
  },
  {
   "cell_type": "code",
   "execution_count": 70,
   "metadata": {
    "ExecuteTime": {
     "end_time": "2023-07-17T17:10:27.114699800Z",
     "start_time": "2023-07-17T17:10:27.036147100Z"
    }
   },
   "outputs": [
    {
     "data": {
      "text/html": [
       "<div>\n",
       "<style scoped>\n",
       "    .dataframe tbody tr th:only-of-type {\n",
       "        vertical-align: middle;\n",
       "    }\n",
       "\n",
       "    .dataframe tbody tr th {\n",
       "        vertical-align: top;\n",
       "    }\n",
       "\n",
       "    .dataframe thead th {\n",
       "        text-align: right;\n",
       "    }\n",
       "</style>\n",
       "<table border=\"1\" class=\"dataframe\">\n",
       "  <thead>\n",
       "    <tr style=\"text-align: right;\">\n",
       "      <th></th>\n",
       "      <th>BASE</th>\n",
       "      <th>COMPARE</th>\n",
       "      <th>Metric</th>\n",
       "      <th>MetricLabel</th>\n",
       "      <th>VLABEL</th>\n",
       "      <th>_DATAROLE_</th>\n",
       "      <th>_VARIABLE_</th>\n",
       "      <th>maxdiff</th>\n",
       "    </tr>\n",
       "  </thead>\n",
       "  <tbody>\n",
       "    <tr>\n",
       "      <th>0</th>\n",
       "      <td>female</td>\n",
       "      <td>male</td>\n",
       "      <td>P_Survived1</td>\n",
       "      <td>Average P_Survived1</td>\n",
       "      <td></td>\n",
       "      <td>TEST</td>\n",
       "      <td>Sex</td>\n",
       "      <td>0.287714</td>\n",
       "    </tr>\n",
       "    <tr>\n",
       "      <th>1</th>\n",
       "      <td>male</td>\n",
       "      <td>female</td>\n",
       "      <td>P_Survived0</td>\n",
       "      <td>Average P_Survived0</td>\n",
       "      <td></td>\n",
       "      <td>TEST</td>\n",
       "      <td>Sex</td>\n",
       "      <td>0.287714</td>\n",
       "    </tr>\n",
       "    <tr>\n",
       "      <th>2</th>\n",
       "      <td>female</td>\n",
       "      <td>male</td>\n",
       "      <td>TPR</td>\n",
       "      <td>True Positive Rate</td>\n",
       "      <td></td>\n",
       "      <td>TEST</td>\n",
       "      <td>Sex</td>\n",
       "      <td>0.300000</td>\n",
       "    </tr>\n",
       "    <tr>\n",
       "      <th>3</th>\n",
       "      <td>female</td>\n",
       "      <td>male</td>\n",
       "      <td>FPR</td>\n",
       "      <td>False Positive Rate</td>\n",
       "      <td></td>\n",
       "      <td>TEST</td>\n",
       "      <td>Sex</td>\n",
       "      <td>0.168750</td>\n",
       "    </tr>\n",
       "    <tr>\n",
       "      <th>4</th>\n",
       "      <td>male</td>\n",
       "      <td>female</td>\n",
       "      <td>TNR</td>\n",
       "      <td>True Negative Rate</td>\n",
       "      <td></td>\n",
       "      <td>TEST</td>\n",
       "      <td>Sex</td>\n",
       "      <td>0.168750</td>\n",
       "    </tr>\n",
       "  </tbody>\n",
       "</table>\n",
       "</div>"
      ],
      "text/plain": [
       "     BASE COMPARE       Metric          MetricLabel VLABEL _DATAROLE_  \\\n",
       "0  female    male  P_Survived1  Average P_Survived1              TEST   \n",
       "1    male  female  P_Survived0  Average P_Survived0              TEST   \n",
       "2  female    male          TPR   True Positive Rate              TEST   \n",
       "3  female    male          FPR  False Positive Rate              TEST   \n",
       "4    male  female          TNR   True Negative Rate              TEST   \n",
       "\n",
       "  _VARIABLE_   maxdiff  \n",
       "0        Sex  0.287714  \n",
       "1        Sex  0.287714  \n",
       "2        Sex  0.300000  \n",
       "3        Sex  0.168750  \n",
       "4        Sex  0.168750  "
      ]
     },
     "execution_count": 70,
     "metadata": {},
     "output_type": "execute_result"
    }
   ],
   "source": [
    "assess_bias_dfs['RandomForest']['maxDifferencesData'].head()"
   ]
  },
  {
   "cell_type": "code",
   "execution_count": 71,
   "metadata": {
    "ExecuteTime": {
     "end_time": "2023-07-17T17:10:27.115706300Z",
     "start_time": "2023-07-17T17:10:27.055734500Z"
    }
   },
   "outputs": [
    {
     "data": {
      "text/html": [
       "<div>\n",
       "<style scoped>\n",
       "    .dataframe tbody tr th:only-of-type {\n",
       "        vertical-align: middle;\n",
       "    }\n",
       "\n",
       "    .dataframe tbody tr th {\n",
       "        vertical-align: top;\n",
       "    }\n",
       "\n",
       "    .dataframe thead th {\n",
       "        text-align: right;\n",
       "    }\n",
       "</style>\n",
       "<table border=\"1\" class=\"dataframe\">\n",
       "  <thead>\n",
       "    <tr style=\"text-align: right;\">\n",
       "      <th></th>\n",
       "      <th>Metric</th>\n",
       "      <th>MetricLabel</th>\n",
       "      <th>Value</th>\n",
       "      <th>Base</th>\n",
       "      <th>Compare</th>\n",
       "      <th>Note</th>\n",
       "      <th>_VARIABLE_</th>\n",
       "    </tr>\n",
       "  </thead>\n",
       "  <tbody>\n",
       "    <tr>\n",
       "      <th>0</th>\n",
       "      <td>DemographicParity</td>\n",
       "      <td>Demographic Parity (Statistical Parity)</td>\n",
       "      <td>0.238095</td>\n",
       "      <td>female</td>\n",
       "      <td>male</td>\n",
       "      <td></td>\n",
       "      <td>Sex</td>\n",
       "    </tr>\n",
       "    <tr>\n",
       "      <th>1</th>\n",
       "      <td>PredictiveParity</td>\n",
       "      <td>Predictive Parity</td>\n",
       "      <td>0.287714</td>\n",
       "      <td>female</td>\n",
       "      <td>male</td>\n",
       "      <td></td>\n",
       "      <td>Sex</td>\n",
       "    </tr>\n",
       "    <tr>\n",
       "      <th>2</th>\n",
       "      <td>EqualAccuracy</td>\n",
       "      <td>Equal Accuracy</td>\n",
       "      <td>0.419048</td>\n",
       "      <td>male</td>\n",
       "      <td>female</td>\n",
       "      <td></td>\n",
       "      <td>Sex</td>\n",
       "    </tr>\n",
       "    <tr>\n",
       "      <th>3</th>\n",
       "      <td>EqualizedOdds</td>\n",
       "      <td>Equalized Odds</td>\n",
       "      <td>0.300000</td>\n",
       "      <td>female</td>\n",
       "      <td>male</td>\n",
       "      <td>The maximum TPR difference is greater than the...</td>\n",
       "      <td>Sex</td>\n",
       "    </tr>\n",
       "    <tr>\n",
       "      <th>4</th>\n",
       "      <td>EqualOpportunity</td>\n",
       "      <td>Equal Opportunity</td>\n",
       "      <td>0.300000</td>\n",
       "      <td>female</td>\n",
       "      <td>male</td>\n",
       "      <td></td>\n",
       "      <td>Sex</td>\n",
       "    </tr>\n",
       "  </tbody>\n",
       "</table>\n",
       "</div>"
      ],
      "text/plain": [
       "              Metric                              MetricLabel     Value  \\\n",
       "0  DemographicParity  Demographic Parity (Statistical Parity)  0.238095   \n",
       "1   PredictiveParity                        Predictive Parity  0.287714   \n",
       "2      EqualAccuracy                           Equal Accuracy  0.419048   \n",
       "3      EqualizedOdds                           Equalized Odds  0.300000   \n",
       "4   EqualOpportunity                        Equal Opportunity  0.300000   \n",
       "\n",
       "     Base Compare                                               Note  \\\n",
       "0  female    male                                                      \n",
       "1  female    male                                                      \n",
       "2    male  female                                                      \n",
       "3  female    male  The maximum TPR difference is greater than the...   \n",
       "4  female    male                                                      \n",
       "\n",
       "  _VARIABLE_  \n",
       "0        Sex  \n",
       "1        Sex  \n",
       "2        Sex  \n",
       "3        Sex  \n",
       "4        Sex  "
      ]
     },
     "execution_count": 71,
     "metadata": {},
     "output_type": "execute_result"
    }
   ],
   "source": [
    "assess_bias_dfs['RandomForest']['biasMetricsData'].head()"
   ]
  },
  {
   "cell_type": "code",
   "execution_count": 72,
   "metadata": {
    "ExecuteTime": {
     "end_time": "2023-07-17T17:10:27.115706300Z",
     "start_time": "2023-07-17T17:10:27.068458100Z"
    }
   },
   "outputs": [],
   "source": [
    "gm_dtc = assess_bias_dfs['DecisionTree']['groupMetricsData']\n",
    "gm_rfc = assess_bias_dfs['RandomForest']['groupMetricsData']\n",
    "gm_gbc = assess_bias_dfs['GradientBoost']['groupMetricsData']"
   ]
  },
  {
   "cell_type": "code",
   "execution_count": 73,
   "metadata": {
    "ExecuteTime": {
     "end_time": "2023-07-17T17:10:27.159808400Z",
     "start_time": "2023-07-17T17:10:27.082412700Z"
    }
   },
   "outputs": [],
   "source": [
    "md_dtc = assess_bias_dfs['DecisionTree']['maxDifferencesData']\n",
    "md_rfc = assess_bias_dfs['RandomForest']['maxDifferencesData']\n",
    "md_gbc = assess_bias_dfs['GradientBoost']['maxDifferencesData']"
   ]
  },
  {
   "cell_type": "markdown",
   "metadata": {},
   "source": [
    "### Performance Bias\n",
    "\n",
    "The following are examples of graphs created by Model Studio using the `assess_model_bias()` output."
   ]
  },
  {
   "cell_type": "code",
   "execution_count": 74,
   "metadata": {
    "ExecuteTime": {
     "end_time": "2023-07-17T17:10:27.160313600Z",
     "start_time": "2023-07-17T17:10:27.096116200Z"
    }
   },
   "outputs": [],
   "source": [
    "plt.rcParams[\"figure.figsize\"] = [7, 4]\n",
    "plt.rcParams[\"figure.autolayout\"] = True"
   ]
  },
  {
   "cell_type": "markdown",
   "metadata": {},
   "source": [
    "Log Loss: $$L_{log}(y|p) = -(ylog(p) + (1-y)log(1-p))$$\n",
    "Log loss measures accuracy and uncertainty. Lower values indicate either higher accuracy and or higher certainty. Here, the male category has better log loss values across the board. The random forest model minimizes this difference."
   ]
  },
  {
   "cell_type": "code",
   "execution_count": 75,
   "metadata": {
    "ExecuteTime": {
     "end_time": "2023-07-17T17:10:27.969971300Z",
     "start_time": "2023-07-17T17:10:27.108177100Z"
    }
   },
   "outputs": [
    {
     "data": {
      "image/png": "[encoded data removed]",
      "text/plain": [
       "<Figure size 700x400 with 3 Axes>"
      ]
     },
     "metadata": {},
     "output_type": "display_data"
    }
   ],
   "source": [
    "fig, axes = plt.subplots(1, 3)\n",
    "fig.suptitle(\"Log Loss by Model\")\n",
    "\n",
    "sns.barplot(data=gm_dtc, x=\"LEVEL\", y='_mcll_', ax=axes[0]).set(title=\"Decision Tree\")\n",
    "sns.barplot(data=gm_rfc, x=\"LEVEL\", y='_mcll_', ax=axes[1]).set(title=\"Random Forest\")\n",
    "sns.barplot(data=gm_gbc, x=\"LEVEL\", y='_mcll_', ax=axes[2]).set(title=\"Gradient Boosting\")\n",
    "\n",
    "plt.show()"
   ]
  },
  {
   "cell_type": "code",
   "execution_count": 76,
   "metadata": {
    "ExecuteTime": {
     "end_time": "2023-07-17T17:10:28.285897Z",
     "start_time": "2023-07-17T17:10:27.954861300Z"
    }
   },
   "outputs": [
    {
     "data": {
      "image/png": "[encoded data removed]",
      "text/plain": [
       "<Figure size 700x400 with 1 Axes>"
      ]
     },
     "metadata": {},
     "output_type": "display_data"
    }
   ],
   "source": [
    "md_mcll = [md_dtc[md_dtc['Metric'] == 'MCLL']['maxdiff'], md_rfc[md_rfc['Metric'] == 'MCLL']['maxdiff'], md_gbc[md_gbc['Metric'] == 'MCLL']['maxdiff']]\n",
    "md_mcll = [x.values[0] for x in md_mcll]\n",
    "sns.barplot(x=['Decision Tree', 'Random Forest', 'Gradient Boosting'], y = md_mcll).set(title=\"Maximum Log Loss Difference by Model\");"
   ]
  },
  {
   "cell_type": "markdown",
   "metadata": {},
   "source": []
  },
  {
   "cell_type": "markdown",
   "metadata": {},
   "source": [
    "True Positive Rate: $$\\frac{TP} {TP+FN}$$\n",
    "Higher true positive rates, or sensitivity, indicate that a higher portion of observations in the positive class were correctly classified. This metric coincides with the concept of equal opportunity. Equal opportunity states that groups of people who qualify for something are accepted at equal rates to other groups. No males were predicted to survive in this example, so the true positive rate for this category is 0. The random forest model has the smallest true positive rate difference, but it also has the lowest overall true positive rate."
   ]
  },
  {
   "cell_type": "code",
   "execution_count": 77,
   "metadata": {
    "ExecuteTime": {
     "end_time": "2023-07-17T17:10:29.828697900Z",
     "start_time": "2023-07-17T17:10:28.288399700Z"
    }
   },
   "outputs": [
    {
     "data": {
      "image/png": "[encoded data removed]",
      "text/plain": [
       "<Figure size 700x400 with 3 Axes>"
      ]
     },
     "metadata": {},
     "output_type": "display_data"
    }
   ],
   "source": [
    "fig, axes = plt.subplots(1, 3)\n",
    "fig.suptitle(\"True Positive Rate by Model\")\n",
    "\n",
    "sns.barplot(data=gm_dtc, x=\"LEVEL\", y='_tpr_', ax=axes[0]).set(title=\"Decision Tree\")\n",
    "sns.barplot(data=gm_rfc, x=\"LEVEL\", y='_tpr_', ax=axes[1]).set(title=\"Random Forest\")\n",
    "sns.barplot(data=gm_gbc, x=\"LEVEL\", y='_tpr_', ax=axes[2]).set(title=\"Gradient Boosting\")\n",
    "\n",
    "plt.show()"
   ]
  },
  {
   "cell_type": "code",
   "execution_count": null,
   "metadata": {
    "ExecuteTime": {
     "end_time": "2023-07-17T17:10:30.207870200Z",
     "start_time": "2023-07-17T17:10:29.854310600Z"
    }
   },
   "outputs": [
    {
     "data": {
      "image/png": "[encoded data removed]",
      "text/plain": [
       "<Figure size 700x400 with 1 Axes>"
      ]
     },
     "metadata": {},
     "output_type": "display_data"
    }
   ],
   "source": [
    "md_tpr = [md_dtc[md_dtc['Metric'] == 'TPR']['maxdiff'], md_rfc[md_rfc['Metric'] == 'TPR']['maxdiff'], md_gbc[md_gbc['Metric'] == 'TPR']['maxdiff']]\n",
    "md_tpr = [x.values[0] for x in md_tpr]\n",
    "sns.barplot(x=['Decision Tree', 'Random Forest', 'Gradient Boosting'], y = md_tpr).set(title=\"Maximum True Positive Rate Difference by Model\");"
   ]
  },
  {
   "cell_type": "markdown",
   "metadata": {},
   "source": [
    "Max Kolmogorov-Smirnov: $$max(\\mid{F_{Survive=1}(x) - F_{Survive=0}(x)\\mid)$$\n",
    "\n",
    "The maximum Kolmogorov-Smirnov statistic for binary classification problem is the maximum CDF difference between the predicted probability distributions of each level of the target variable. Higher values indicate that a binary classification model is more capable of distinguishing between the two classes. Except for the decision tree model, the models are better at distinguishing survival and death for females compared to males. The decision tree classifier minimizes the max ks difference between the two groups, but it also has the worst possible ks score."
   ]
  },
  {
   "cell_type": "code",
   "execution_count": 79,
   "metadata": {
    "ExecuteTime": {
     "end_time": "2023-07-17T17:10:30.723978200Z",
     "start_time": "2023-07-17T17:10:30.208874300Z"
    }
   },
   "outputs": [
    {
     "data": {
      "image/png": "[encoded data removed]",
      "text/plain": [
       "<Figure size 700x400 with 3 Axes>"
      ]
     },
     "metadata": {},
     "output_type": "display_data"
    }
   ],
   "source": [
    "fig, axes = plt.subplots(1, 3)\n",
    "fig.suptitle(\"Best Kolmogorov-Smirnov along ROC by Model\")\n",
    "\n",
    "sns.barplot(data=assess_bias_dfs['DecisionTree']['groupMetricsData'], x=\"LEVEL\", y='_ks_', ax=axes[0]).set(title=\"Decision Tree\")\n",
    "sns.barplot(data=assess_bias_dfs['RandomForest']['groupMetricsData'], x=\"LEVEL\", y='_ks_', ax=axes[1]).set(title=\"Random Forest\")\n",
    "sns.barplot(data=assess_bias_dfs['GradientBoost']['groupMetricsData'], x=\"LEVEL\", y='_ks_', ax=axes[2]).set(title=\"Gradient Boosting\")\n",
    "\n",
    "plt.show()"
   ]
  },
  {
   "cell_type": "code",
   "execution_count": 80,
   "metadata": {
    "ExecuteTime": {
     "end_time": "2023-07-17T17:10:31.026041400Z",
     "start_time": "2023-07-17T17:10:30.725687200Z"
    }
   },
   "outputs": [
    {
     "data": {
      "image/png": "[encoded data removed]",
      "text/plain": [
       "<Figure size 700x400 with 1 Axes>"
      ]
     },
     "metadata": {},
     "output_type": "display_data"
    }
   ],
   "source": [
    "md_ks = [md_dtc[md_dtc['Metric'] == 'maxKS']['maxdiff'], md_rfc[md_rfc['Metric'] == 'maxKS']['maxdiff'], md_gbc[md_gbc['Metric'] == 'maxKS']['maxdiff']]\n",
    "md_ks = [x.values[0] for x in md_ks]\n",
    "sns.barplot(x=['Decision Tree', 'Random Forest', 'Gradient Boosting'], y = md_ks).set(title=\"Maximum Best KS Difference by Model\");"
   ]
  },
  {
   "cell_type": "markdown",
   "metadata": {},
   "source": [
    "### Average Prediction for Event"
   ]
  },
  {
   "cell_type": "markdown",
   "metadata": {},
   "source": [
    "The predicted event metric is the average predicted probability of the target class. The metric coincides with the concept of predictive parity where ideally each group has the same probability of an event. In this case, the event of interest is survival and the female category has a much higher predicted probability of surviving. The random forest model produces the lowest difference."
   ]
  },
  {
   "cell_type": "code",
   "execution_count": 81,
   "metadata": {
    "ExecuteTime": {
     "end_time": "2023-07-17T17:10:31.527868100Z",
     "start_time": "2023-07-17T17:10:31.027042600Z"
    }
   },
   "outputs": [
    {
     "data": {
      "image/png": "[encoded data removed]",
      "text/plain": [
       "<Figure size 700x400 with 3 Axes>"
      ]
     },
     "metadata": {},
     "output_type": "display_data"
    }
   ],
   "source": [
    "fig, axes = plt.subplots(1, 3)\n",
    "fig.suptitle(\"Predicted Probability of Survival by Model\")\n",
    "\n",
    "sns.barplot(data=assess_bias_dfs['DecisionTree']['groupMetricsData'], x=\"LEVEL\", y='PREDICTED_EVENT', ax=axes[0]).set(title=\"Decision Tree\")\n",
    "sns.barplot(data=assess_bias_dfs['RandomForest']['groupMetricsData'], x=\"LEVEL\", y='PREDICTED_EVENT', ax=axes[1]).set(title=\"Random Forest\")\n",
    "sns.barplot(data=assess_bias_dfs['GradientBoost']['groupMetricsData'], x=\"LEVEL\", y='PREDICTED_EVENT', ax=axes[2]).set(title=\"Gradient Boosting\")\n",
    "\n",
    "plt.show()"
   ]
  },
  {
   "cell_type": "code",
   "execution_count": 82,
   "metadata": {
    "ExecuteTime": {
     "end_time": "2023-07-17T17:10:31.840691900Z",
     "start_time": "2023-07-17T17:10:31.526869300Z"
    }
   },
   "outputs": [
    {
     "data": {
      "image/png": "[encoded data removed]",
      "text/plain": [
       "<Figure size 700x400 with 1 Axes>"
      ]
     },
     "metadata": {},
     "output_type": "display_data"
    }
   ],
   "source": [
    "md_pe = [md_dtc[md_dtc['Metric'] == 'PREDICTED_EVENT']['maxdiff'], md_rfc[md_rfc['Metric'] == 'PREDICTED_EVENT']['maxdiff'], md_gbc[md_gbc['Metric'] == 'PREDICTED_EVENT']['maxdiff']]\n",
    "md_pe = [x.values[0] for x in md_pe]\n",
    "sns.barplot(x=['Decision Tree', 'Random Forest', 'Gradient Boosting'], y = md_pe).set(title=\"Maximum Predicted Probability of Survival Difference by Model\");"
   ]
  },
  {
   "cell_type": "markdown",
   "metadata": {
    "collapsed": false
   },
   "source": [
    "<a id='section_6'></a>"
   ]
  },
  {
   "cell_type": "markdown",
   "metadata": {},
   "source": [
    "## Multi-classification Example\n",
    "This section provides a quick overview for how to assess bias on a multi-classification model and the corresponding outputs. This example will also use the titanic dataset."
   ]
  },
  {
   "cell_type": "markdown",
   "metadata": {},
   "source": [
    "### Load and Pre-process Data"
   ]
  },
  {
   "cell_type": "code",
   "execution_count": 83,
   "metadata": {
    "ExecuteTime": {
     "end_time": "2023-07-17T17:10:31.854558200Z",
     "start_time": "2023-07-17T17:10:31.850034200Z"
    }
   },
   "outputs": [
    {
     "data": {
      "text/html": [
       "<div>\n",
       "<style scoped>\n",
       "    .dataframe tbody tr th:only-of-type {\n",
       "        vertical-align: middle;\n",
       "    }\n",
       "\n",
       "    .dataframe tbody tr th {\n",
       "        vertical-align: top;\n",
       "    }\n",
       "\n",
       "    .dataframe thead th {\n",
       "        text-align: right;\n",
       "    }\n",
       "</style>\n",
       "<table border=\"1\" class=\"dataframe\">\n",
       "  <thead>\n",
       "    <tr style=\"text-align: right;\">\n",
       "      <th></th>\n",
       "      <th>PassengerId</th>\n",
       "      <th>Survived</th>\n",
       "      <th>Pclass</th>\n",
       "      <th>Lname</th>\n",
       "      <th>Name</th>\n",
       "      <th>Sex</th>\n",
       "      <th>Age</th>\n",
       "      <th>SibSp</th>\n",
       "      <th>Parch</th>\n",
       "      <th>Ticket</th>\n",
       "      <th>Fare</th>\n",
       "      <th>Cabin</th>\n",
       "      <th>Embarked</th>\n",
       "    </tr>\n",
       "  </thead>\n",
       "  <tbody>\n",
       "    <tr>\n",
       "      <th>0</th>\n",
       "      <td>1</td>\n",
       "      <td>0</td>\n",
       "      <td>3</td>\n",
       "      <td>Braund</td>\n",
       "      <td>Mr. Owen Harris</td>\n",
       "      <td>male</td>\n",
       "      <td>22.0</td>\n",
       "      <td>1</td>\n",
       "      <td>0</td>\n",
       "      <td>A/5 21171</td>\n",
       "      <td>7.2500</td>\n",
       "      <td>NaN</td>\n",
       "      <td>S</td>\n",
       "    </tr>\n",
       "    <tr>\n",
       "      <th>1</th>\n",
       "      <td>2</td>\n",
       "      <td>1</td>\n",
       "      <td>1</td>\n",
       "      <td>Cumings</td>\n",
       "      <td>Mrs. John Bradley (Florence Briggs Thayer)</td>\n",
       "      <td>female</td>\n",
       "      <td>38.0</td>\n",
       "      <td>1</td>\n",
       "      <td>0</td>\n",
       "      <td>PC 17599</td>\n",
       "      <td>71.2833</td>\n",
       "      <td>C85</td>\n",
       "      <td>C</td>\n",
       "    </tr>\n",
       "    <tr>\n",
       "      <th>2</th>\n",
       "      <td>3</td>\n",
       "      <td>1</td>\n",
       "      <td>3</td>\n",
       "      <td>Heikkinen</td>\n",
       "      <td>Miss. Laina</td>\n",
       "      <td>female</td>\n",
       "      <td>26.0</td>\n",
       "      <td>0</td>\n",
       "      <td>0</td>\n",
       "      <td>STON/O2. 3101282</td>\n",
       "      <td>7.9250</td>\n",
       "      <td>NaN</td>\n",
       "      <td>S</td>\n",
       "    </tr>\n",
       "    <tr>\n",
       "      <th>3</th>\n",
       "      <td>4</td>\n",
       "      <td>1</td>\n",
       "      <td>1</td>\n",
       "      <td>Futrelle</td>\n",
       "      <td>Mrs. Jacques Heath (Lily May Peel)</td>\n",
       "      <td>female</td>\n",
       "      <td>35.0</td>\n",
       "      <td>1</td>\n",
       "      <td>0</td>\n",
       "      <td>113803</td>\n",
       "      <td>53.1000</td>\n",
       "      <td>C123</td>\n",
       "      <td>S</td>\n",
       "    </tr>\n",
       "    <tr>\n",
       "      <th>4</th>\n",
       "      <td>5</td>\n",
       "      <td>0</td>\n",
       "      <td>3</td>\n",
       "      <td>Allen</td>\n",
       "      <td>Mr. William Henry</td>\n",
       "      <td>male</td>\n",
       "      <td>35.0</td>\n",
       "      <td>0</td>\n",
       "      <td>0</td>\n",
       "      <td>373450</td>\n",
       "      <td>8.0500</td>\n",
       "      <td>NaN</td>\n",
       "      <td>S</td>\n",
       "    </tr>\n",
       "  </tbody>\n",
       "</table>\n",
       "</div>"
      ],
      "text/plain": [
       "   PassengerId  Survived  Pclass      Lname  \\\n",
       "0            1         0       3     Braund   \n",
       "1            2         1       1    Cumings   \n",
       "2            3         1       3  Heikkinen   \n",
       "3            4         1       1   Futrelle   \n",
       "4            5         0       3      Allen   \n",
       "\n",
       "                                          Name     Sex   Age  SibSp  Parch  \\\n",
       "0                              Mr. Owen Harris    male  22.0      1      0   \n",
       "1   Mrs. John Bradley (Florence Briggs Thayer)  female  38.0      1      0   \n",
       "2                                  Miss. Laina  female  26.0      0      0   \n",
       "3           Mrs. Jacques Heath (Lily May Peel)  female  35.0      1      0   \n",
       "4                            Mr. William Henry    male  35.0      0      0   \n",
       "\n",
       "             Ticket     Fare Cabin Embarked  \n",
       "0         A/5 21171   7.2500   NaN        S  \n",
       "1          PC 17599  71.2833   C85        C  \n",
       "2  STON/O2. 3101282   7.9250   NaN        S  \n",
       "3            113803  53.1000  C123        S  \n",
       "4            373450   8.0500   NaN        S  "
      ]
     },
     "execution_count": 83,
     "metadata": {},
     "output_type": "execute_result"
    }
   ],
   "source": [
    "df_raw.head()"
   ]
  },
  {
   "cell_type": "code",
   "execution_count": 84,
   "metadata": {
    "ExecuteTime": {
     "end_time": "2023-07-17T17:10:31.867741100Z",
     "start_time": "2023-07-17T17:10:31.857554700Z"
    }
   },
   "outputs": [],
   "source": [
    "columns = ['Survived', 'Pclass', 'Sex', 'Age', 'SibSp', 'Parch', 'Fare', 'Embarked']\n",
    "df = df_raw[columns].dropna()\n",
    "df = pd.get_dummies(df, columns=['Sex', 'Embarked'])\n",
    "df['Survived'] = df['Survived'].astype(str)"
   ]
  },
  {
   "cell_type": "code",
   "execution_count": 85,
   "metadata": {
    "ExecuteTime": {
     "end_time": "2023-07-17T17:10:31.948617600Z",
     "start_time": "2023-07-17T17:10:31.873301100Z"
    }
   },
   "outputs": [
    {
     "data": {
      "text/html": [
       "<div>\n",
       "<style scoped>\n",
       "    .dataframe tbody tr th:only-of-type {\n",
       "        vertical-align: middle;\n",
       "    }\n",
       "\n",
       "    .dataframe tbody tr th {\n",
       "        vertical-align: top;\n",
       "    }\n",
       "\n",
       "    .dataframe thead th {\n",
       "        text-align: right;\n",
       "    }\n",
       "</style>\n",
       "<table border=\"1\" class=\"dataframe\">\n",
       "  <thead>\n",
       "    <tr style=\"text-align: right;\">\n",
       "      <th></th>\n",
       "      <th>Survived</th>\n",
       "      <th>Pclass</th>\n",
       "      <th>Age</th>\n",
       "      <th>SibSp</th>\n",
       "      <th>Parch</th>\n",
       "      <th>Fare</th>\n",
       "      <th>Sex_female</th>\n",
       "      <th>Embarked_C</th>\n",
       "      <th>Embarked_Q</th>\n",
       "    </tr>\n",
       "  </thead>\n",
       "  <tbody>\n",
       "    <tr>\n",
       "      <th>0</th>\n",
       "      <td>0</td>\n",
       "      <td>3</td>\n",
       "      <td>22.0</td>\n",
       "      <td>1</td>\n",
       "      <td>0</td>\n",
       "      <td>7.2500</td>\n",
       "      <td>False</td>\n",
       "      <td>False</td>\n",
       "      <td>False</td>\n",
       "    </tr>\n",
       "    <tr>\n",
       "      <th>1</th>\n",
       "      <td>1</td>\n",
       "      <td>1</td>\n",
       "      <td>38.0</td>\n",
       "      <td>1</td>\n",
       "      <td>0</td>\n",
       "      <td>71.2833</td>\n",
       "      <td>True</td>\n",
       "      <td>True</td>\n",
       "      <td>False</td>\n",
       "    </tr>\n",
       "    <tr>\n",
       "      <th>2</th>\n",
       "      <td>1</td>\n",
       "      <td>3</td>\n",
       "      <td>26.0</td>\n",
       "      <td>0</td>\n",
       "      <td>0</td>\n",
       "      <td>7.9250</td>\n",
       "      <td>True</td>\n",
       "      <td>False</td>\n",
       "      <td>False</td>\n",
       "    </tr>\n",
       "    <tr>\n",
       "      <th>3</th>\n",
       "      <td>1</td>\n",
       "      <td>1</td>\n",
       "      <td>35.0</td>\n",
       "      <td>1</td>\n",
       "      <td>0</td>\n",
       "      <td>53.1000</td>\n",
       "      <td>True</td>\n",
       "      <td>False</td>\n",
       "      <td>False</td>\n",
       "    </tr>\n",
       "    <tr>\n",
       "      <th>4</th>\n",
       "      <td>0</td>\n",
       "      <td>3</td>\n",
       "      <td>35.0</td>\n",
       "      <td>0</td>\n",
       "      <td>0</td>\n",
       "      <td>8.0500</td>\n",
       "      <td>False</td>\n",
       "      <td>False</td>\n",
       "      <td>False</td>\n",
       "    </tr>\n",
       "  </tbody>\n",
       "</table>\n",
       "</div>"
      ],
      "text/plain": [
       "  Survived  Pclass   Age  SibSp  Parch     Fare  Sex_female  Embarked_C  \\\n",
       "0        0       3  22.0      1      0   7.2500       False       False   \n",
       "1        1       1  38.0      1      0  71.2833        True        True   \n",
       "2        1       3  26.0      0      0   7.9250        True       False   \n",
       "3        1       1  35.0      1      0  53.1000        True       False   \n",
       "4        0       3  35.0      0      0   8.0500       False       False   \n",
       "\n",
       "   Embarked_Q  \n",
       "0       False  \n",
       "1       False  \n",
       "2       False  \n",
       "3       False  \n",
       "4       False  "
      ]
     },
     "execution_count": 85,
     "metadata": {},
     "output_type": "execute_result"
    }
   ],
   "source": [
    "df = df.drop(['Sex_male', 'Embarked_S'], axis=1)\n",
    "df.head()"
   ]
  },
  {
   "cell_type": "markdown",
   "metadata": {},
   "source": [
    "### Train Python Model"
   ]
  },
  {
   "cell_type": "code",
   "execution_count": 86,
   "metadata": {
    "ExecuteTime": {
     "end_time": "2023-07-17T17:10:31.948617600Z",
     "start_time": "2023-07-17T17:10:31.891340400Z"
    }
   },
   "outputs": [],
   "source": [
    "features = df.drop('Pclass', axis=1).columns\n",
    "target = 'Pclass'\n",
    "\n",
    "X_train, X_test, Y_train, Y_test = train_test_split(df[features], df[target], train_size=0.6, test_size=0.4,\n",
    "                                                    random_state=42)"
   ]
  },
  {
   "cell_type": "code",
   "execution_count": 87,
   "metadata": {
    "ExecuteTime": {
     "end_time": "2023-07-17T17:10:32.222662500Z",
     "start_time": "2023-07-17T17:10:31.907710300Z"
    }
   },
   "outputs": [
    {
     "data": {
      "text/html": [
       "<style>#sk-container-id-4 {color: black;background-color: white;}#sk-container-id-4 pre{padding: 0;}#sk-container-id-4 div.sk-toggleable {background-color: white;}#sk-container-id-4 label.sk-toggleable__label {cursor: pointer;display: block;width: 100%;margin-bottom: 0;padding: 0.3em;box-sizing: border-box;text-align: center;}#sk-container-id-4 label.sk-toggleable__label-arrow:before {content: \"▸\";float: left;margin-right: 0.25em;color: #696969;}#sk-container-id-4 label.sk-toggleable__label-arrow:hover:before {color: black;}#sk-container-id-4 div.sk-estimator:hover label.sk-toggleable__label-arrow:before {color: black;}#sk-container-id-4 div.sk-toggleable__content {max-height: 0;max-width: 0;overflow: hidden;text-align: left;background-color: #f0f8ff;}#sk-container-id-4 div.sk-toggleable__content pre {margin: 0.2em;color: black;border-radius: 0.25em;background-color: #f0f8ff;}#sk-container-id-4 input.sk-toggleable__control:checked~div.sk-toggleable__content {max-height: 200px;max-width: 100%;overflow: auto;}#sk-container-id-4 input.sk-toggleable__control:checked~label.sk-toggleable__label-arrow:before {content: \"▾\";}#sk-container-id-4 div.sk-estimator input.sk-toggleable__control:checked~label.sk-toggleable__label {background-color: #d4ebff;}#sk-container-id-4 div.sk-label input.sk-toggleable__control:checked~label.sk-toggleable__label {background-color: #d4ebff;}#sk-container-id-4 input.sk-hidden--visually {border: 0;clip: rect(1px 1px 1px 1px);clip: rect(1px, 1px, 1px, 1px);height: 1px;margin: -1px;overflow: hidden;padding: 0;position: absolute;width: 1px;}#sk-container-id-4 div.sk-estimator {font-family: monospace;background-color: #f0f8ff;border: 1px dotted black;border-radius: 0.25em;box-sizing: border-box;margin-bottom: 0.5em;}#sk-container-id-4 div.sk-estimator:hover {background-color: #d4ebff;}#sk-container-id-4 div.sk-parallel-item::after {content: \"\";width: 100%;border-bottom: 1px solid gray;flex-grow: 1;}#sk-container-id-4 div.sk-label:hover label.sk-toggleable__label {background-color: #d4ebff;}#sk-container-id-4 div.sk-serial::before {content: \"\";position: absolute;border-left: 1px solid gray;box-sizing: border-box;top: 0;bottom: 0;left: 50%;z-index: 0;}#sk-container-id-4 div.sk-serial {display: flex;flex-direction: column;align-items: center;background-color: white;padding-right: 0.2em;padding-left: 0.2em;position: relative;}#sk-container-id-4 div.sk-item {position: relative;z-index: 1;}#sk-container-id-4 div.sk-parallel {display: flex;align-items: stretch;justify-content: center;background-color: white;position: relative;}#sk-container-id-4 div.sk-item::before, #sk-container-id-4 div.sk-parallel-item::before {content: \"\";position: absolute;border-left: 1px solid gray;box-sizing: border-box;top: 0;bottom: 0;left: 50%;z-index: -1;}#sk-container-id-4 div.sk-parallel-item {display: flex;flex-direction: column;z-index: 1;position: relative;background-color: white;}#sk-container-id-4 div.sk-parallel-item:first-child::after {align-self: flex-end;width: 50%;}#sk-container-id-4 div.sk-parallel-item:last-child::after {align-self: flex-start;width: 50%;}#sk-container-id-4 div.sk-parallel-item:only-child::after {width: 0;}#sk-container-id-4 div.sk-dashed-wrapped {border: 1px dashed gray;margin: 0 0.4em 0.5em 0.4em;box-sizing: border-box;padding-bottom: 0.4em;background-color: white;}#sk-container-id-4 div.sk-label label {font-family: monospace;font-weight: bold;display: inline-block;line-height: 1.2em;}#sk-container-id-4 div.sk-label-container {text-align: center;}#sk-container-id-4 div.sk-container {/* jupyter's `normalize.less` sets `[hidden] { display: none; }` but bootstrap.min.css set `[hidden] { display: none !important; }` so we also need the `!important` here to be able to override the default hidden behavior on the sphinx rendered scikit-learn.org. See: https://github.com/scikit-learn/scikit-learn/issues/21755 */display: inline-block !important;position: relative;}#sk-container-id-4 div.sk-text-repr-fallback {display: none;}</style><div id=\"sk-container-id-4\" class=\"sk-top-container\"><div class=\"sk-text-repr-fallback\"><pre>RandomForestClassifier(random_state=42)</pre><b>In a Jupyter environment, please rerun this cell to show the HTML representation or trust the notebook. <br />On GitHub, the HTML representation is unable to render, please try loading this page with nbviewer.org.</b></div><div class=\"sk-container\" hidden><div class=\"sk-item\"><div class=\"sk-estimator sk-toggleable\"><input class=\"sk-toggleable__control sk-hidden--visually\" id=\"sk-estimator-id-4\" type=\"checkbox\" checked><label for=\"sk-estimator-id-4\" class=\"sk-toggleable__label sk-toggleable__label-arrow\">RandomForestClassifier</label><div class=\"sk-toggleable__content\"><pre>RandomForestClassifier(random_state=42)</pre></div></div></div></div></div>"
      ],
      "text/plain": [
       "RandomForestClassifier(random_state=42)"
      ]
     },
     "execution_count": 87,
     "metadata": {},
     "output_type": "execute_result"
    }
   ],
   "source": [
    "rfc = RandomForestClassifier(random_state=42)\n",
    "rfc.fit(X_train, Y_train)"
   ]
  },
  {
   "cell_type": "markdown",
   "metadata": {},
   "source": [
    "### Assess Model"
   ]
  },
  {
   "cell_type": "code",
   "execution_count": 88,
   "metadata": {
    "ExecuteTime": {
     "end_time": "2023-07-17T17:10:32.223674200Z",
     "start_time": "2023-07-17T17:10:32.085640Z"
    }
   },
   "outputs": [
    {
     "data": {
      "text/html": [
       "<div>\n",
       "<style scoped>\n",
       "    .dataframe tbody tr th:only-of-type {\n",
       "        vertical-align: middle;\n",
       "    }\n",
       "\n",
       "    .dataframe tbody tr th {\n",
       "        vertical-align: top;\n",
       "    }\n",
       "\n",
       "    .dataframe thead th {\n",
       "        text-align: right;\n",
       "    }\n",
       "</style>\n",
       "<table border=\"1\" class=\"dataframe\">\n",
       "  <thead>\n",
       "    <tr style=\"text-align: right;\">\n",
       "      <th></th>\n",
       "      <th>RandomForest</th>\n",
       "    </tr>\n",
       "  </thead>\n",
       "  <tbody>\n",
       "    <tr>\n",
       "      <th>Fare</th>\n",
       "      <td>53.18%</td>\n",
       "    </tr>\n",
       "    <tr>\n",
       "      <th>Age</th>\n",
       "      <td>21.58%</td>\n",
       "    </tr>\n",
       "    <tr>\n",
       "      <th>SibSp</th>\n",
       "      <td>6.94%</td>\n",
       "    </tr>\n",
       "    <tr>\n",
       "      <th>Parch</th>\n",
       "      <td>4.84%</td>\n",
       "    </tr>\n",
       "    <tr>\n",
       "      <th>Survived</th>\n",
       "      <td>4.75%</td>\n",
       "    </tr>\n",
       "    <tr>\n",
       "      <th>Embarked_C</th>\n",
       "      <td>4.18%</td>\n",
       "    </tr>\n",
       "    <tr>\n",
       "      <th>Sex_female</th>\n",
       "      <td>3.65%</td>\n",
       "    </tr>\n",
       "    <tr>\n",
       "      <th>Embarked_Q</th>\n",
       "      <td>0.88%</td>\n",
       "    </tr>\n",
       "  </tbody>\n",
       "</table>\n",
       "</div>"
      ],
      "text/plain": [
       "           RandomForest\n",
       "Fare             53.18%\n",
       "Age              21.58%\n",
       "SibSp             6.94%\n",
       "Parch             4.84%\n",
       "Survived          4.75%\n",
       "Embarked_C        4.18%\n",
       "Sex_female        3.65%\n",
       "Embarked_Q        0.88%"
      ]
     },
     "execution_count": 88,
     "metadata": {},
     "output_type": "execute_result"
    }
   ],
   "source": [
    "pd.DataFrame.from_dict(sort_feature_importance(rfc, X_train), orient=\"index\").rename(columns={0: \"RandomForest\"})"
   ]
  },
  {
   "cell_type": "markdown",
   "metadata": {},
   "source": [
    "### Creating Score Table"
   ]
  },
  {
   "cell_type": "code",
   "execution_count": 89,
   "metadata": {
    "ExecuteTime": {
     "end_time": "2023-07-17T17:10:32.223674200Z",
     "start_time": "2023-07-17T17:10:32.113693900Z"
    }
   },
   "outputs": [],
   "source": [
    "# recreating sex variable\n",
    "sex = X_test['Sex_female'].apply(lambda x: 'female' if x else 'male')"
   ]
  },
  {
   "cell_type": "code",
   "execution_count": 90,
   "metadata": {
    "ExecuteTime": {
     "end_time": "2023-07-17T17:10:32.223674200Z",
     "start_time": "2023-07-17T17:10:32.122874800Z"
    }
   },
   "outputs": [
    {
     "data": {
      "text/plain": [
       "array([1, 2, 3], dtype=int64)"
      ]
     },
     "execution_count": 90,
     "metadata": {},
     "output_type": "execute_result"
    }
   ],
   "source": [
    "rfc.classes_"
   ]
  },
  {
   "cell_type": "code",
   "execution_count": 91,
   "metadata": {
    "ExecuteTime": {
     "end_time": "2023-07-17T17:10:32.275704100Z",
     "start_time": "2023-07-17T17:10:32.137247Z"
    }
   },
   "outputs": [],
   "source": [
    "score_data = {'P_Pclass1': rfc.predict_proba(X_test)[:,0],\n",
    "              'P_Pclass2': rfc.predict_proba(X_test)[:,1],\n",
    "              'P_Pclass3': rfc.predict_proba(X_test)[:,2],\n",
    "              'Pclass': Y_test.to_numpy(),\n",
    "              'Sex': sex}\n",
    "score_table = pd.DataFrame(score_data)"
   ]
  },
  {
   "cell_type": "code",
   "execution_count": 92,
   "metadata": {
    "ExecuteTime": {
     "end_time": "2023-07-17T17:10:32.290364100Z",
     "start_time": "2023-07-17T17:10:32.188771800Z"
    }
   },
   "outputs": [
    {
     "data": {
      "text/html": [
       "<div>\n",
       "<style scoped>\n",
       "    .dataframe tbody tr th:only-of-type {\n",
       "        vertical-align: middle;\n",
       "    }\n",
       "\n",
       "    .dataframe tbody tr th {\n",
       "        vertical-align: top;\n",
       "    }\n",
       "\n",
       "    .dataframe thead th {\n",
       "        text-align: right;\n",
       "    }\n",
       "</style>\n",
       "<table border=\"1\" class=\"dataframe\">\n",
       "  <thead>\n",
       "    <tr style=\"text-align: right;\">\n",
       "      <th></th>\n",
       "      <th>P_Pclass1</th>\n",
       "      <th>P_Pclass2</th>\n",
       "      <th>P_Pclass3</th>\n",
       "      <th>Pclass</th>\n",
       "      <th>Sex</th>\n",
       "    </tr>\n",
       "  </thead>\n",
       "  <tbody>\n",
       "    <tr>\n",
       "      <th>21</th>\n",
       "      <td>0.10</td>\n",
       "      <td>0.45</td>\n",
       "      <td>0.45</td>\n",
       "      <td>2</td>\n",
       "      <td>male</td>\n",
       "    </tr>\n",
       "    <tr>\n",
       "      <th>57</th>\n",
       "      <td>0.09</td>\n",
       "      <td>0.22</td>\n",
       "      <td>0.69</td>\n",
       "      <td>3</td>\n",
       "      <td>male</td>\n",
       "    </tr>\n",
       "    <tr>\n",
       "      <th>50</th>\n",
       "      <td>0.22</td>\n",
       "      <td>0.21</td>\n",
       "      <td>0.57</td>\n",
       "      <td>3</td>\n",
       "      <td>male</td>\n",
       "    </tr>\n",
       "    <tr>\n",
       "      <th>99</th>\n",
       "      <td>0.07</td>\n",
       "      <td>0.79</td>\n",
       "      <td>0.14</td>\n",
       "      <td>2</td>\n",
       "      <td>male</td>\n",
       "    </tr>\n",
       "    <tr>\n",
       "      <th>71</th>\n",
       "      <td>0.35</td>\n",
       "      <td>0.15</td>\n",
       "      <td>0.50</td>\n",
       "      <td>3</td>\n",
       "      <td>female</td>\n",
       "    </tr>\n",
       "  </tbody>\n",
       "</table>\n",
       "</div>"
      ],
      "text/plain": [
       "    P_Pclass1  P_Pclass2  P_Pclass3  Pclass     Sex\n",
       "21       0.10       0.45       0.45       2    male\n",
       "57       0.09       0.22       0.69       3    male\n",
       "50       0.22       0.21       0.57       3    male\n",
       "99       0.07       0.79       0.14       2    male\n",
       "71       0.35       0.15       0.50       3  female"
      ]
     },
     "execution_count": 92,
     "metadata": {},
     "output_type": "execute_result"
    }
   ],
   "source": [
    "score_table.head()"
   ]
  },
  {
   "cell_type": "markdown",
   "metadata": {},
   "source": [
    "### Using `assess_model_bias()`"
   ]
  },
  {
   "cell_type": "code",
   "execution_count": null,
   "metadata": {
    "ExecuteTime": {
     "end_time": "2023-07-17T17:11:01.828497600Z",
     "start_time": "2023-07-17T17:10:56.827664500Z"
    }
   },
   "outputs": [],
   "source": [
    "# creating assess bias json files and getting dataframes\n",
    "dfs = pzmm.JSONFiles.assess_model_bias(\n",
    "        score_table=score_table,\n",
    "        actual_values='Pclass',\n",
    "        sensitive_values='Sex',\n",
    "        prob_values=['P_Pclass1', 'P_Pclass2', 'P_Pclass3'],\n",
    "        levels=['1', '2', '3'],\n",
    "        json_path=Path.cwd() / \"data/BiasMetrics/titanicModels/MultiRandomForest/\",\n",
    "        return_dataframes=True\n",
    "    )"
   ]
  },
  {
   "cell_type": "markdown",
   "metadata": {},
   "source": [
    "### Assess Model Bias Output"
   ]
  },
  {
   "cell_type": "code",
   "execution_count": 94,
   "metadata": {
    "ExecuteTime": {
     "end_time": "2023-07-17T17:11:01.881499200Z",
     "start_time": "2023-07-17T17:11:01.852019400Z"
    }
   },
   "outputs": [
    {
     "data": {
      "text/html": [
       "<div>\n",
       "<style scoped>\n",
       "    .dataframe tbody tr th:only-of-type {\n",
       "        vertical-align: middle;\n",
       "    }\n",
       "\n",
       "    .dataframe tbody tr th {\n",
       "        vertical-align: top;\n",
       "    }\n",
       "\n",
       "    .dataframe thead th {\n",
       "        text-align: right;\n",
       "    }\n",
       "</style>\n",
       "<table border=\"1\" class=\"dataframe\">\n",
       "  <thead>\n",
       "    <tr style=\"text-align: right;\">\n",
       "      <th></th>\n",
       "      <th>INTO_EVENT</th>\n",
       "      <th>LEVEL</th>\n",
       "      <th>PREDICTED_EVENT</th>\n",
       "      <th>P_Pclass1</th>\n",
       "      <th>P_Pclass2</th>\n",
       "      <th>P_Pclass3</th>\n",
       "      <th>VLABEL</th>\n",
       "      <th>_DATAROLE_</th>\n",
       "      <th>_VARIABLE_</th>\n",
       "      <th>_acc_</th>\n",
       "      <th>...</th>\n",
       "      <th>_mcll_</th>\n",
       "      <th>_misccutoff_</th>\n",
       "      <th>_miscks_</th>\n",
       "      <th>_nobs_</th>\n",
       "      <th>_rase_</th>\n",
       "      <th>_resp_</th>\n",
       "      <th>_tn_</th>\n",
       "      <th>_tnr_</th>\n",
       "      <th>_tp_</th>\n",
       "      <th>_tpr_</th>\n",
       "    </tr>\n",
       "  </thead>\n",
       "  <tbody>\n",
       "    <tr>\n",
       "      <th>0</th>\n",
       "      <td>0.066667</td>\n",
       "      <td>female</td>\n",
       "      <td>0.149333</td>\n",
       "      <td>0.149333</td>\n",
       "      <td>0.340000</td>\n",
       "      <td>0.510667</td>\n",
       "      <td></td>\n",
       "      <td>TEST</td>\n",
       "      <td>Sex</td>\n",
       "      <td>0.933333</td>\n",
       "      <td>...</td>\n",
       "      <td>0.643379</td>\n",
       "      <td>0.066667</td>\n",
       "      <td>0.200000</td>\n",
       "      <td>15.0</td>\n",
       "      <td>0.363563</td>\n",
       "      <td>50.0</td>\n",
       "      <td>13.0</td>\n",
       "      <td>1.000000</td>\n",
       "      <td>1.0</td>\n",
       "      <td>0.500</td>\n",
       "    </tr>\n",
       "    <tr>\n",
       "      <th>1</th>\n",
       "      <td>0.171429</td>\n",
       "      <td>male</td>\n",
       "      <td>0.225714</td>\n",
       "      <td>0.225714</td>\n",
       "      <td>0.272286</td>\n",
       "      <td>0.502000</td>\n",
       "      <td></td>\n",
       "      <td>TEST</td>\n",
       "      <td>Sex</td>\n",
       "      <td>0.885714</td>\n",
       "      <td>...</td>\n",
       "      <td>0.527678</td>\n",
       "      <td>0.114286</td>\n",
       "      <td>0.142857</td>\n",
       "      <td>35.0</td>\n",
       "      <td>0.318224</td>\n",
       "      <td>12.5</td>\n",
       "      <td>26.0</td>\n",
       "      <td>0.962963</td>\n",
       "      <td>5.0</td>\n",
       "      <td>0.625</td>\n",
       "    </tr>\n",
       "  </tbody>\n",
       "</table>\n",
       "<p>2 rows × 36 columns</p>\n",
       "</div>"
      ],
      "text/plain": [
       "   INTO_EVENT   LEVEL  PREDICTED_EVENT  P_Pclass1  P_Pclass2  P_Pclass3  \\\n",
       "0    0.066667  female         0.149333   0.149333   0.340000   0.510667   \n",
       "1    0.171429    male         0.225714   0.225714   0.272286   0.502000   \n",
       "\n",
       "  VLABEL _DATAROLE_ _VARIABLE_     _acc_  ...    _mcll_  _misccutoff_  \\\n",
       "0              TEST        Sex  0.933333  ...  0.643379      0.066667   \n",
       "1              TEST        Sex  0.885714  ...  0.527678      0.114286   \n",
       "\n",
       "   _miscks_  _nobs_    _rase_  _resp_  _tn_     _tnr_  _tp_  _tpr_  \n",
       "0  0.200000    15.0  0.363563    50.0  13.0  1.000000   1.0  0.500  \n",
       "1  0.142857    35.0  0.318224    12.5  26.0  0.962963   5.0  0.625  \n",
       "\n",
       "[2 rows x 36 columns]"
      ]
     },
     "execution_count": 94,
     "metadata": {},
     "output_type": "execute_result"
    }
   ],
   "source": [
    "dfs['groupMetricsData'].head()"
   ]
  },
  {
   "cell_type": "code",
   "execution_count": 95,
   "metadata": {
    "ExecuteTime": {
     "end_time": "2023-07-17T17:11:01.883530900Z",
     "start_time": "2023-07-17T17:11:01.862648Z"
    }
   },
   "outputs": [
    {
     "data": {
      "text/html": [
       "<div>\n",
       "<style scoped>\n",
       "    .dataframe tbody tr th:only-of-type {\n",
       "        vertical-align: middle;\n",
       "    }\n",
       "\n",
       "    .dataframe tbody tr th {\n",
       "        vertical-align: top;\n",
       "    }\n",
       "\n",
       "    .dataframe thead th {\n",
       "        text-align: right;\n",
       "    }\n",
       "</style>\n",
       "<table border=\"1\" class=\"dataframe\">\n",
       "  <thead>\n",
       "    <tr style=\"text-align: right;\">\n",
       "      <th></th>\n",
       "      <th>BASE</th>\n",
       "      <th>COMPARE</th>\n",
       "      <th>Metric</th>\n",
       "      <th>MetricLabel</th>\n",
       "      <th>VLABEL</th>\n",
       "      <th>_DATAROLE_</th>\n",
       "      <th>_VARIABLE_</th>\n",
       "      <th>maxdiff</th>\n",
       "    </tr>\n",
       "  </thead>\n",
       "  <tbody>\n",
       "    <tr>\n",
       "      <th>0</th>\n",
       "      <td>male</td>\n",
       "      <td>female</td>\n",
       "      <td>P_Pclass1</td>\n",
       "      <td>Average P_Pclass1</td>\n",
       "      <td></td>\n",
       "      <td>TEST</td>\n",
       "      <td>Sex</td>\n",
       "      <td>0.076381</td>\n",
       "    </tr>\n",
       "    <tr>\n",
       "      <th>1</th>\n",
       "      <td>female</td>\n",
       "      <td>male</td>\n",
       "      <td>P_Pclass2</td>\n",
       "      <td>Average P_Pclass2</td>\n",
       "      <td></td>\n",
       "      <td>TEST</td>\n",
       "      <td>Sex</td>\n",
       "      <td>0.067714</td>\n",
       "    </tr>\n",
       "    <tr>\n",
       "      <th>2</th>\n",
       "      <td>female</td>\n",
       "      <td>male</td>\n",
       "      <td>P_Pclass3</td>\n",
       "      <td>Average P_Pclass3</td>\n",
       "      <td></td>\n",
       "      <td>TEST</td>\n",
       "      <td>Sex</td>\n",
       "      <td>0.008667</td>\n",
       "    </tr>\n",
       "    <tr>\n",
       "      <th>3</th>\n",
       "      <td>male</td>\n",
       "      <td>female</td>\n",
       "      <td>TPR</td>\n",
       "      <td>True Positive Rate</td>\n",
       "      <td></td>\n",
       "      <td>TEST</td>\n",
       "      <td>Sex</td>\n",
       "      <td>0.125000</td>\n",
       "    </tr>\n",
       "    <tr>\n",
       "      <th>4</th>\n",
       "      <td>male</td>\n",
       "      <td>female</td>\n",
       "      <td>FPR</td>\n",
       "      <td>False Positive Rate</td>\n",
       "      <td></td>\n",
       "      <td>TEST</td>\n",
       "      <td>Sex</td>\n",
       "      <td>0.037037</td>\n",
       "    </tr>\n",
       "  </tbody>\n",
       "</table>\n",
       "</div>"
      ],
      "text/plain": [
       "     BASE COMPARE     Metric          MetricLabel VLABEL _DATAROLE_  \\\n",
       "0    male  female  P_Pclass1    Average P_Pclass1              TEST   \n",
       "1  female    male  P_Pclass2    Average P_Pclass2              TEST   \n",
       "2  female    male  P_Pclass3    Average P_Pclass3              TEST   \n",
       "3    male  female        TPR   True Positive Rate              TEST   \n",
       "4    male  female        FPR  False Positive Rate              TEST   \n",
       "\n",
       "  _VARIABLE_   maxdiff  \n",
       "0        Sex  0.076381  \n",
       "1        Sex  0.067714  \n",
       "2        Sex  0.008667  \n",
       "3        Sex  0.125000  \n",
       "4        Sex  0.037037  "
      ]
     },
     "execution_count": 95,
     "metadata": {},
     "output_type": "execute_result"
    }
   ],
   "source": [
    "dfs['maxDifferencesData'].head()"
   ]
  },
  {
   "cell_type": "code",
   "execution_count": 96,
   "metadata": {
    "ExecuteTime": {
     "end_time": "2023-07-17T17:11:01.907035600Z",
     "start_time": "2023-07-17T17:11:01.882517200Z"
    }
   },
   "outputs": [
    {
     "data": {
      "text/html": [
       "<div>\n",
       "<style scoped>\n",
       "    .dataframe tbody tr th:only-of-type {\n",
       "        vertical-align: middle;\n",
       "    }\n",
       "\n",
       "    .dataframe tbody tr th {\n",
       "        vertical-align: top;\n",
       "    }\n",
       "\n",
       "    .dataframe thead th {\n",
       "        text-align: right;\n",
       "    }\n",
       "</style>\n",
       "<table border=\"1\" class=\"dataframe\">\n",
       "  <thead>\n",
       "    <tr style=\"text-align: right;\">\n",
       "      <th></th>\n",
       "      <th>Metric</th>\n",
       "      <th>MetricLabel</th>\n",
       "      <th>Value</th>\n",
       "      <th>Base</th>\n",
       "      <th>Compare</th>\n",
       "      <th>Note</th>\n",
       "      <th>_VARIABLE_</th>\n",
       "    </tr>\n",
       "  </thead>\n",
       "  <tbody>\n",
       "    <tr>\n",
       "      <th>0</th>\n",
       "      <td>DemographicParity</td>\n",
       "      <td>Demographic Parity (Statistical Parity)</td>\n",
       "      <td>0.104762</td>\n",
       "      <td>male</td>\n",
       "      <td>female</td>\n",
       "      <td></td>\n",
       "      <td>Sex</td>\n",
       "    </tr>\n",
       "    <tr>\n",
       "      <th>1</th>\n",
       "      <td>PredictiveParity</td>\n",
       "      <td>Predictive Parity</td>\n",
       "      <td>0.076381</td>\n",
       "      <td>male</td>\n",
       "      <td>female</td>\n",
       "      <td></td>\n",
       "      <td>Sex</td>\n",
       "    </tr>\n",
       "    <tr>\n",
       "      <th>2</th>\n",
       "      <td>EqualAccuracy</td>\n",
       "      <td>Equal Accuracy</td>\n",
       "      <td>0.047619</td>\n",
       "      <td>female</td>\n",
       "      <td>male</td>\n",
       "      <td></td>\n",
       "      <td>Sex</td>\n",
       "    </tr>\n",
       "    <tr>\n",
       "      <th>3</th>\n",
       "      <td>EqualizedOdds</td>\n",
       "      <td>Equalized Odds</td>\n",
       "      <td>0.125000</td>\n",
       "      <td>male</td>\n",
       "      <td>female</td>\n",
       "      <td>The maximum TPR difference is greater than the...</td>\n",
       "      <td>Sex</td>\n",
       "    </tr>\n",
       "    <tr>\n",
       "      <th>4</th>\n",
       "      <td>EqualOpportunity</td>\n",
       "      <td>Equal Opportunity</td>\n",
       "      <td>0.125000</td>\n",
       "      <td>male</td>\n",
       "      <td>female</td>\n",
       "      <td></td>\n",
       "      <td>Sex</td>\n",
       "    </tr>\n",
       "  </tbody>\n",
       "</table>\n",
       "</div>"
      ],
      "text/plain": [
       "              Metric                              MetricLabel     Value  \\\n",
       "0  DemographicParity  Demographic Parity (Statistical Parity)  0.104762   \n",
       "1   PredictiveParity                        Predictive Parity  0.076381   \n",
       "2      EqualAccuracy                           Equal Accuracy  0.047619   \n",
       "3      EqualizedOdds                           Equalized Odds  0.125000   \n",
       "4   EqualOpportunity                        Equal Opportunity  0.125000   \n",
       "\n",
       "     Base Compare                                               Note  \\\n",
       "0    male  female                                                      \n",
       "1    male  female                                                      \n",
       "2  female    male                                                      \n",
       "3    male  female  The maximum TPR difference is greater than the...   \n",
       "4    male  female                                                      \n",
       "\n",
       "  _VARIABLE_  \n",
       "0        Sex  \n",
       "1        Sex  \n",
       "2        Sex  \n",
       "3        Sex  \n",
       "4        Sex  "
      ]
     },
     "execution_count": 96,
     "metadata": {},
     "output_type": "execute_result"
    }
   ],
   "source": [
    "dfs['biasMetricsData'].head()"
   ]
  },
  {
   "cell_type": "markdown",
   "metadata": {},
   "source": [
    "*Performance Bias*"
   ]
  },
  {
   "cell_type": "code",
   "execution_count": 97,
   "metadata": {
    "ExecuteTime": {
     "end_time": "2023-07-17T17:11:02.657117500Z",
     "start_time": "2023-07-17T17:11:01.901011700Z"
    }
   },
   "outputs": [
    {
     "data": {
      "image/png": "[encoded data removed]",
      "text/plain": [
       "<Figure size 700x400 with 2 Axes>"
      ]
     },
     "metadata": {},
     "output_type": "display_data"
    }
   ],
   "source": [
    "fig, axes = plt.subplots(1, 2)\n",
    "fig.suptitle(\"Log Loss and Max KS for Random Forest\")\n",
    "\n",
    "sns.barplot(data=dfs['groupMetricsData'], x=\"LEVEL\", y='_mcll_', ax=axes[0]).set(title=\"Multiclass Log Loss\")\n",
    "sns.barplot(data=dfs['groupMetricsData'], x=\"LEVEL\", y='_ks_', ax=axes[1]).set(title=\"Max KS\")\n",
    "\n",
    "plt.show()"
   ]
  },
  {
   "cell_type": "code",
   "execution_count": 98,
   "metadata": {
    "ExecuteTime": {
     "end_time": "2023-07-17T17:11:02.657117500Z",
     "start_time": "2023-07-17T17:11:02.527245Z"
    }
   },
   "outputs": [],
   "source": [
    "md_mcll = dfs['maxDifferencesData'][dfs['maxDifferencesData']['Metric'] == 'MCLL']['maxdiff'].values[0]\n",
    "md_ks = dfs['maxDifferencesData'][dfs['maxDifferencesData']['Metric'] == 'maxKS']['maxdiff'].values[0]"
   ]
  },
  {
   "cell_type": "code",
   "execution_count": 99,
   "metadata": {
    "ExecuteTime": {
     "end_time": "2023-07-17T17:11:03.038467200Z",
     "start_time": "2023-07-17T17:11:02.542609700Z"
    }
   },
   "outputs": [
    {
     "data": {
      "image/png": "[encoded data removed]",
      "text/plain": [
       "<Figure size 700x400 with 1 Axes>"
      ]
     },
     "metadata": {},
     "output_type": "display_data"
    }
   ],
   "source": [
    "sns.barplot(y=[md_mcll, md_ks], x=['Multiclass Log Los', 'Max KS']).set(title=\"Maximum Difference for Random Forest\");"
   ]
  },
  {
   "cell_type": "markdown",
   "metadata": {},
   "source": [
    "*Average Prediction for Event*"
   ]
  },
  {
   "cell_type": "code",
   "execution_count": 100,
   "metadata": {
    "ExecuteTime": {
     "end_time": "2023-07-17T17:11:03.462232Z",
     "start_time": "2023-07-17T17:11:03.037461400Z"
    }
   },
   "outputs": [
    {
     "data": {
      "image/png": "[encoded data removed]",
      "text/plain": [
       "<Figure size 700x400 with 1 Axes>"
      ]
     },
     "metadata": {},
     "output_type": "display_data"
    }
   ],
   "source": [
    "sns.barplot(data=dfs['groupMetricsData'], x=\"LEVEL\", y='PREDICTED_EVENT').set(title=\"Predicted Probability of Pclass 1\");"
   ]
  },
  {
   "cell_type": "code",
   "execution_count": 101,
   "metadata": {
    "ExecuteTime": {
     "end_time": "2023-07-17T17:11:03.896059200Z",
     "start_time": "2023-07-17T17:11:03.482102500Z"
    }
   },
   "outputs": [
    {
     "data": {
      "image/png": "[encoded data removed]",
      "text/plain": [
       "<Figure size 700x400 with 1 Axes>"
      ]
     },
     "metadata": {},
     "output_type": "display_data"
    }
   ],
   "source": [
    "md_pe = dfs['maxDifferencesData'][dfs['maxDifferencesData']['Metric'] == 'PREDICTED_EVENT']['maxdiff'].values[0]\n",
    "sns.barplot(y=[md_pe], x=['Predicted Probability of Pclass 1']).set(title=\"Maximum Difference\");"
   ]
  },
  {
   "cell_type": "markdown",
   "metadata": {
    "collapsed": false
   },
   "source": [
    "***"
   ]
  }
 ],
 "metadata": {
  "kernelspec": {
   "display_name": "Python 3 (ipykernel)",
   "language": "python",
   "name": "python3"
  },
  "language_info": {
   "codemirror_mode": {
    "name": "ipython",
    "version": 3
   },
   "file_extension": ".py",
   "mimetype": "text/x-python",
   "name": "python",
   "nbconvert_exporter": "python",
   "pygments_lexer": "ipython3",
   "version": "3.9.13"
  }
 },
 "nbformat": 4,
 "nbformat_minor": 1
}
