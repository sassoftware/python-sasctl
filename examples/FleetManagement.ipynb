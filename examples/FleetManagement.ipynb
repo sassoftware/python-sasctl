{
 "cells": [
  {
   "cell_type": "markdown",
   "metadata": {
    "Collapsed": "false"
   },
   "source": [
    "Copyright © 2020, SAS Institute Inc., Cary, NC, USA.  All Rights Reserved.\n",
    "SPDX-License-Identifier: Apache-2.0"
   ]
  },
  {
   "cell_type": "markdown",
   "metadata": {
    "Collapsed": "false"
   },
   "source": [
    "# Fleet Maintenance: Build and Import Trained Models into SAS Model Manager\n",
    "\n",
    "This notebook provides an example of how to build and train a Python model and then import the model into SAS Model Manager using the fleet maintenance data set. Lines of code that must be modified by the user, such as directory paths are noted with the comment \"_Changes required by user._\".\n",
    "\n",
    "_**Note:** If you download only this notebook and not the rest of the repository, you must also download the fleet maintenance CSV file from the data folder in the examples directory. These files are used when executing this notebook example._\n",
    "\n",
    "Here are the steps shown in this notebook:\n",
    "\n",
    "1. Import and review data and preprocess for model training.\n",
    "2. Build, train, and access a decision tree, random forest, and gradient boosting model.\n",
    "3. Serialize the models into separate pickle files.\n",
    "4. Write the metadata JSON files needed for importing into SAS Model Manager as well as optional files for fit statistics and ROC/Lift charts.\n",
    "4. Write a score code Python file for model scoring.\n",
    "5. Zip the pickle, JSON, and score code files into an archive file.\n",
    "6. Import the ZIP archive file to SAS Model Manager via the Session object and relevant function call."
   ]
  },
  {
   "cell_type": "markdown",
   "metadata": {
    "Collapsed": "false"
   },
   "source": [
    "### Python Package Imports"
   ]
  },
  {
   "cell_type": "code",
   "execution_count": 1,
   "metadata": {
    "Collapsed": "false"
   },
   "outputs": [],
   "source": [
    "# Dataframes for data manipulations\n",
    "import pandas as pd\n",
    "pd.options.mode.chained_assignment = None  # default='warn'\n",
    "# Mathematical calculations and array handling\n",
    "import numpy as np\n",
    "\n",
    "# Data partitioning for TRAIN and TEST data sets\n",
    "from sklearn.model_selection import train_test_split\n",
    "# Decision tree, random forest, and gradient boosting models\n",
    "from sklearn.tree import DecisionTreeClassifier\n",
    "from sklearn.ensemble import RandomForestClassifier, GradientBoostingClassifier\n",
    "# Model assessments \n",
    "from sklearn.metrics import classification_report, confusion_matrix\n",
    "\n",
    "# Embedded plotting\n",
    "import matplotlib.pyplot as plt \n",
    "plt.rc(\"font\", size=14)\n",
    "\n",
    "# Pathing support\n",
    "from pathlib import Path\n",
    "\n",
    "# sasctl interface for importing models\n",
    "import sasctl.pzmm as pzmm\n",
    "from sasctl import Session\n",
    "from sasctl.services import model_repository as modelRepo"
   ]
  },
  {
   "cell_type": "markdown",
   "metadata": {
    "Collapsed": "false"
   },
   "source": [
    "### Import and Review Data Set"
   ]
  },
  {
   "cell_type": "code",
   "execution_count": 2,
   "metadata": {
    "Collapsed": "false"
   },
   "outputs": [
    {
     "data": {
      "text/plain": [
       "(8307, 40)"
      ]
     },
     "execution_count": 2,
     "metadata": {},
     "output_type": "execute_result"
    }
   ],
   "source": [
    "fleetData = pd.read_csv('data/fleet_maintenance.csv',sep= ',')\n",
    "fleetData.shape"
   ]
  },
  {
   "cell_type": "code",
   "execution_count": 3,
   "metadata": {
    "Collapsed": "false"
   },
   "outputs": [
    {
     "data": {
      "text/html": [
       "<div>\n",
       "<style scoped>\n",
       "    .dataframe tbody tr th:only-of-type {\n",
       "        vertical-align: middle;\n",
       "    }\n",
       "\n",
       "    .dataframe tbody tr th {\n",
       "        vertical-align: top;\n",
       "    }\n",
       "\n",
       "    .dataframe thead th {\n",
       "        text-align: right;\n",
       "    }\n",
       "</style>\n",
       "<table border=\"1\" class=\"dataframe\">\n",
       "  <thead>\n",
       "    <tr style=\"text-align: right;\">\n",
       "      <th></th>\n",
       "      <th>Maintenance_flag</th>\n",
       "      <th>Speed_sensor</th>\n",
       "      <th>Vibration</th>\n",
       "      <th>Engine_Load</th>\n",
       "      <th>Coolant_Temp</th>\n",
       "      <th>Intake_Pressure</th>\n",
       "      <th>Engine_RPM</th>\n",
       "      <th>Speed_OBD</th>\n",
       "      <th>Intake_Air</th>\n",
       "      <th>Flow_Rate</th>\n",
       "      <th>...</th>\n",
       "      <th>CO2_emission</th>\n",
       "      <th>Fuel_level</th>\n",
       "      <th>Oil_life</th>\n",
       "      <th>Vibration_alert</th>\n",
       "      <th>VibrationAlert_Total</th>\n",
       "      <th>Vibration_Recent</th>\n",
       "      <th>Turbo_alert</th>\n",
       "      <th>Emission_alert</th>\n",
       "      <th>Fog_control</th>\n",
       "      <th>Engine_control</th>\n",
       "    </tr>\n",
       "  </thead>\n",
       "  <tbody>\n",
       "    <tr>\n",
       "      <th>0</th>\n",
       "      <td>0</td>\n",
       "      <td>35</td>\n",
       "      <td>249.188875</td>\n",
       "      <td>21.568628</td>\n",
       "      <td>88</td>\n",
       "      <td>116</td>\n",
       "      <td>1115.5</td>\n",
       "      <td>35</td>\n",
       "      <td>10</td>\n",
       "      <td>18.33</td>\n",
       "      <td>...</td>\n",
       "      <td>0</td>\n",
       "      <td>0</td>\n",
       "      <td>0</td>\n",
       "      <td>1</td>\n",
       "      <td>123</td>\n",
       "      <td>12</td>\n",
       "      <td>1</td>\n",
       "      <td>1</td>\n",
       "      <td>1</td>\n",
       "      <td>1</td>\n",
       "    </tr>\n",
       "    <tr>\n",
       "      <th>1</th>\n",
       "      <td>0</td>\n",
       "      <td>142</td>\n",
       "      <td>243.236572</td>\n",
       "      <td>20.392157</td>\n",
       "      <td>88</td>\n",
       "      <td>135</td>\n",
       "      <td>1782.5</td>\n",
       "      <td>142</td>\n",
       "      <td>16</td>\n",
       "      <td>35.41</td>\n",
       "      <td>...</td>\n",
       "      <td>0</td>\n",
       "      <td>0</td>\n",
       "      <td>0</td>\n",
       "      <td>1</td>\n",
       "      <td>123</td>\n",
       "      <td>12</td>\n",
       "      <td>1</td>\n",
       "      <td>1</td>\n",
       "      <td>1</td>\n",
       "      <td>1</td>\n",
       "    </tr>\n",
       "    <tr>\n",
       "      <th>2</th>\n",
       "      <td>0</td>\n",
       "      <td>128</td>\n",
       "      <td>244.015378</td>\n",
       "      <td>43.529410</td>\n",
       "      <td>81</td>\n",
       "      <td>109</td>\n",
       "      <td>1588.0</td>\n",
       "      <td>128</td>\n",
       "      <td>9</td>\n",
       "      <td>27.08</td>\n",
       "      <td>...</td>\n",
       "      <td>0</td>\n",
       "      <td>0</td>\n",
       "      <td>0</td>\n",
       "      <td>1</td>\n",
       "      <td>123</td>\n",
       "      <td>12</td>\n",
       "      <td>1</td>\n",
       "      <td>1</td>\n",
       "      <td>1</td>\n",
       "      <td>1</td>\n",
       "    </tr>\n",
       "    <tr>\n",
       "      <th>3</th>\n",
       "      <td>0</td>\n",
       "      <td>117</td>\n",
       "      <td>244.627297</td>\n",
       "      <td>99.607840</td>\n",
       "      <td>89</td>\n",
       "      <td>128</td>\n",
       "      <td>1899.5</td>\n",
       "      <td>117</td>\n",
       "      <td>13</td>\n",
       "      <td>36.99</td>\n",
       "      <td>...</td>\n",
       "      <td>0</td>\n",
       "      <td>0</td>\n",
       "      <td>0</td>\n",
       "      <td>1</td>\n",
       "      <td>123</td>\n",
       "      <td>12</td>\n",
       "      <td>1</td>\n",
       "      <td>1</td>\n",
       "      <td>1</td>\n",
       "      <td>1</td>\n",
       "    </tr>\n",
       "    <tr>\n",
       "      <th>4</th>\n",
       "      <td>0</td>\n",
       "      <td>98</td>\n",
       "      <td>245.684248</td>\n",
       "      <td>73.333336</td>\n",
       "      <td>89</td>\n",
       "      <td>123</td>\n",
       "      <td>1230.5</td>\n",
       "      <td>98</td>\n",
       "      <td>9</td>\n",
       "      <td>21.63</td>\n",
       "      <td>...</td>\n",
       "      <td>0</td>\n",
       "      <td>0</td>\n",
       "      <td>0</td>\n",
       "      <td>1</td>\n",
       "      <td>123</td>\n",
       "      <td>12</td>\n",
       "      <td>1</td>\n",
       "      <td>1</td>\n",
       "      <td>1</td>\n",
       "      <td>1</td>\n",
       "    </tr>\n",
       "  </tbody>\n",
       "</table>\n",
       "<p>5 rows × 40 columns</p>\n",
       "</div>"
      ],
      "text/plain": [
       "   Maintenance_flag  Speed_sensor   Vibration  Engine_Load  Coolant_Temp  \\\n",
       "0                 0            35  249.188875    21.568628            88   \n",
       "1                 0           142  243.236572    20.392157            88   \n",
       "2                 0           128  244.015378    43.529410            81   \n",
       "3                 0           117  244.627297    99.607840            89   \n",
       "4                 0            98  245.684248    73.333336            89   \n",
       "\n",
       "   Intake_Pressure  Engine_RPM  Speed_OBD  Intake_Air  Flow_Rate  ...  \\\n",
       "0              116      1115.5         35          10      18.33  ...   \n",
       "1              135      1782.5        142          16      35.41  ...   \n",
       "2              109      1588.0        128           9      27.08  ...   \n",
       "3              128      1899.5        117          13      36.99  ...   \n",
       "4              123      1230.5         98           9      21.63  ...   \n",
       "\n",
       "   CO2_emission  Fuel_level  Oil_life  Vibration_alert  VibrationAlert_Total  \\\n",
       "0             0           0         0                1                   123   \n",
       "1             0           0         0                1                   123   \n",
       "2             0           0         0                1                   123   \n",
       "3             0           0         0                1                   123   \n",
       "4             0           0         0                1                   123   \n",
       "\n",
       "   Vibration_Recent  Turbo_alert  Emission_alert  Fog_control  Engine_control  \n",
       "0                12            1               1            1               1  \n",
       "1                12            1               1            1               1  \n",
       "2                12            1               1            1               1  \n",
       "3                12            1               1            1               1  \n",
       "4                12            1               1            1               1  \n",
       "\n",
       "[5 rows x 40 columns]"
      ]
     },
     "execution_count": 3,
     "metadata": {},
     "output_type": "execute_result"
    }
   ],
   "source": [
    "fleetData.head()"
   ]
  },
  {
   "cell_type": "code",
   "execution_count": 4,
   "metadata": {
    "Collapsed": "false"
   },
   "outputs": [
    {
     "data": {
      "image/png": "[encoded data removed]",
      "text/plain": [
       "<Figure size 1080x5400 with 140 Axes>"
      ]
     },
     "metadata": {
      "needs_background": "light"
     },
     "output_type": "display_data"
    }
   ],
   "source": [
    "fleetData.hist(figsize=(15,75), layout=(28, 5));"
   ]
  },
  {
   "cell_type": "code",
   "execution_count": 5,
   "metadata": {
    "Collapsed": "false"
   },
   "outputs": [
    {
     "data": {
      "text/plain": [
       "Index(['Maintenance_flag', 'Speed_sensor', 'Vibration', 'Engine_Load',\n",
       "       'Coolant_Temp', 'Intake_Pressure', 'Engine_RPM', 'Speed_OBD',\n",
       "       'Intake_Air', 'Flow_Rate', 'Throttle_Pos', 'Voltage', 'Ambient',\n",
       "       'Accel', 'Engine_Oil_Temp', 'Speed_GPS', 'GPS_Longitude',\n",
       "       'GPS_Latitude', 'GPS_Bearing', 'GPS_Altitude', 'Turbo_Boost',\n",
       "       'Trip_Distance', 'Litres_Per_km', 'Accel_Ssor_Total', 'CO2',\n",
       "       'Trip_Time', 'CO_emission', 'HC_emission', 'PM_emission',\n",
       "       'NOx_emission', 'CO2_emission', 'Fuel_level', 'Oil_life',\n",
       "       'Vibration_alert', 'VibrationAlert_Total', 'Vibration_Recent',\n",
       "       'Turbo_alert', 'Emission_alert', 'Fog_control', 'Engine_control'],\n",
       "      dtype='object')"
      ]
     },
     "execution_count": 5,
     "metadata": {},
     "output_type": "execute_result"
    }
   ],
   "source": [
    "fleetData.columns"
   ]
  },
  {
   "cell_type": "markdown",
   "metadata": {
    "Collapsed": "false"
   },
   "source": [
    "### Preprocess Data"
   ]
  },
  {
   "cell_type": "code",
   "execution_count": 6,
   "metadata": {
    "Collapsed": "false"
   },
   "outputs": [],
   "source": [
    "predictorColumns = ['Speed_sensor', 'Vibration', 'Engine_Load', 'Coolant_Temp', 'Intake_Pressure', 'Engine_RPM', 'Speed_OBD',\n",
    "       'Intake_Air', 'Flow_Rate', 'Throttle_Pos', 'Voltage', 'Ambient', 'Accel', 'Engine_Oil_Temp', 'Speed_GPS', \n",
    "       'GPS_Longitude', 'GPS_Latitude', 'GPS_Bearing', 'GPS_Altitude', 'Turbo_Boost', 'Trip_Distance', 'Litres_Per_km',\n",
    "       'Accel_Ssor_Total', 'CO2', 'Trip_Time', 'CO_emission', 'HC_emission', 'PM_emission', 'NOx_emission', 'CO2_emission',\n",
    "       'Fuel_level', 'Oil_life', 'Vibration_alert', 'VibrationAlert_Total', 'Vibration_Recent', 'Turbo_alert', \n",
    "       'Emission_alert', 'Fog_control', 'Engine_control']\n",
    "\n",
    "targetColumn = 'Maintenance_flag'\n",
    "x = fleetData[predictorColumns]\n",
    "y = fleetData[targetColumn]\n",
    "\n",
    "xTrain, xTest, yTrain, yTest = train_test_split(x, y, test_size=0.3, random_state=42)\n",
    "\n",
    "# For missing values, impute the data set's mean value\n",
    "xTest.fillna(xTest.mean(), inplace=True)\n",
    "xTrain.fillna(xTrain.mean(), inplace=True)"
   ]
  },
  {
   "cell_type": "markdown",
   "metadata": {
    "Collapsed": "false"
   },
   "source": [
    "### Create, Train, and Assess Model"
   ]
  },
  {
   "cell_type": "code",
   "execution_count": 7,
   "metadata": {
    "Collapsed": "false"
   },
   "outputs": [],
   "source": [
    "treeModel = DecisionTreeClassifier(random_state=42, min_samples_leaf=25)\n",
    "treeModel = treeModel.fit(xTrain, yTrain)\n",
    "\n",
    "forestModel = RandomForestClassifier(random_state=42)\n",
    "forestModel = forestModel.fit(xTrain, yTrain)\n",
    "\n",
    "gradientModel = GradientBoostingClassifier(random_state=42)\n",
    "gradientModel = gradientModel.fit(xTrain, yTrain)"
   ]
  },
  {
   "cell_type": "code",
   "execution_count": 8,
   "metadata": {
    "Collapsed": "false"
   },
   "outputs": [
    {
     "data": {
      "text/html": [
       "<div>\n",
       "<style scoped>\n",
       "    .dataframe tbody tr th:only-of-type {\n",
       "        vertical-align: middle;\n",
       "    }\n",
       "\n",
       "    .dataframe tbody tr th {\n",
       "        vertical-align: top;\n",
       "    }\n",
       "\n",
       "    .dataframe thead th {\n",
       "        text-align: right;\n",
       "    }\n",
       "</style>\n",
       "<table border=\"1\" class=\"dataframe\">\n",
       "  <thead>\n",
       "    <tr style=\"text-align: right;\">\n",
       "      <th></th>\n",
       "      <th>DecisionTree</th>\n",
       "      <th>RandomForest</th>\n",
       "      <th>GradientBoosting</th>\n",
       "    </tr>\n",
       "  </thead>\n",
       "  <tbody>\n",
       "    <tr>\n",
       "      <th>Trip_Distance</th>\n",
       "      <td>27.26%</td>\n",
       "      <td>9.99%</td>\n",
       "      <td>24.89%</td>\n",
       "    </tr>\n",
       "    <tr>\n",
       "      <th>Speed_GPS</th>\n",
       "      <td>21.48%</td>\n",
       "      <td>6.91%</td>\n",
       "      <td>11.23%</td>\n",
       "    </tr>\n",
       "    <tr>\n",
       "      <th>Trip_Time</th>\n",
       "      <td>16.2%</td>\n",
       "      <td>10.99%</td>\n",
       "      <td>29.1%</td>\n",
       "    </tr>\n",
       "    <tr>\n",
       "      <th>GPS_Longitude</th>\n",
       "      <td>11.11%</td>\n",
       "      <td>6.58%</td>\n",
       "      <td>8.17%</td>\n",
       "    </tr>\n",
       "    <tr>\n",
       "      <th>Ambient</th>\n",
       "      <td>3.65%</td>\n",
       "      <td>1.91%</td>\n",
       "      <td>1.43%</td>\n",
       "    </tr>\n",
       "    <tr>\n",
       "      <th>GPS_Latitude</th>\n",
       "      <td>2.56%</td>\n",
       "      <td>4.54%</td>\n",
       "      <td>1.32%</td>\n",
       "    </tr>\n",
       "    <tr>\n",
       "      <th>GPS_Altitude</th>\n",
       "      <td>2.17%</td>\n",
       "      <td>4.91%</td>\n",
       "      <td>2.55%</td>\n",
       "    </tr>\n",
       "    <tr>\n",
       "      <th>Engine_RPM</th>\n",
       "      <td>1.73%</td>\n",
       "      <td>4.95%</td>\n",
       "      <td>4.31%</td>\n",
       "    </tr>\n",
       "    <tr>\n",
       "      <th>Speed_sensor</th>\n",
       "      <td>1.63%</td>\n",
       "      <td>4.25%</td>\n",
       "      <td>0.13%</td>\n",
       "    </tr>\n",
       "    <tr>\n",
       "      <th>Accel_Ssor_Total</th>\n",
       "      <td>1.59%</td>\n",
       "      <td>3.88%</td>\n",
       "      <td>0.61%</td>\n",
       "    </tr>\n",
       "    <tr>\n",
       "      <th>Flow_Rate</th>\n",
       "      <td>1.55%</td>\n",
       "      <td>4.79%</td>\n",
       "      <td>8.83%</td>\n",
       "    </tr>\n",
       "    <tr>\n",
       "      <th>Speed_OBD</th>\n",
       "      <td>1.33%</td>\n",
       "      <td>4.17%</td>\n",
       "      <td>0.51%</td>\n",
       "    </tr>\n",
       "    <tr>\n",
       "      <th>Coolant_Temp</th>\n",
       "      <td>1.33%</td>\n",
       "      <td>1.49%</td>\n",
       "      <td>0.82%</td>\n",
       "    </tr>\n",
       "    <tr>\n",
       "      <th>Engine_Load</th>\n",
       "      <td>1.22%</td>\n",
       "      <td>2.93%</td>\n",
       "      <td>0.71%</td>\n",
       "    </tr>\n",
       "    <tr>\n",
       "      <th>CO2</th>\n",
       "      <td>1.19%</td>\n",
       "      <td>2.59%</td>\n",
       "      <td>0.91%</td>\n",
       "    </tr>\n",
       "    <tr>\n",
       "      <th>Accel</th>\n",
       "      <td>1.0%</td>\n",
       "      <td>1.49%</td>\n",
       "      <td>0.36%</td>\n",
       "    </tr>\n",
       "    <tr>\n",
       "      <th>Litres_Per_km</th>\n",
       "      <td>0.84%</td>\n",
       "      <td>2.83%</td>\n",
       "      <td>0.3%</td>\n",
       "    </tr>\n",
       "    <tr>\n",
       "      <th>Vibration</th>\n",
       "      <td>0.57%</td>\n",
       "      <td>3.92%</td>\n",
       "      <td>2.17%</td>\n",
       "    </tr>\n",
       "    <tr>\n",
       "      <th>Voltage</th>\n",
       "      <td>0.5%</td>\n",
       "      <td>2.62%</td>\n",
       "      <td>0.32%</td>\n",
       "    </tr>\n",
       "    <tr>\n",
       "      <th>Turbo_Boost</th>\n",
       "      <td>0.48%</td>\n",
       "      <td>2.1%</td>\n",
       "      <td>0.08%</td>\n",
       "    </tr>\n",
       "    <tr>\n",
       "      <th>GPS_Bearing</th>\n",
       "      <td>0.46%</td>\n",
       "      <td>4.29%</td>\n",
       "      <td>0.62%</td>\n",
       "    </tr>\n",
       "    <tr>\n",
       "      <th>Engine_Oil_Temp</th>\n",
       "      <td>0.1%</td>\n",
       "      <td>1.59%</td>\n",
       "      <td>0.15%</td>\n",
       "    </tr>\n",
       "    <tr>\n",
       "      <th>Throttle_Pos</th>\n",
       "      <td>0.04%</td>\n",
       "      <td>2.54%</td>\n",
       "      <td>0.18%</td>\n",
       "    </tr>\n",
       "    <tr>\n",
       "      <th>Vibration_alert</th>\n",
       "      <td>0.0%</td>\n",
       "      <td>0.0%</td>\n",
       "      <td>0.0%</td>\n",
       "    </tr>\n",
       "    <tr>\n",
       "      <th>Vibration_Recent</th>\n",
       "      <td>0.0%</td>\n",
       "      <td>0.0%</td>\n",
       "      <td>0.0%</td>\n",
       "    </tr>\n",
       "    <tr>\n",
       "      <th>VibrationAlert_Total</th>\n",
       "      <td>0.0%</td>\n",
       "      <td>0.0%</td>\n",
       "      <td>0.0%</td>\n",
       "    </tr>\n",
       "    <tr>\n",
       "      <th>Turbo_alert</th>\n",
       "      <td>0.0%</td>\n",
       "      <td>0.0%</td>\n",
       "      <td>0.0%</td>\n",
       "    </tr>\n",
       "    <tr>\n",
       "      <th>PM_emission</th>\n",
       "      <td>0.0%</td>\n",
       "      <td>0.0%</td>\n",
       "      <td>0.0%</td>\n",
       "    </tr>\n",
       "    <tr>\n",
       "      <th>Oil_life</th>\n",
       "      <td>0.0%</td>\n",
       "      <td>0.0%</td>\n",
       "      <td>0.0%</td>\n",
       "    </tr>\n",
       "    <tr>\n",
       "      <th>NOx_emission</th>\n",
       "      <td>0.0%</td>\n",
       "      <td>0.0%</td>\n",
       "      <td>0.0%</td>\n",
       "    </tr>\n",
       "    <tr>\n",
       "      <th>Intake_Pressure</th>\n",
       "      <td>0.0%</td>\n",
       "      <td>2.05%</td>\n",
       "      <td>0.1%</td>\n",
       "    </tr>\n",
       "    <tr>\n",
       "      <th>Intake_Air</th>\n",
       "      <td>0.0%</td>\n",
       "      <td>1.69%</td>\n",
       "      <td>0.21%</td>\n",
       "    </tr>\n",
       "    <tr>\n",
       "      <th>HC_emission</th>\n",
       "      <td>0.0%</td>\n",
       "      <td>0.0%</td>\n",
       "      <td>0.0%</td>\n",
       "    </tr>\n",
       "    <tr>\n",
       "      <th>Fuel_level</th>\n",
       "      <td>0.0%</td>\n",
       "      <td>0.0%</td>\n",
       "      <td>0.0%</td>\n",
       "    </tr>\n",
       "    <tr>\n",
       "      <th>Fog_control</th>\n",
       "      <td>0.0%</td>\n",
       "      <td>0.0%</td>\n",
       "      <td>0.0%</td>\n",
       "    </tr>\n",
       "    <tr>\n",
       "      <th>Engine_control</th>\n",
       "      <td>0.0%</td>\n",
       "      <td>0.0%</td>\n",
       "      <td>0.0%</td>\n",
       "    </tr>\n",
       "    <tr>\n",
       "      <th>Emission_alert</th>\n",
       "      <td>0.0%</td>\n",
       "      <td>0.0%</td>\n",
       "      <td>0.0%</td>\n",
       "    </tr>\n",
       "    <tr>\n",
       "      <th>CO_emission</th>\n",
       "      <td>0.0%</td>\n",
       "      <td>0.0%</td>\n",
       "      <td>0.0%</td>\n",
       "    </tr>\n",
       "    <tr>\n",
       "      <th>CO2_emission</th>\n",
       "      <td>0.0%</td>\n",
       "      <td>0.0%</td>\n",
       "      <td>0.0%</td>\n",
       "    </tr>\n",
       "  </tbody>\n",
       "</table>\n",
       "</div>"
      ],
      "text/plain": [
       "                     DecisionTree RandomForest GradientBoosting\n",
       "Trip_Distance              27.26%        9.99%           24.89%\n",
       "Speed_GPS                  21.48%        6.91%           11.23%\n",
       "Trip_Time                   16.2%       10.99%            29.1%\n",
       "GPS_Longitude              11.11%        6.58%            8.17%\n",
       "Ambient                     3.65%        1.91%            1.43%\n",
       "GPS_Latitude                2.56%        4.54%            1.32%\n",
       "GPS_Altitude                2.17%        4.91%            2.55%\n",
       "Engine_RPM                  1.73%        4.95%            4.31%\n",
       "Speed_sensor                1.63%        4.25%            0.13%\n",
       "Accel_Ssor_Total            1.59%        3.88%            0.61%\n",
       "Flow_Rate                   1.55%        4.79%            8.83%\n",
       "Speed_OBD                   1.33%        4.17%            0.51%\n",
       "Coolant_Temp                1.33%        1.49%            0.82%\n",
       "Engine_Load                 1.22%        2.93%            0.71%\n",
       "CO2                         1.19%        2.59%            0.91%\n",
       "Accel                        1.0%        1.49%            0.36%\n",
       "Litres_Per_km               0.84%        2.83%             0.3%\n",
       "Vibration                   0.57%        3.92%            2.17%\n",
       "Voltage                      0.5%        2.62%            0.32%\n",
       "Turbo_Boost                 0.48%         2.1%            0.08%\n",
       "GPS_Bearing                 0.46%        4.29%            0.62%\n",
       "Engine_Oil_Temp              0.1%        1.59%            0.15%\n",
       "Throttle_Pos                0.04%        2.54%            0.18%\n",
       "Vibration_alert              0.0%         0.0%             0.0%\n",
       "Vibration_Recent             0.0%         0.0%             0.0%\n",
       "VibrationAlert_Total         0.0%         0.0%             0.0%\n",
       "Turbo_alert                  0.0%         0.0%             0.0%\n",
       "PM_emission                  0.0%         0.0%             0.0%\n",
       "Oil_life                     0.0%         0.0%             0.0%\n",
       "NOx_emission                 0.0%         0.0%             0.0%\n",
       "Intake_Pressure              0.0%        2.05%             0.1%\n",
       "Intake_Air                   0.0%        1.69%            0.21%\n",
       "HC_emission                  0.0%         0.0%             0.0%\n",
       "Fuel_level                   0.0%         0.0%             0.0%\n",
       "Fog_control                  0.0%         0.0%             0.0%\n",
       "Engine_control               0.0%         0.0%             0.0%\n",
       "Emission_alert               0.0%         0.0%             0.0%\n",
       "CO_emission                  0.0%         0.0%             0.0%\n",
       "CO2_emission                 0.0%         0.0%             0.0%"
      ]
     },
     "execution_count": 8,
     "metadata": {},
     "output_type": "execute_result"
    }
   ],
   "source": [
    "def sortFeatureImportance(model, xData):\n",
    "    features = {}\n",
    "    for importance, name in sorted(zip(model.feature_importances_, xData.columns), reverse=True):\n",
    "        features[name] = str(np.round(importance*100, 2)) + '%'\n",
    "    return features\n",
    "\n",
    "importances = pd.DataFrame.from_dict(sortFeatureImportance(treeModel, xTrain), orient='index').rename(columns={0: 'DecisionTree'})\n",
    "importances['RandomForest'] = pd.DataFrame.from_dict(sortFeatureImportance(forestModel, xTrain), orient='index')\n",
    "importances['GradientBoosting'] = pd.DataFrame.from_dict(sortFeatureImportance(gradientModel, xTrain), orient='index')\n",
    "importances"
   ]
  },
  {
   "cell_type": "code",
   "execution_count": 9,
   "metadata": {
    "Collapsed": "false"
   },
   "outputs": [
    {
     "name": "stdout",
     "output_type": "stream",
     "text": [
      "[[1698  240]\n",
      " [ 203  352]]\n",
      "              precision    recall  f1-score   support\n",
      "\n",
      "           0       0.89      0.88      0.88      1938\n",
      "           1       0.59      0.63      0.61       555\n",
      "\n",
      "    accuracy                           0.82      2493\n",
      "   macro avg       0.74      0.76      0.75      2493\n",
      "weighted avg       0.83      0.82      0.82      2493\n",
      "\n",
      "Decision Tree Model Accuracy = 82.23%\n"
     ]
    }
   ],
   "source": [
    "yTreePredict = treeModel.predict(xTest)\n",
    "yTreeProba = treeModel.predict_proba(xTest)\n",
    "print(confusion_matrix(yTest, yTreePredict))\n",
    "print(classification_report(yTest, yTreePredict))\n",
    "print('Decision Tree Model Accuracy = ' + str(np.round(treeModel.score(xTest, yTest)*100,2)) + '%')"
   ]
  },
  {
   "cell_type": "code",
   "execution_count": 10,
   "metadata": {
    "Collapsed": "false"
   },
   "outputs": [
    {
     "name": "stdout",
     "output_type": "stream",
     "text": [
      "[[1684  254]\n",
      " [ 200  355]]\n",
      "              precision    recall  f1-score   support\n",
      "\n",
      "           0       0.89      0.87      0.88      1938\n",
      "           1       0.58      0.64      0.61       555\n",
      "\n",
      "    accuracy                           0.82      2493\n",
      "   macro avg       0.74      0.75      0.75      2493\n",
      "weighted avg       0.82      0.82      0.82      2493\n",
      "\n",
      "Random Forest Model Accuracy = 81.79%\n"
     ]
    }
   ],
   "source": [
    "yForestPredict = forestModel.predict(xTest)\n",
    "yForestProba = forestModel.predict_proba(xTest)\n",
    "print(confusion_matrix(yTest, yForestPredict))\n",
    "print(classification_report(yTest, yForestPredict))\n",
    "print('Random Forest Model Accuracy = ' + str(np.round(forestModel.score(xTest, yTest)*100,2)) + '%')"
   ]
  },
  {
   "cell_type": "code",
   "execution_count": 11,
   "metadata": {},
   "outputs": [
    {
     "name": "stdout",
     "output_type": "stream",
     "text": [
      "[[1648  290]\n",
      " [ 120  435]]\n",
      "              precision    recall  f1-score   support\n",
      "\n",
      "           0       0.93      0.85      0.89      1938\n",
      "           1       0.60      0.78      0.68       555\n",
      "\n",
      "    accuracy                           0.84      2493\n",
      "   macro avg       0.77      0.82      0.78      2493\n",
      "weighted avg       0.86      0.84      0.84      2493\n",
      "\n",
      "Gradient Boosting Model Accuracy = 83.55%\n"
     ]
    }
   ],
   "source": [
    "yGradientPredict = gradientModel.predict(xTest)\n",
    "yGradientProba = gradientModel.predict_proba(xTest)\n",
    "print(confusion_matrix(yTest, yGradientPredict))\n",
    "print(classification_report(yTest, yGradientPredict))\n",
    "print('Gradient Boosting Model Accuracy = ' + str(np.round(gradientModel.score(xTest, yTest)*100,2)) + '%')"
   ]
  },
  {
   "cell_type": "markdown",
   "metadata": {
    "Collapsed": "false"
   },
   "source": [
    "### Register Model in SAS Model Manager with pzmm"
   ]
  },
  {
   "cell_type": "code",
   "execution_count": 15,
   "metadata": {
    "Collapsed": "false"
   },
   "outputs": [],
   "source": [
    "modelPrefix = ['DecisionTreeClassifier', 'RandomForest', 'GradientBoosting']\n",
    "zipFolder = [Path.cwd() / 'data/FleetMaintenanceModels/DecisionTreeClassifier/',\n",
    "             Path.cwd() / 'data/FleetMaintenanceModels/RandomForest/',\n",
    "             Path.cwd() / 'data/FleetMaintenanceModels/GradientBoosting']\n",
    "model = [treeModel, forestModel, gradientModel]\n",
    "\n",
    "for (m, prefix, path) in zip(model, modelPrefix, zipFolder):\n",
    "    pzmm.PickleModel.pickleTrainedModel(_, m, prefix, path)"
   ]
  },
  {
   "cell_type": "code",
   "execution_count": 16,
   "metadata": {
    "Collapsed": "false"
   },
   "outputs": [],
   "source": [
    "def writeJSONFiles(data, predict, target, zipFolder, yTrain, modelPrefix):\n",
    "    J = pzmm.JSONFiles()\n",
    "    \n",
    "    # Write input variable mapping to a json file\n",
    "    J.writeVarJSON(data[predict], isInput=True, jPath=zipFolder)\n",
    "    \n",
    "    # Set output variables and assign an event threshold, then write output variable mapping\n",
    "    outputVar = pd.DataFrame(columns=['EM_EVENTPROBABILITY', 'EM_CLASSIFICATION'])\n",
    "    outputVar['EM_CLASSIFICATION'] = yTrain.astype('category').cat.categories.astype('str')\n",
    "    outputVar['EM_EVENTPROBABILITY'] = 0.5 # Event threshold\n",
    "    J.writeVarJSON(outputVar, isInput=False, jPath=zipFolder)\n",
    "    \n",
    "    # Write model properties to a json file\n",
    "    J.writeModelPropertiesJSON(modelName=modelPrefix,\n",
    "                               modelDesc='',\n",
    "                               targetVariable=target,\n",
    "                               modelType='',\n",
    "                               modelPredictors=predict,\n",
    "                               targetEvent=1,\n",
    "                               numTargetCategories=1,\n",
    "                               eventProbVar='EM_EVENTPROBABILITY',\n",
    "                               jPath=zipFolder,\n",
    "                               modeler='sasdemo')\n",
    "    \n",
    "    # Write model metadata to a json file\n",
    "    J.writeFileMetadataJSON(modelPrefix, jPath=zipFolder)\n",
    "\n",
    "for (prefix, path) in zip(modelPrefix, zipFolder):\n",
    "    writeJSONFiles(fleetData, predictorColumns, targetColumn, path, yTrain, prefix)"
   ]
  },
  {
   "cell_type": "code",
   "execution_count": 18,
   "metadata": {
    "Collapsed": "false"
   },
   "outputs": [
    {
     "name": "stdin",
     "output_type": "stream",
     "text": [
      " ······\n",
      " ········\n"
     ]
    }
   ],
   "source": [
    "import getpass\n",
    "def writeModelStats(xTrain, yTrain, testProba, yTest, model, target, zipFolder, conn):\n",
    "    J = pzmm.JSONFiles()\n",
    "    \n",
    "    # Calculate train predictions\n",
    "    trainProba = model.predict_proba(xTrain)\n",
    "    \n",
    "    # Assign data to lists of actual and predicted values\n",
    "    trainData = pd.concat([yTrain.reset_index(drop=True), pd.Series(data=trainProba[:,1])], axis=1)\n",
    "    testData = pd.concat([yTest.reset_index(drop=True), pd.Series(data=testProba[:,1])], axis=1)\n",
    "    \n",
    "    # Calculate the model statistics and write to json files\n",
    "    J.calculateFitStat(trainData=trainData, testData=testData, jPath=zipFolder)\n",
    "    J.generateROCLiftStat(target, 1, conn, trainData=trainData, testData=testData, jPath=zipFolder)\n",
    "    \n",
    "username = getpass.getpass()\n",
    "password = getpass.getpass()\n",
    "host = 'myserver.com'\n",
    "sess = Session(host, username, password, protocol='http')\n",
    "conn = sess.as_swat()\n",
    "\n",
    "testProba = [yTreeProba, yForestProba, yGradientProba]\n",
    "for (m, proba, path) in zip(model, testProba, zipFolder):\n",
    "    writeModelStats(xTrain, yTrain, proba, yTest, m, targetColumn, path, conn)"
   ]
  },
  {
   "cell_type": "code",
   "execution_count": 15,
   "metadata": {
    "Collapsed": "false"
   },
   "outputs": [],
   "source": [
    "I = pzmm.ImportModel()\n",
    "for (prefix, path) in zip(modelPrefix, zipFolder):\n",
    "    with sess:\n",
    "        I.pzmmImportModel(path, prefix, 'Fleet Management Report', x, y, '{}.predict({})')\n"
   ]
  },
  {
   "cell_type": "code",
   "execution_count": null,
   "metadata": {},
   "outputs": [],
   "source": []
  }
 ],
 "metadata": {
  "kernelspec": {
   "display_name": "Python 3",
   "language": "python",
   "name": "python3"
  },
  "language_info": {
   "codemirror_mode": {
    "name": "ipython",
    "version": 3
   },
   "file_extension": ".py",
   "mimetype": "text/x-python",
   "name": "python",
   "nbconvert_exporter": "python",
   "pygments_lexer": "ipython3",
   "version": "3.8.3"
  },
  "latex_envs": {
   "LaTeX_envs_menu_present": true,
   "autoclose": true,
   "autocomplete": true,
   "bibliofile": "biblio.bib",
   "cite_by": "apalike",
   "current_citInitial": 1,
   "eqLabelWithNumbers": true,
   "eqNumInitial": 1,
   "hotkeys": {
    "equation": "Ctrl-E",
    "itemize": "Ctrl-I"
   },
   "labels_anchors": false,
   "latex_user_defs": false,
   "report_style_numbering": false,
   "user_envs_cfg": false
  },
  "varInspector": {
   "cols": {
    "lenName": 16,
    "lenType": 16,
    "lenVar": 40
   },
   "kernels_config": {
    "python": {
     "delete_cmd_postfix": "",
     "delete_cmd_prefix": "del ",
     "library": "var_list.py",
     "varRefreshCmd": "print(var_dic_list())"
    },
    "r": {
     "delete_cmd_postfix": ") ",
     "delete_cmd_prefix": "rm(",
     "library": "var_list.r",
     "varRefreshCmd": "cat(var_dic_list()) "
    }
   },
   "types_to_exclude": [
    "module",
    "function",
    "builtin_function_or_method",
    "instance",
    "_Feature"
   ],
   "window_display": false
  }
 },
 "nbformat": 4,
 "nbformat_minor": 4
}
