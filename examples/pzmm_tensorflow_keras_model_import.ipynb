{
 "cells": [
  {
   "attachments": {},
   "cell_type": "markdown",
   "metadata": {},
   "source": [
    "# HMEQ Dataset : Build and Import Tensorflow Keras Models into SAS Model Manager\n",
    "\n",
    "This notebook provides an example of how to build and train a simple Tensorflow Keras model using the HMEQ dataset, and then import the model into SAS Model Manager. Lines of code that must be modified by the user are noted with the comment \"_Changes required by user._\".\n",
    "\n",
    "_**Note:** If you download only this notebook and not the rest of the repository, you must also download the hmeq.csv file from the data folder in the examples directory. These files are used when executing this notebook example._"
   ]
  },
  {
   "attachments": {},
   "cell_type": "markdown",
   "metadata": {},
   "source": [
    "### Python Package Imports"
   ]
  },
  {
   "cell_type": "code",
   "execution_count": 1,
   "metadata": {},
   "outputs": [
    {
     "name": "stderr",
     "output_type": "stream",
     "text": [
      "2023-04-26 04:15:28.786693: I tensorflow/core/platform/cpu_feature_guard.cc:193] This TensorFlow binary is optimized with oneAPI Deep Neural Network Library (oneDNN) to use the following CPU instructions in performance-critical operations:  SSE4.1 SSE4.2\n",
      "To enable them in other operations, rebuild TensorFlow with the appropriate compiler flags.\n"
     ]
    }
   ],
   "source": [
    "# Standard Library\n",
    "from pathlib import Path\n",
    "import warnings\n",
    "\n",
    "# Third Party\n",
    "import matplotlib.pyplot as plt\n",
    "import numpy as np\n",
    "import pandas as pd\n",
    "from sklearn.preprocessing import LabelEncoder\n",
    "from sklearn.model_selection import train_test_split\n",
    "import tensorflow as tf\n",
    "\n",
    "# Application Specific\n",
    "import sasctl.pzmm as pzmm\n",
    "from sasctl import Session"
   ]
  },
  {
   "attachments": {},
   "cell_type": "markdown",
   "metadata": {},
   "source": [
    "### Import and Review Data Set"
   ]
  },
  {
   "cell_type": "code",
   "execution_count": 2,
   "metadata": {},
   "outputs": [
    {
     "data": {
      "text/plain": [
       "(5960, 13)"
      ]
     },
     "execution_count": 2,
     "metadata": {},
     "output_type": "execute_result"
    }
   ],
   "source": [
    "hmeq_data = pd.read_csv(\"data/hmeq.csv\", sep= \",\")\n",
    "hmeq_data.shape"
   ]
  },
  {
   "cell_type": "code",
   "execution_count": 3,
   "metadata": {},
   "outputs": [
    {
     "data": {
      "text/html": [
       "<div>\n",
       "<style scoped>\n",
       "    .dataframe tbody tr th:only-of-type {\n",
       "        vertical-align: middle;\n",
       "    }\n",
       "\n",
       "    .dataframe tbody tr th {\n",
       "        vertical-align: top;\n",
       "    }\n",
       "\n",
       "    .dataframe thead th {\n",
       "        text-align: right;\n",
       "    }\n",
       "</style>\n",
       "<table border=\"1\" class=\"dataframe\">\n",
       "  <thead>\n",
       "    <tr style=\"text-align: right;\">\n",
       "      <th></th>\n",
       "      <th>BAD</th>\n",
       "      <th>LOAN</th>\n",
       "      <th>MORTDUE</th>\n",
       "      <th>VALUE</th>\n",
       "      <th>REASON</th>\n",
       "      <th>JOB</th>\n",
       "      <th>YOJ</th>\n",
       "      <th>DEROG</th>\n",
       "      <th>DELINQ</th>\n",
       "      <th>CLAGE</th>\n",
       "      <th>NINQ</th>\n",
       "      <th>CLNO</th>\n",
       "      <th>DEBTINC</th>\n",
       "    </tr>\n",
       "  </thead>\n",
       "  <tbody>\n",
       "    <tr>\n",
       "      <th>0</th>\n",
       "      <td>0</td>\n",
       "      <td>26800</td>\n",
       "      <td>46236.0</td>\n",
       "      <td>62711.0</td>\n",
       "      <td>DebtCon</td>\n",
       "      <td>Office</td>\n",
       "      <td>17.0</td>\n",
       "      <td>0.0</td>\n",
       "      <td>0.0</td>\n",
       "      <td>175.075058</td>\n",
       "      <td>1.0</td>\n",
       "      <td>22.0</td>\n",
       "      <td>33.059934</td>\n",
       "    </tr>\n",
       "    <tr>\n",
       "      <th>1</th>\n",
       "      <td>0</td>\n",
       "      <td>26900</td>\n",
       "      <td>74982.0</td>\n",
       "      <td>126972.0</td>\n",
       "      <td>DebtCon</td>\n",
       "      <td>Office</td>\n",
       "      <td>0.0</td>\n",
       "      <td>0.0</td>\n",
       "      <td>0.0</td>\n",
       "      <td>315.818911</td>\n",
       "      <td>0.0</td>\n",
       "      <td>23.0</td>\n",
       "      <td>38.325990</td>\n",
       "    </tr>\n",
       "    <tr>\n",
       "      <th>2</th>\n",
       "      <td>0</td>\n",
       "      <td>26900</td>\n",
       "      <td>67144.0</td>\n",
       "      <td>92923.0</td>\n",
       "      <td>DebtCon</td>\n",
       "      <td>Other</td>\n",
       "      <td>16.0</td>\n",
       "      <td>0.0</td>\n",
       "      <td>0.0</td>\n",
       "      <td>89.112173</td>\n",
       "      <td>1.0</td>\n",
       "      <td>17.0</td>\n",
       "      <td>32.791478</td>\n",
       "    </tr>\n",
       "    <tr>\n",
       "      <th>3</th>\n",
       "      <td>0</td>\n",
       "      <td>26900</td>\n",
       "      <td>45763.0</td>\n",
       "      <td>73797.0</td>\n",
       "      <td>DebtCon</td>\n",
       "      <td>Other</td>\n",
       "      <td>23.0</td>\n",
       "      <td>NaN</td>\n",
       "      <td>0.0</td>\n",
       "      <td>291.591681</td>\n",
       "      <td>1.0</td>\n",
       "      <td>29.0</td>\n",
       "      <td>39.370858</td>\n",
       "    </tr>\n",
       "    <tr>\n",
       "      <th>4</th>\n",
       "      <td>0</td>\n",
       "      <td>27000</td>\n",
       "      <td>144901.0</td>\n",
       "      <td>178093.0</td>\n",
       "      <td>DebtCon</td>\n",
       "      <td>ProfExe</td>\n",
       "      <td>7.0</td>\n",
       "      <td>0.0</td>\n",
       "      <td>0.0</td>\n",
       "      <td>331.113972</td>\n",
       "      <td>0.0</td>\n",
       "      <td>34.0</td>\n",
       "      <td>40.566552</td>\n",
       "    </tr>\n",
       "  </tbody>\n",
       "</table>\n",
       "</div>"
      ],
      "text/plain": [
       "   BAD   LOAN   MORTDUE     VALUE   REASON      JOB   YOJ  DEROG  DELINQ  \\\n",
       "0    0  26800   46236.0   62711.0  DebtCon   Office  17.0    0.0     0.0   \n",
       "1    0  26900   74982.0  126972.0  DebtCon   Office   0.0    0.0     0.0   \n",
       "2    0  26900   67144.0   92923.0  DebtCon    Other  16.0    0.0     0.0   \n",
       "3    0  26900   45763.0   73797.0  DebtCon    Other  23.0    NaN     0.0   \n",
       "4    0  27000  144901.0  178093.0  DebtCon  ProfExe   7.0    0.0     0.0   \n",
       "\n",
       "        CLAGE  NINQ  CLNO    DEBTINC  \n",
       "0  175.075058   1.0  22.0  33.059934  \n",
       "1  315.818911   0.0  23.0  38.325990  \n",
       "2   89.112173   1.0  17.0  32.791478  \n",
       "3  291.591681   1.0  29.0  39.370858  \n",
       "4  331.113972   0.0  34.0  40.566552  "
      ]
     },
     "execution_count": 3,
     "metadata": {},
     "output_type": "execute_result"
    }
   ],
   "source": [
    "hmeq_data.head()"
   ]
  },
  {
   "cell_type": "code",
   "execution_count": 4,
   "metadata": {},
   "outputs": [
    {
     "data": {
      "text/plain": [
       "array([[<Axes: title={'center': 'BAD'}>,\n",
       "        <Axes: title={'center': 'LOAN'}>,\n",
       "        <Axes: title={'center': 'MORTDUE'}>,\n",
       "        <Axes: title={'center': 'VALUE'}>],\n",
       "       [<Axes: title={'center': 'YOJ'}>,\n",
       "        <Axes: title={'center': 'DEROG'}>,\n",
       "        <Axes: title={'center': 'DELINQ'}>,\n",
       "        <Axes: title={'center': 'CLAGE'}>],\n",
       "       [<Axes: title={'center': 'NINQ'}>,\n",
       "        <Axes: title={'center': 'CLNO'}>,\n",
       "        <Axes: title={'center': 'DEBTINC'}>, <Axes: >],\n",
       "       [<Axes: >, <Axes: >, <Axes: >, <Axes: >]], dtype=object)"
      ]
     },
     "execution_count": 4,
     "metadata": {},
     "output_type": "execute_result"
    },
    {
     "data": {
      "image/png": "[encoded data removed]",
      "text/plain": [
       "<Figure size 1500x1500 with 16 Axes>"
      ]
     },
     "metadata": {},
     "output_type": "display_data"
    }
   ],
   "source": [
    "hmeq_data.hist(figsize=(15,15), layout=(4, 4))"
   ]
  },
  {
   "cell_type": "code",
   "execution_count": 5,
   "metadata": {},
   "outputs": [
    {
     "data": {
      "text/plain": [
       "Index(['BAD', 'LOAN', 'MORTDUE', 'VALUE', 'REASON', 'JOB', 'YOJ', 'DEROG',\n",
       "       'DELINQ', 'CLAGE', 'NINQ', 'CLNO', 'DEBTINC'],\n",
       "      dtype='object')"
      ]
     },
     "execution_count": 5,
     "metadata": {},
     "output_type": "execute_result"
    }
   ],
   "source": [
    "hmeq_data.columns"
   ]
  },
  {
   "attachments": {},
   "cell_type": "markdown",
   "metadata": {},
   "source": [
    "### Preprocess Data"
   ]
  },
  {
   "cell_type": "code",
   "execution_count": 6,
   "metadata": {},
   "outputs": [],
   "source": [
    "predictor_columns = [\"LOAN\", \"MORTDUE\", \"VALUE\", \"YOJ\", \"DEROG\", \"DELINQ\", \"CLAGE\", \"NINQ\", \"CLNO\", \"DEBTINC\"]\n",
    "\n",
    "target_column = \"BAD\"\n",
    "x = hmeq_data[predictor_columns]\n",
    "y = hmeq_data[target_column]\n",
    "\n",
    "x_train, x_test, y_train, y_test = train_test_split(x, y, test_size=0.3, random_state=42)"
   ]
  },
  {
   "cell_type": "code",
   "execution_count": 7,
   "metadata": {},
   "outputs": [
    {
     "name": "stderr",
     "output_type": "stream",
     "text": [
      "/var/folders/vs/np2dp7cs1y7ggk5pl92q_rb40000gn/T/ipykernel_5831/1668510498.py:2: SettingWithCopyWarning: \n",
      "A value is trying to be set on a copy of a slice from a DataFrame.\n",
      "Try using .loc[row_indexer,col_indexer] = value instead\n",
      "\n",
      "See the caveats in the documentation: https://pandas.pydata.org/pandas-docs/stable/user_guide/indexing.html#returning-a-view-versus-a-copy\n",
      "  x_test.fillna(x_test.mean(), inplace=True)\n",
      "/var/folders/vs/np2dp7cs1y7ggk5pl92q_rb40000gn/T/ipykernel_5831/1668510498.py:3: SettingWithCopyWarning: \n",
      "A value is trying to be set on a copy of a slice from a DataFrame.\n",
      "Try using .loc[row_indexer,col_indexer] = value instead\n",
      "\n",
      "See the caveats in the documentation: https://pandas.pydata.org/pandas-docs/stable/user_guide/indexing.html#returning-a-view-versus-a-copy\n",
      "  x_train.fillna(x_train.mean(), inplace=True)\n"
     ]
    }
   ],
   "source": [
    "# For missing values, impute the data set's mean value\n",
    "x_test.fillna(x_test.mean(), inplace=True)\n",
    "x_train.fillna(x_train.mean(), inplace=True)"
   ]
  },
  {
   "attachments": {},
   "cell_type": "markdown",
   "metadata": {},
   "source": [
    "### Create, Train, and Assess Model"
   ]
  },
  {
   "cell_type": "code",
   "execution_count": 8,
   "metadata": {},
   "outputs": [
    {
     "name": "stderr",
     "output_type": "stream",
     "text": [
      "2023-04-26 04:16:12.079246: I tensorflow/core/platform/cpu_feature_guard.cc:193] This TensorFlow binary is optimized with oneAPI Deep Neural Network Library (oneDNN) to use the following CPU instructions in performance-critical operations:  SSE4.1 SSE4.2\n",
      "To enable them in other operations, rebuild TensorFlow with the appropriate compiler flags.\n"
     ]
    }
   ],
   "source": [
    "tf.random.set_seed(42)\n",
    "\n",
    "# Create a keras model with three Dense layers\n",
    "model = tf.keras.Sequential([\n",
    "    tf.keras.layers.Dense(42, activation='relu'),\n",
    "    tf.keras.layers.Dense(72, activation='relu'),\n",
    "    tf.keras.layers.Dense(1, activation='sigmoid')\n",
    "])\n",
    "\n",
    "# Compile the model, using specified optimizer, loss function, and tracked metrics\n",
    "model.compile(\n",
    "    optimizer = 'rmsprop',\n",
    "    loss = 'binary_crossentropy',\n",
    "    metrics = ['accuracy']   \n",
    ")"
   ]
  },
  {
   "cell_type": "code",
   "execution_count": 9,
   "metadata": {},
   "outputs": [
    {
     "name": "stdout",
     "output_type": "stream",
     "text": [
      "Epoch 1/100\n",
      "131/131 [==============================] - 1s 1ms/step - loss: 509.5638 - accuracy: 0.6764\n",
      "Epoch 2/100\n",
      "131/131 [==============================] - 0s 869us/step - loss: 381.1167 - accuracy: 0.6795\n",
      "Epoch 3/100\n",
      "131/131 [==============================] - 0s 876us/step - loss: 347.1973 - accuracy: 0.6812\n",
      "Epoch 4/100\n",
      "131/131 [==============================] - 0s 748us/step - loss: 321.5358 - accuracy: 0.6925\n",
      "Epoch 5/100\n",
      "131/131 [==============================] - 0s 824us/step - loss: 296.5630 - accuracy: 0.6690\n",
      "Epoch 6/100\n",
      "131/131 [==============================] - 0s 911us/step - loss: 265.8401 - accuracy: 0.6716\n",
      "Epoch 7/100\n",
      "131/131 [==============================] - 0s 763us/step - loss: 247.5690 - accuracy: 0.6788\n",
      "Epoch 8/100\n",
      "131/131 [==============================] - 0s 734us/step - loss: 220.0208 - accuracy: 0.6843\n",
      "Epoch 9/100\n",
      "131/131 [==============================] - 0s 762us/step - loss: 214.2372 - accuracy: 0.6750\n",
      "Epoch 10/100\n",
      "131/131 [==============================] - 0s 784us/step - loss: 178.0841 - accuracy: 0.6865\n",
      "Epoch 11/100\n",
      "131/131 [==============================] - 0s 760us/step - loss: 167.2577 - accuracy: 0.6882\n",
      "Epoch 12/100\n",
      "131/131 [==============================] - 0s 724us/step - loss: 155.6481 - accuracy: 0.6870\n",
      "Epoch 13/100\n",
      "131/131 [==============================] - 0s 711us/step - loss: 141.8255 - accuracy: 0.6814\n",
      "Epoch 14/100\n",
      "131/131 [==============================] - 0s 726us/step - loss: 134.5770 - accuracy: 0.6795\n",
      "Epoch 15/100\n",
      "131/131 [==============================] - 0s 755us/step - loss: 115.0116 - accuracy: 0.6865\n",
      "Epoch 16/100\n",
      "131/131 [==============================] - 0s 829us/step - loss: 103.0796 - accuracy: 0.6915\n",
      "Epoch 17/100\n",
      "131/131 [==============================] - 0s 713us/step - loss: 94.8887 - accuracy: 0.6886\n",
      "Epoch 18/100\n",
      "131/131 [==============================] - 0s 1ms/step - loss: 81.2039 - accuracy: 0.6884\n",
      "Epoch 19/100\n",
      "131/131 [==============================] - 0s 730us/step - loss: 76.6530 - accuracy: 0.6918\n",
      "Epoch 20/100\n",
      "131/131 [==============================] - 0s 692us/step - loss: 69.5100 - accuracy: 0.6862\n",
      "Epoch 21/100\n",
      "131/131 [==============================] - 0s 686us/step - loss: 62.0634 - accuracy: 0.6872\n",
      "Epoch 22/100\n",
      "131/131 [==============================] - 0s 677us/step - loss: 55.8523 - accuracy: 0.6781\n",
      "Epoch 23/100\n",
      "131/131 [==============================] - 0s 710us/step - loss: 49.0327 - accuracy: 0.6910\n",
      "Epoch 24/100\n",
      "131/131 [==============================] - 0s 702us/step - loss: 46.0160 - accuracy: 0.6862\n",
      "Epoch 25/100\n",
      "131/131 [==============================] - 0s 815us/step - loss: 43.2817 - accuracy: 0.6879\n",
      "Epoch 26/100\n",
      "131/131 [==============================] - 0s 856us/step - loss: 39.7915 - accuracy: 0.6975\n",
      "Epoch 27/100\n",
      "131/131 [==============================] - 0s 1ms/step - loss: 36.1042 - accuracy: 0.6848\n",
      "Epoch 28/100\n",
      "131/131 [==============================] - 0s 917us/step - loss: 32.1796 - accuracy: 0.6874\n",
      "Epoch 29/100\n",
      "131/131 [==============================] - 0s 701us/step - loss: 27.4205 - accuracy: 0.6855\n",
      "Epoch 30/100\n",
      "131/131 [==============================] - 0s 691us/step - loss: 23.3613 - accuracy: 0.6884\n",
      "Epoch 31/100\n",
      "131/131 [==============================] - 0s 655us/step - loss: 19.3248 - accuracy: 0.6927\n",
      "Epoch 32/100\n",
      "131/131 [==============================] - 0s 687us/step - loss: 15.7131 - accuracy: 0.6918\n",
      "Epoch 33/100\n",
      "131/131 [==============================] - 0s 664us/step - loss: 11.9735 - accuracy: 0.6958\n",
      "Epoch 34/100\n",
      "131/131 [==============================] - 0s 661us/step - loss: 9.3657 - accuracy: 0.6927\n",
      "Epoch 35/100\n",
      "131/131 [==============================] - 0s 675us/step - loss: 7.0780 - accuracy: 0.6982\n",
      "Epoch 36/100\n",
      "131/131 [==============================] - 0s 834us/step - loss: 5.2853 - accuracy: 0.7004\n",
      "Epoch 37/100\n",
      "131/131 [==============================] - 0s 680us/step - loss: 3.9852 - accuracy: 0.6407\n",
      "Epoch 38/100\n",
      "131/131 [==============================] - 0s 668us/step - loss: 2.7729 - accuracy: 0.5561\n",
      "Epoch 39/100\n",
      "131/131 [==============================] - 0s 676us/step - loss: 1.9946 - accuracy: 0.7430\n",
      "Epoch 40/100\n",
      "131/131 [==============================] - 0s 634us/step - loss: 1.7222 - accuracy: 0.7828\n",
      "Epoch 41/100\n",
      "131/131 [==============================] - 0s 663us/step - loss: 1.8281 - accuracy: 0.7819\n",
      "Epoch 42/100\n",
      "131/131 [==============================] - 0s 650us/step - loss: 1.3340 - accuracy: 0.7905\n",
      "Epoch 43/100\n",
      "131/131 [==============================] - 0s 659us/step - loss: 1.3152 - accuracy: 0.7891\n",
      "Epoch 44/100\n",
      "131/131 [==============================] - 0s 624us/step - loss: 1.1162 - accuracy: 0.7946\n",
      "Epoch 45/100\n",
      "131/131 [==============================] - 0s 677us/step - loss: 1.0822 - accuracy: 0.7943\n",
      "Epoch 46/100\n",
      "131/131 [==============================] - 0s 663us/step - loss: 1.1057 - accuracy: 0.7917\n",
      "Epoch 47/100\n",
      "131/131 [==============================] - 0s 660us/step - loss: 0.9159 - accuracy: 0.7996\n",
      "Epoch 48/100\n",
      "131/131 [==============================] - 0s 640us/step - loss: 0.9257 - accuracy: 0.7975\n",
      "Epoch 49/100\n",
      "131/131 [==============================] - 0s 658us/step - loss: 0.9411 - accuracy: 0.7953\n",
      "Epoch 50/100\n",
      "131/131 [==============================] - 0s 658us/step - loss: 0.7828 - accuracy: 0.7977\n",
      "Epoch 51/100\n",
      "131/131 [==============================] - 0s 662us/step - loss: 0.7712 - accuracy: 0.7970\n",
      "Epoch 52/100\n",
      "131/131 [==============================] - 0s 657us/step - loss: 0.6160 - accuracy: 0.8006\n",
      "Epoch 53/100\n",
      "131/131 [==============================] - 0s 666us/step - loss: 0.7356 - accuracy: 0.8025\n",
      "Epoch 54/100\n",
      "131/131 [==============================] - 0s 653us/step - loss: 0.7214 - accuracy: 0.8037\n",
      "Epoch 55/100\n",
      "131/131 [==============================] - 0s 731us/step - loss: 0.7107 - accuracy: 0.7996\n",
      "Epoch 56/100\n",
      "131/131 [==============================] - 0s 721us/step - loss: 0.6114 - accuracy: 0.8035\n",
      "Epoch 57/100\n",
      "131/131 [==============================] - 0s 665us/step - loss: 0.5471 - accuracy: 0.8035\n",
      "Epoch 58/100\n",
      "131/131 [==============================] - 0s 636us/step - loss: 0.6323 - accuracy: 0.8027\n",
      "Epoch 59/100\n",
      "131/131 [==============================] - 0s 656us/step - loss: 0.5455 - accuracy: 0.8027\n",
      "Epoch 60/100\n",
      "131/131 [==============================] - 0s 670us/step - loss: 0.5502 - accuracy: 0.8025\n",
      "Epoch 61/100\n",
      "131/131 [==============================] - 0s 663us/step - loss: 0.5265 - accuracy: 0.8032\n",
      "Epoch 62/100\n",
      "131/131 [==============================] - 0s 675us/step - loss: 0.5511 - accuracy: 0.8039\n",
      "Epoch 63/100\n",
      "131/131 [==============================] - 0s 685us/step - loss: 0.5416 - accuracy: 0.8042\n",
      "Epoch 64/100\n",
      "131/131 [==============================] - 0s 689us/step - loss: 0.5034 - accuracy: 0.8047\n",
      "Epoch 65/100\n",
      "131/131 [==============================] - 0s 688us/step - loss: 0.5023 - accuracy: 0.8047\n",
      "Epoch 66/100\n",
      "131/131 [==============================] - 0s 846us/step - loss: 0.5170 - accuracy: 0.8054\n",
      "Epoch 67/100\n",
      "131/131 [==============================] - 0s 713us/step - loss: 0.5883 - accuracy: 0.8032\n",
      "Epoch 68/100\n",
      "131/131 [==============================] - 0s 720us/step - loss: 0.5750 - accuracy: 0.8039\n",
      "Epoch 69/100\n",
      "131/131 [==============================] - 0s 725us/step - loss: 0.5164 - accuracy: 0.8044\n",
      "Epoch 70/100\n",
      "131/131 [==============================] - 0s 659us/step - loss: 0.5670 - accuracy: 0.8035\n",
      "Epoch 71/100\n",
      "131/131 [==============================] - 0s 701us/step - loss: 0.5096 - accuracy: 0.8039\n",
      "Epoch 72/100\n",
      "131/131 [==============================] - 0s 665us/step - loss: 0.5185 - accuracy: 0.8039\n",
      "Epoch 73/100\n",
      "131/131 [==============================] - 0s 692us/step - loss: 0.5067 - accuracy: 0.8035\n",
      "Epoch 74/100\n",
      "131/131 [==============================] - 0s 657us/step - loss: 0.5217 - accuracy: 0.8044\n",
      "Epoch 75/100\n",
      "131/131 [==============================] - 0s 687us/step - loss: 0.5128 - accuracy: 0.8044\n",
      "Epoch 76/100\n",
      "131/131 [==============================] - 0s 696us/step - loss: 0.5069 - accuracy: 0.8047\n",
      "Epoch 77/100\n",
      "131/131 [==============================] - 0s 682us/step - loss: 0.5514 - accuracy: 0.8039\n",
      "Epoch 78/100\n",
      "131/131 [==============================] - 0s 650us/step - loss: 0.5104 - accuracy: 0.8042\n",
      "Epoch 79/100\n",
      "131/131 [==============================] - 0s 664us/step - loss: 0.5663 - accuracy: 0.8042\n",
      "Epoch 80/100\n",
      "131/131 [==============================] - 0s 656us/step - loss: 0.5057 - accuracy: 0.8044\n",
      "Epoch 81/100\n",
      "131/131 [==============================] - 0s 689us/step - loss: 0.5455 - accuracy: 0.8032\n",
      "Epoch 82/100\n",
      "131/131 [==============================] - 0s 653us/step - loss: 0.5040 - accuracy: 0.8042\n",
      "Epoch 83/100\n",
      "131/131 [==============================] - 0s 655us/step - loss: 0.5073 - accuracy: 0.8047\n",
      "Epoch 84/100\n",
      "131/131 [==============================] - 0s 811us/step - loss: 0.4946 - accuracy: 0.8047\n",
      "Epoch 85/100\n",
      "131/131 [==============================] - 0s 710us/step - loss: 0.4980 - accuracy: 0.8054\n",
      "Epoch 86/100\n",
      "131/131 [==============================] - 0s 635us/step - loss: 0.4971 - accuracy: 0.8039\n",
      "Epoch 87/100\n",
      "131/131 [==============================] - 0s 659us/step - loss: 0.4895 - accuracy: 0.8054\n",
      "Epoch 88/100\n",
      "131/131 [==============================] - 0s 663us/step - loss: 0.5357 - accuracy: 0.8042\n",
      "Epoch 89/100\n",
      "131/131 [==============================] - 0s 677us/step - loss: 0.5367 - accuracy: 0.8039\n",
      "Epoch 90/100\n",
      "131/131 [==============================] - 0s 649us/step - loss: 0.5209 - accuracy: 0.8037\n",
      "Epoch 91/100\n",
      "131/131 [==============================] - 0s 684us/step - loss: 0.5032 - accuracy: 0.8039\n",
      "Epoch 92/100\n",
      "131/131 [==============================] - 0s 718us/step - loss: 0.5578 - accuracy: 0.8039\n",
      "Epoch 93/100\n",
      "131/131 [==============================] - 0s 714us/step - loss: 0.5007 - accuracy: 0.8044\n",
      "Epoch 94/100\n",
      "131/131 [==============================] - 0s 704us/step - loss: 0.4939 - accuracy: 0.8047\n",
      "Epoch 95/100\n",
      "131/131 [==============================] - 0s 689us/step - loss: 0.5012 - accuracy: 0.8044\n",
      "Epoch 96/100\n",
      "131/131 [==============================] - 0s 704us/step - loss: 0.5086 - accuracy: 0.8044\n",
      "Epoch 97/100\n",
      "131/131 [==============================] - 0s 678us/step - loss: 0.5179 - accuracy: 0.8032\n",
      "Epoch 98/100\n",
      "131/131 [==============================] - 0s 715us/step - loss: 0.5370 - accuracy: 0.8035\n",
      "Epoch 99/100\n",
      "131/131 [==============================] - 0s 693us/step - loss: 0.5040 - accuracy: 0.8044\n",
      "Epoch 100/100\n",
      "131/131 [==============================] - 0s 906us/step - loss: 0.4948 - accuracy: 0.8049\n"
     ]
    },
    {
     "data": {
      "text/plain": [
       "<keras.callbacks.History at 0x7f93ba6295e0>"
      ]
     },
     "execution_count": 9,
     "metadata": {},
     "output_type": "execute_result"
    }
   ],
   "source": [
    "# Fit the model to the training data\n",
    "model.fit(x_train, y_train, epochs=100)"
   ]
  },
  {
   "cell_type": "code",
   "execution_count": 10,
   "metadata": {},
   "outputs": [
    {
     "name": "stdout",
     "output_type": "stream",
     "text": [
      "0.6795541048049927\n",
      "0.8098434209823608\n"
     ]
    }
   ],
   "source": [
    "# Evaluate model using test data\n",
    "loss, accuracy = model.evaluate(x_test, y_test, verbose=0)\n",
    "print(loss)\n",
    "print(accuracy)"
   ]
  },
  {
   "cell_type": "code",
   "execution_count": 11,
   "metadata": {},
   "outputs": [
    {
     "name": "stdout",
     "output_type": "stream",
     "text": [
      "56/56 [==============================] - 0s 580us/step\n"
     ]
    }
   ],
   "source": [
    "model_predict = model.predict(x_test)"
   ]
  },
  {
   "attachments": {},
   "cell_type": "markdown",
   "metadata": {},
   "source": [
    "### Register Model in SAS Model Manager with pzmm"
   ]
  },
  {
   "cell_type": "code",
   "execution_count": 13,
   "metadata": {},
   "outputs": [],
   "source": [
    "# Model name within SAS Model Manager\n",
    "model_prefix = 'tfmodel'\n",
    "# Directory location of the model file. If this notebook is downloaded alone, ensure that the folder exists.\n",
    "path = Path.cwd() / \"data/hmeqModels/KerasModel/\"\n",
    "score_metrics = [\"EM_CLASSIFICATION\", \"EM_EVENTPROBABILITY\"]\n",
    "\n",
    "# Make sure model is saved in the .h5 format\n",
    "model.save('./data/hmeqModels/KerasModel/tfmodel.h5')"
   ]
  },
  {
   "cell_type": "code",
   "execution_count": 14,
   "metadata": {},
   "outputs": [
    {
     "name": "stdout",
     "output_type": "stream",
     "text": [
      "inputVar.json was successfully written and saved to python-sasctl/examples/data/hmeqModels/KerasModel/inputVar.json\n",
      "outputVar.json was successfully written and saved to python-sasctl/examples/data/hmeqModels/KerasModel/outputVar.json\n",
      "ModelProperties.json was successfully written and saved to python-sasctl/examples/data/hmeqModels/KerasModel/ModelProperties.json\n",
      "fileMetadata.json was successfully written and saved to python-sasctl/examples/data/hmeqModels/KerasModel/fileMetadata.json\n"
     ]
    }
   ],
   "source": [
    "pzmm.JSONFiles.write_var_json(\n",
    "    # Write input variable mapping to a json file\n",
    "    input_data=hmeq_data[predictor_columns],\n",
    "    is_input=True,\n",
    "    json_path=path)\n",
    "\n",
    "# Set output variables and assign an event threshold, then write output variable mapping\n",
    "output_var = pd.DataFrame(columns=score_metrics, data=[[\"A\", 0.5]]) # data argument includes example expected types for outputs\n",
    "pzmm.JSONFiles.write_var_json(\n",
    "    output_var,\n",
    "    is_input=False, \n",
    "    json_path=path\n",
    ")\n",
    "    \n",
    "# Write model properties to a json file\n",
    "pzmm.JSONFiles.write_model_properties_json(\n",
    "    model_name=model_prefix,\n",
    "    target_variable=target_column, # Target variable to make predictions about (BAD in this case)\n",
    "    target_values=[\"1\", \"0\"], # Possible values for the target variable (1 or 0 for binary classification of BAD)\n",
    "    json_path=path,\n",
    "    model_desc=f\"Description for the {model_prefix} model\",\n",
    "    model_algorithm=\"\",\n",
    "    modeler=\"sasdemo\"\n",
    ")\n",
    "\n",
    "# Write model metadata to a json file so that SAS Model Manager can properly identify all model files\n",
    "pzmm.JSONFiles.write_file_metadata_json(model_prefix=model_prefix, \n",
    "                                        json_path=path, \n",
    "                                        is_tf_keras_model=True)"
   ]
  },
  {
   "cell_type": "code",
   "execution_count": null,
   "metadata": {},
   "outputs": [],
   "source": [
    "import getpass\n",
    "\n",
    "username = getpass.getpass()\n",
    "password = getpass.getpass()\n",
    "host = \"demo.sas.com\" # Change required by user\n",
    "sess = Session(host, username, password, protocol=\"http\") # For TLS-enabled servers, change protocol value to \"https\"\n",
    "conn = sess.as_swat() # Connect to SWAT through the sasctl authenticated connection"
   ]
  },
  {
   "cell_type": "code",
   "execution_count": null,
   "metadata": {},
   "outputs": [],
   "source": [
    "pzmm.ImportModel.import_model(\n",
    "   model_files=path, # Where are the model files?\n",
    "   model_prefix=model_prefix, # What is the model name?\n",
    "   project=\"TFModel\", # What is the project name?\n",
    "   input_data=x, # What does example input data look like?\n",
    "   predict_method=[model.predict, [int, int]], # What is the predict method and what does it return?\n",
    "   overwrite_model=True, # Overwrite model if it arleady exists\n",
    "   target_values=[\"0\", \"1\"], # What are the expecte values of the target variable?\n",
    "   score_metrics=score_metrics, # What are the output variables?\n",
    "   model_file_name = model_prefix + \".h5\", # How was the model file serialized?\n",
    "   missing_values = True, # Does the data include missing values?\n",
    "   tf_keras_model = True # Tells pzmm that this model is a tensorflow keras model\n",
    ")"
   ]
  }
 ],
 "metadata": {
  "kernelspec": {
   "display_name": "yeehaw",
   "language": "python",
   "name": "python3"
  },
  "language_info": {
   "codemirror_mode": {
    "name": "ipython",
    "version": 3
   },
   "file_extension": ".py",
   "mimetype": "text/x-python",
   "name": "python",
   "nbconvert_exporter": "python",
   "pygments_lexer": "ipython3",
   "version": "3.8.16"
  },
  "orig_nbformat": 4
 },
 "nbformat": 4,
 "nbformat_minor": 2
}
