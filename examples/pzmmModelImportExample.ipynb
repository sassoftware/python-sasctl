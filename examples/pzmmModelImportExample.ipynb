{
 "cells": [
  {
   "cell_type": "markdown",
   "metadata": {
    "Collapsed": "false"
   },
   "source": [
    "Copyright © 2021, SAS Institute Inc., Cary, NC, USA.  All Rights Reserved.\n",
    "SPDX-License-Identifier: Apache-2.0"
   ]
  },
  {
   "cell_type": "markdown",
   "metadata": {
    "Collapsed": "false"
   },
   "source": [
    "# HMEQ Dataset : Build and Import Trained Models into SAS Model Manager\n",
    "\n",
    "This notebook provides an example of how to build and train a Python model and then import the model into SAS Model Manager using the fleet maintenance data set. Lines of code that must be modified by the user, such as directory paths are noted with the comment \"_Changes required by user._\".\n",
    "\n",
    "_**Note:** If you download only this notebook and not the rest of the repository, you must also download the hmeq.csv file from the data folder in the examples directory. These files are used when executing this notebook example._\n",
    "\n",
    "Here are the steps shown in this notebook:\n",
    "\n",
    "1. Import and review data and preprocess for model training.\n",
    "2. Build, train, and access a decision tree, random forest, and gradient boosting model.\n",
    "3. Serialize the models into separate pickle files.\n",
    "4. Write the metadata JSON files needed for importing into SAS Model Manager as well as optional files for fit statistics and ROC/Lift charts.\n",
    "4. Write a score code Python file for model scoring.\n",
    "5. Zip the pickle, JSON, and score code files into an archive file.\n",
    "6. Import the ZIP archive file to SAS Model Manager via the Session object and relevant function call."
   ]
  },
  {
   "cell_type": "markdown",
   "metadata": {
    "Collapsed": "false"
   },
   "source": [
    "### Python Package Imports"
   ]
  },
  {
   "cell_type": "code",
   "execution_count": 1,
   "metadata": {
    "Collapsed": "false"
   },
   "outputs": [],
   "source": [
    "# Dataframes for data manipulations\n",
    "import pandas as pd\n",
    "pd.options.mode.chained_assignment = None  # default='warn'\n",
    "# Mathematical calculations and array handling\n",
    "import numpy as np\n",
    "\n",
    "# Data partitioning for TRAIN and TEST data sets\n",
    "from sklearn.model_selection import train_test_split\n",
    "# Decision tree, random forest, and gradient boosting models\n",
    "from sklearn.tree import DecisionTreeClassifier\n",
    "from sklearn.ensemble import RandomForestClassifier, GradientBoostingClassifier\n",
    "# Model assessments \n",
    "from sklearn.metrics import classification_report, confusion_matrix\n",
    "\n",
    "# Embedded plotting\n",
    "import matplotlib.pyplot as plt \n",
    "plt.rc(\"font\", size=14)\n",
    "\n",
    "# Pathing support\n",
    "from pathlib import Path\n",
    "\n",
    "# sasctl interface for importing models\n",
    "import sasctl.pzmm as pzmm\n",
    "from sasctl import Session"
   ]
  },
  {
   "cell_type": "markdown",
   "metadata": {
    "Collapsed": "false"
   },
   "source": [
    "### Import and Review Data Set"
   ]
  },
  {
   "cell_type": "code",
   "execution_count": 2,
   "metadata": {
    "Collapsed": "false"
   },
   "outputs": [
    {
     "data": {
      "text/plain": [
       "(5960, 13)"
      ]
     },
     "execution_count": 2,
     "metadata": {},
     "output_type": "execute_result"
    }
   ],
   "source": [
    "hmeqData = pd.read_csv('data/hmeq.csv',sep= ',')\n",
    "hmeqData.shape"
   ]
  },
  {
   "cell_type": "code",
   "execution_count": 3,
   "metadata": {
    "Collapsed": "false"
   },
   "outputs": [
    {
     "data": {
      "text/html": [
       "<div>\n",
       "<style scoped>\n",
       "    .dataframe tbody tr th:only-of-type {\n",
       "        vertical-align: middle;\n",
       "    }\n",
       "\n",
       "    .dataframe tbody tr th {\n",
       "        vertical-align: top;\n",
       "    }\n",
       "\n",
       "    .dataframe thead th {\n",
       "        text-align: right;\n",
       "    }\n",
       "</style>\n",
       "<table border=\"1\" class=\"dataframe\">\n",
       "  <thead>\n",
       "    <tr style=\"text-align: right;\">\n",
       "      <th></th>\n",
       "      <th>BAD</th>\n",
       "      <th>LOAN</th>\n",
       "      <th>MORTDUE</th>\n",
       "      <th>VALUE</th>\n",
       "      <th>REASON</th>\n",
       "      <th>JOB</th>\n",
       "      <th>YOJ</th>\n",
       "      <th>DEROG</th>\n",
       "      <th>DELINQ</th>\n",
       "      <th>CLAGE</th>\n",
       "      <th>NINQ</th>\n",
       "      <th>CLNO</th>\n",
       "      <th>DEBTINC</th>\n",
       "    </tr>\n",
       "  </thead>\n",
       "  <tbody>\n",
       "    <tr>\n",
       "      <th>0</th>\n",
       "      <td>0</td>\n",
       "      <td>26800</td>\n",
       "      <td>46236.0</td>\n",
       "      <td>62711.0</td>\n",
       "      <td>DebtCon</td>\n",
       "      <td>Office</td>\n",
       "      <td>17.0</td>\n",
       "      <td>0.0</td>\n",
       "      <td>0.0</td>\n",
       "      <td>175.075058</td>\n",
       "      <td>1.0</td>\n",
       "      <td>22.0</td>\n",
       "      <td>33.059934</td>\n",
       "    </tr>\n",
       "    <tr>\n",
       "      <th>1</th>\n",
       "      <td>0</td>\n",
       "      <td>26900</td>\n",
       "      <td>74982.0</td>\n",
       "      <td>126972.0</td>\n",
       "      <td>DebtCon</td>\n",
       "      <td>Office</td>\n",
       "      <td>0.0</td>\n",
       "      <td>0.0</td>\n",
       "      <td>0.0</td>\n",
       "      <td>315.818911</td>\n",
       "      <td>0.0</td>\n",
       "      <td>23.0</td>\n",
       "      <td>38.325990</td>\n",
       "    </tr>\n",
       "    <tr>\n",
       "      <th>2</th>\n",
       "      <td>0</td>\n",
       "      <td>26900</td>\n",
       "      <td>67144.0</td>\n",
       "      <td>92923.0</td>\n",
       "      <td>DebtCon</td>\n",
       "      <td>Other</td>\n",
       "      <td>16.0</td>\n",
       "      <td>0.0</td>\n",
       "      <td>0.0</td>\n",
       "      <td>89.112173</td>\n",
       "      <td>1.0</td>\n",
       "      <td>17.0</td>\n",
       "      <td>32.791478</td>\n",
       "    </tr>\n",
       "    <tr>\n",
       "      <th>3</th>\n",
       "      <td>0</td>\n",
       "      <td>26900</td>\n",
       "      <td>45763.0</td>\n",
       "      <td>73797.0</td>\n",
       "      <td>DebtCon</td>\n",
       "      <td>Other</td>\n",
       "      <td>23.0</td>\n",
       "      <td>NaN</td>\n",
       "      <td>0.0</td>\n",
       "      <td>291.591681</td>\n",
       "      <td>1.0</td>\n",
       "      <td>29.0</td>\n",
       "      <td>39.370858</td>\n",
       "    </tr>\n",
       "    <tr>\n",
       "      <th>4</th>\n",
       "      <td>0</td>\n",
       "      <td>27000</td>\n",
       "      <td>144901.0</td>\n",
       "      <td>178093.0</td>\n",
       "      <td>DebtCon</td>\n",
       "      <td>ProfExe</td>\n",
       "      <td>7.0</td>\n",
       "      <td>0.0</td>\n",
       "      <td>0.0</td>\n",
       "      <td>331.113972</td>\n",
       "      <td>0.0</td>\n",
       "      <td>34.0</td>\n",
       "      <td>40.566552</td>\n",
       "    </tr>\n",
       "  </tbody>\n",
       "</table>\n",
       "</div>"
      ],
      "text/plain": [
       "   BAD   LOAN   MORTDUE     VALUE   REASON      JOB   YOJ  DEROG  DELINQ  \\\n",
       "0    0  26800   46236.0   62711.0  DebtCon   Office  17.0    0.0     0.0   \n",
       "1    0  26900   74982.0  126972.0  DebtCon   Office   0.0    0.0     0.0   \n",
       "2    0  26900   67144.0   92923.0  DebtCon    Other  16.0    0.0     0.0   \n",
       "3    0  26900   45763.0   73797.0  DebtCon    Other  23.0    NaN     0.0   \n",
       "4    0  27000  144901.0  178093.0  DebtCon  ProfExe   7.0    0.0     0.0   \n",
       "\n",
       "        CLAGE  NINQ  CLNO    DEBTINC  \n",
       "0  175.075058   1.0  22.0  33.059934  \n",
       "1  315.818911   0.0  23.0  38.325990  \n",
       "2   89.112173   1.0  17.0  32.791478  \n",
       "3  291.591681   1.0  29.0  39.370858  \n",
       "4  331.113972   0.0  34.0  40.566552  "
      ]
     },
     "execution_count": 3,
     "metadata": {},
     "output_type": "execute_result"
    }
   ],
   "source": [
    "hmeqData.head()"
   ]
  },
  {
   "cell_type": "code",
   "execution_count": 4,
   "metadata": {
    "Collapsed": "false"
   },
   "outputs": [
    {
     "data": {
      "image/png": "[encoded data removed]",
      "text/plain": [
       "<Figure size 1080x1080 with 16 Axes>"
      ]
     },
     "metadata": {
      "needs_background": "light"
     },
     "output_type": "display_data"
    }
   ],
   "source": [
    "hmeqData.hist(figsize=(15,15), layout=(4, 4));"
   ]
  },
  {
   "cell_type": "code",
   "execution_count": 5,
   "metadata": {
    "Collapsed": "false"
   },
   "outputs": [
    {
     "data": {
      "text/plain": [
       "Index(['BAD', 'LOAN', 'MORTDUE', 'VALUE', 'REASON', 'JOB', 'YOJ', 'DEROG',\n",
       "       'DELINQ', 'CLAGE', 'NINQ', 'CLNO', 'DEBTINC'],\n",
       "      dtype='object')"
      ]
     },
     "execution_count": 5,
     "metadata": {},
     "output_type": "execute_result"
    }
   ],
   "source": [
    "hmeqData.columns"
   ]
  },
  {
   "cell_type": "markdown",
   "metadata": {
    "Collapsed": "false"
   },
   "source": [
    "### Preprocess Data"
   ]
  },
  {
   "cell_type": "code",
   "execution_count": 6,
   "metadata": {
    "Collapsed": "false"
   },
   "outputs": [],
   "source": [
    "predictorColumns = ['LOAN', 'MORTDUE', 'VALUE', 'YOJ', 'DEROG', 'DELINQ', 'CLAGE', 'NINQ', 'CLNO', 'DEBTINC']\n",
    "\n",
    "targetColumn = 'BAD'\n",
    "x = hmeqData[predictorColumns]\n",
    "y = hmeqData[targetColumn]\n",
    "\n",
    "xTrain, xTest, yTrain, yTest = train_test_split(x, y, test_size=0.3, random_state=42)\n",
    "\n",
    "# For missing values, impute the data set's mean value\n",
    "xTest.fillna(xTest.mean(), inplace=True)\n",
    "xTrain.fillna(xTrain.mean(), inplace=True)"
   ]
  },
  {
   "cell_type": "markdown",
   "metadata": {
    "Collapsed": "false"
   },
   "source": [
    "### Create, Train, and Assess Model"
   ]
  },
  {
   "cell_type": "code",
   "execution_count": 7,
   "metadata": {
    "Collapsed": "false"
   },
   "outputs": [],
   "source": [
    "treeModel = DecisionTreeClassifier(random_state=42)\n",
    "treeModel = treeModel.fit(xTrain, yTrain)\n",
    "\n",
    "forestModel = RandomForestClassifier(random_state=42)\n",
    "forestModel = forestModel.fit(xTrain, yTrain)\n",
    "\n",
    "gradientModel = GradientBoostingClassifier(random_state=42)\n",
    "gradientModel = gradientModel.fit(xTrain, yTrain)"
   ]
  },
  {
   "cell_type": "code",
   "execution_count": 8,
   "metadata": {
    "Collapsed": "false"
   },
   "outputs": [
    {
     "data": {
      "text/html": [
       "<div>\n",
       "<style scoped>\n",
       "    .dataframe tbody tr th:only-of-type {\n",
       "        vertical-align: middle;\n",
       "    }\n",
       "\n",
       "    .dataframe tbody tr th {\n",
       "        vertical-align: top;\n",
       "    }\n",
       "\n",
       "    .dataframe thead th {\n",
       "        text-align: right;\n",
       "    }\n",
       "</style>\n",
       "<table border=\"1\" class=\"dataframe\">\n",
       "  <thead>\n",
       "    <tr style=\"text-align: right;\">\n",
       "      <th></th>\n",
       "      <th>DecisionTree</th>\n",
       "      <th>RandomForest</th>\n",
       "      <th>GradientBoosting</th>\n",
       "    </tr>\n",
       "  </thead>\n",
       "  <tbody>\n",
       "    <tr>\n",
       "      <th>DEBTINC</th>\n",
       "      <td>36.16%</td>\n",
       "      <td>26.14%</td>\n",
       "      <td>51.18%</td>\n",
       "    </tr>\n",
       "    <tr>\n",
       "      <th>CLAGE</th>\n",
       "      <td>12.6%</td>\n",
       "      <td>10.87%</td>\n",
       "      <td>7.76%</td>\n",
       "    </tr>\n",
       "    <tr>\n",
       "      <th>DELINQ</th>\n",
       "      <td>12.18%</td>\n",
       "      <td>9.82%</td>\n",
       "      <td>14.68%</td>\n",
       "    </tr>\n",
       "    <tr>\n",
       "      <th>VALUE</th>\n",
       "      <td>7.16%</td>\n",
       "      <td>9.42%</td>\n",
       "      <td>4.77%</td>\n",
       "    </tr>\n",
       "    <tr>\n",
       "      <th>LOAN</th>\n",
       "      <td>6.97%</td>\n",
       "      <td>8.98%</td>\n",
       "      <td>3.54%</td>\n",
       "    </tr>\n",
       "    <tr>\n",
       "      <th>YOJ</th>\n",
       "      <td>6.75%</td>\n",
       "      <td>6.88%</td>\n",
       "      <td>2.04%</td>\n",
       "    </tr>\n",
       "    <tr>\n",
       "      <th>MORTDUE</th>\n",
       "      <td>6.15%</td>\n",
       "      <td>8.46%</td>\n",
       "      <td>2.03%</td>\n",
       "    </tr>\n",
       "    <tr>\n",
       "      <th>CLNO</th>\n",
       "      <td>5.97%</td>\n",
       "      <td>8.16%</td>\n",
       "      <td>4.2%</td>\n",
       "    </tr>\n",
       "    <tr>\n",
       "      <th>DEROG</th>\n",
       "      <td>3.46%</td>\n",
       "      <td>6.47%</td>\n",
       "      <td>7.65%</td>\n",
       "    </tr>\n",
       "    <tr>\n",
       "      <th>NINQ</th>\n",
       "      <td>2.59%</td>\n",
       "      <td>4.8%</td>\n",
       "      <td>2.15%</td>\n",
       "    </tr>\n",
       "  </tbody>\n",
       "</table>\n",
       "</div>"
      ],
      "text/plain": [
       "        DecisionTree RandomForest GradientBoosting\n",
       "DEBTINC       36.16%       26.14%           51.18%\n",
       "CLAGE          12.6%       10.87%            7.76%\n",
       "DELINQ        12.18%        9.82%           14.68%\n",
       "VALUE          7.16%        9.42%            4.77%\n",
       "LOAN           6.97%        8.98%            3.54%\n",
       "YOJ            6.75%        6.88%            2.04%\n",
       "MORTDUE        6.15%        8.46%            2.03%\n",
       "CLNO           5.97%        8.16%             4.2%\n",
       "DEROG          3.46%        6.47%            7.65%\n",
       "NINQ           2.59%         4.8%            2.15%"
      ]
     },
     "execution_count": 8,
     "metadata": {},
     "output_type": "execute_result"
    }
   ],
   "source": [
    "def sortFeatureImportance(model, xData):\n",
    "    features = {}\n",
    "    for importance, name in sorted(zip(model.feature_importances_, xData.columns), reverse=True):\n",
    "        features[name] = str(np.round(importance*100, 2)) + '%'\n",
    "    return features\n",
    "\n",
    "importances = pd.DataFrame.from_dict(sortFeatureImportance(treeModel, xTrain), orient='index').rename(columns={0: 'DecisionTree'})\n",
    "importances['RandomForest'] = pd.DataFrame.from_dict(sortFeatureImportance(forestModel, xTrain), orient='index')\n",
    "importances['GradientBoosting'] = pd.DataFrame.from_dict(sortFeatureImportance(gradientModel, xTrain), orient='index')\n",
    "importances"
   ]
  },
  {
   "cell_type": "code",
   "execution_count": 9,
   "metadata": {
    "Collapsed": "false"
   },
   "outputs": [
    {
     "name": "stdout",
     "output_type": "stream",
     "text": [
      "[[1396   45]\n",
      " [ 218  129]]\n",
      "              precision    recall  f1-score   support\n",
      "\n",
      "           0       0.86      0.97      0.91      1441\n",
      "           1       0.74      0.37      0.50       347\n",
      "\n",
      "    accuracy                           0.85      1788\n",
      "   macro avg       0.80      0.67      0.70      1788\n",
      "weighted avg       0.84      0.85      0.83      1788\n",
      "\n",
      "Decision Tree Model Accuracy = 85.29%\n"
     ]
    }
   ],
   "source": [
    "yTreePredict = treeModel.predict(xTest)\n",
    "yTreeProba = treeModel.predict_proba(xTest)\n",
    "print(confusion_matrix(yTest, yTreePredict))\n",
    "print(classification_report(yTest, yTreePredict))\n",
    "print('Decision Tree Model Accuracy = ' + str(np.round(treeModel.score(xTest, yTest)*100,2)) + '%')"
   ]
  },
  {
   "cell_type": "code",
   "execution_count": 10,
   "metadata": {
    "Collapsed": "false"
   },
   "outputs": [
    {
     "name": "stdout",
     "output_type": "stream",
     "text": [
      "[[1438    3]\n",
      " [ 218  129]]\n",
      "              precision    recall  f1-score   support\n",
      "\n",
      "           0       0.87      1.00      0.93      1441\n",
      "           1       0.98      0.37      0.54       347\n",
      "\n",
      "    accuracy                           0.88      1788\n",
      "   macro avg       0.92      0.68      0.73      1788\n",
      "weighted avg       0.89      0.88      0.85      1788\n",
      "\n",
      "Random Forest Model Accuracy = 87.64%\n"
     ]
    }
   ],
   "source": [
    "yForestPredict = forestModel.predict(xTest)\n",
    "yForestProba = forestModel.predict_proba(xTest)\n",
    "print(confusion_matrix(yTest, yForestPredict))\n",
    "print(classification_report(yTest, yForestPredict))\n",
    "print('Random Forest Model Accuracy = ' + str(np.round(forestModel.score(xTest, yTest)*100,2)) + '%')"
   ]
  },
  {
   "cell_type": "code",
   "execution_count": 11,
   "metadata": {},
   "outputs": [
    {
     "name": "stdout",
     "output_type": "stream",
     "text": [
      "[[1440    1]\n",
      " [ 251   96]]\n",
      "              precision    recall  f1-score   support\n",
      "\n",
      "           0       0.85      1.00      0.92      1441\n",
      "           1       0.99      0.28      0.43       347\n",
      "\n",
      "    accuracy                           0.86      1788\n",
      "   macro avg       0.92      0.64      0.68      1788\n",
      "weighted avg       0.88      0.86      0.83      1788\n",
      "\n",
      "Gradient Boosting Model Accuracy = 85.91%\n"
     ]
    }
   ],
   "source": [
    "yGradientPredict = gradientModel.predict(xTest)\n",
    "yGradientProba = gradientModel.predict_proba(xTest)\n",
    "print(confusion_matrix(yTest, yGradientPredict))\n",
    "print(classification_report(yTest, yGradientPredict))\n",
    "print('Gradient Boosting Model Accuracy = ' + str(np.round(gradientModel.score(xTest, yTest)*100,2)) + '%')"
   ]
  },
  {
   "cell_type": "markdown",
   "metadata": {
    "Collapsed": "false"
   },
   "source": [
    "### Register Model in SAS Model Manager with pzmm"
   ]
  },
  {
   "cell_type": "code",
   "execution_count": 12,
   "metadata": {
    "Collapsed": "false"
   },
   "outputs": [
    {
     "name": "stdout",
     "output_type": "stream",
     "text": [
      "Model DecisionTreeClassifier was successfully pickled and saved to c:\\Users\\sclind\\Documents\\Python Scripts\\GitHub\\sassoftware\\python-sasctl\\examples\\data\\hmeqModels\\DecisionTreeClassifier\\DecisionTreeClassifier.pickle.\n",
      "Model RandomForest was successfully pickled and saved to c:\\Users\\sclind\\Documents\\Python Scripts\\GitHub\\sassoftware\\python-sasctl\\examples\\data\\hmeqModels\\RandomForest\\RandomForest.pickle.\n",
      "Model GradientBoosting was successfully pickled and saved to c:\\Users\\sclind\\Documents\\Python Scripts\\GitHub\\sassoftware\\python-sasctl\\examples\\data\\hmeqModels\\GradientBoosting\\GradientBoosting.pickle.\n"
     ]
    }
   ],
   "source": [
    "modelPrefix = ['DecisionTreeClassifier', 'RandomForest', 'GradientBoosting']\n",
    "zipFolder = [Path.cwd() / 'data/hmeqModels/DecisionTreeClassifier/',\n",
    "             Path.cwd() / 'data/hmeqModels/RandomForest/',\n",
    "             Path.cwd() / 'data/hmeqModels/GradientBoosting'] # User created directories\n",
    "model = [treeModel, forestModel, gradientModel]\n",
    "\n",
    "for (m, prefix, path) in zip(model, modelPrefix, zipFolder):\n",
    "    pzmm.PickleModel.pickle_trained_model(_, m, prefix, path)"
   ]
  },
  {
   "cell_type": "code",
   "execution_count": 20,
   "metadata": {
    "Collapsed": "false"
   },
   "outputs": [
    {
     "name": "stdout",
     "output_type": "stream",
     "text": [
      "inputVar.json was successfully written and saved to c:\\Users\\sclind\\Documents\\Python Scripts\\GitHub\\sassoftware\\python-sasctl\\examples\\data\\hmeqModels\\DecisionTreeClassifier\\inputVar.json\n",
      "outputVar.json was successfully written and saved to c:\\Users\\sclind\\Documents\\Python Scripts\\GitHub\\sassoftware\\python-sasctl\\examples\\data\\hmeqModels\\DecisionTreeClassifier\\outputVar.json\n",
      "ModelProperties.json was successfully written and saved to c:\\Users\\sclind\\Documents\\Python Scripts\\GitHub\\sassoftware\\python-sasctl\\examples\\data\\hmeqModels\\DecisionTreeClassifier\\ModelProperties.json\n",
      "fileMetaData.json was successfully written and saved to c:\\Users\\sclind\\Documents\\Python Scripts\\GitHub\\sassoftware\\python-sasctl\\examples\\data\\hmeqModels\\DecisionTreeClassifier\\fileMetaData.json\n",
      "inputVar.json was successfully written and saved to c:\\Users\\sclind\\Documents\\Python Scripts\\GitHub\\sassoftware\\python-sasctl\\examples\\data\\hmeqModels\\RandomForest\\inputVar.json\n",
      "outputVar.json was successfully written and saved to c:\\Users\\sclind\\Documents\\Python Scripts\\GitHub\\sassoftware\\python-sasctl\\examples\\data\\hmeqModels\\RandomForest\\outputVar.json\n",
      "ModelProperties.json was successfully written and saved to c:\\Users\\sclind\\Documents\\Python Scripts\\GitHub\\sassoftware\\python-sasctl\\examples\\data\\hmeqModels\\RandomForest\\ModelProperties.json\n",
      "fileMetaData.json was successfully written and saved to c:\\Users\\sclind\\Documents\\Python Scripts\\GitHub\\sassoftware\\python-sasctl\\examples\\data\\hmeqModels\\RandomForest\\fileMetaData.json\n",
      "inputVar.json was successfully written and saved to c:\\Users\\sclind\\Documents\\Python Scripts\\GitHub\\sassoftware\\python-sasctl\\examples\\data\\hmeqModels\\GradientBoosting\\inputVar.json\n",
      "outputVar.json was successfully written and saved to c:\\Users\\sclind\\Documents\\Python Scripts\\GitHub\\sassoftware\\python-sasctl\\examples\\data\\hmeqModels\\GradientBoosting\\outputVar.json\n",
      "ModelProperties.json was successfully written and saved to c:\\Users\\sclind\\Documents\\Python Scripts\\GitHub\\sassoftware\\python-sasctl\\examples\\data\\hmeqModels\\GradientBoosting\\ModelProperties.json\n",
      "fileMetaData.json was successfully written and saved to c:\\Users\\sclind\\Documents\\Python Scripts\\GitHub\\sassoftware\\python-sasctl\\examples\\data\\hmeqModels\\GradientBoosting\\fileMetaData.json\n"
     ]
    }
   ],
   "source": [
    "def writeJSONFiles(data, predict, target, zipFolder, modelPrefix):\n",
    "    J = pzmm.JSONFiles()\n",
    "    \n",
    "    # Write input variable mapping to a json file\n",
    "    J.writeVarJSON(data[predict], isInput=True, jPath=zipFolder)\n",
    "    \n",
    "    # Set output variables and assign an event threshold, then write output variable mapping\n",
    "    outputVar = pd.DataFrame(columns=['EM_EVENTPROBABILITY', 'EM_CLASSIFICATION'], data=[[0.5, 'A']]) # data argument includes example expected types for columns\n",
    "    J.writeVarJSON(outputVar, isInput=False, jPath=zipFolder)\n",
    "    \n",
    "    # Write model properties to a json file\n",
    "    J.writeModelPropertiesJSON(modelName=modelPrefix,\n",
    "                               modelDesc='',\n",
    "                               targetVariable=target,\n",
    "                               modelType='',\n",
    "                               modelPredictors=predict,\n",
    "                               targetEvent=1,\n",
    "                               numTargetCategories=1,\n",
    "                               eventProbVar='EM_EVENTPROBABILITY',\n",
    "                               jPath=zipFolder,\n",
    "                               modeler='sasdemo')\n",
    "    \n",
    "    # Write model metadata to a json file\n",
    "    J.writeFileMetadataJSON(modelPrefix, jPath=zipFolder)\n",
    "\n",
    "for (prefix, path) in zip(modelPrefix, zipFolder):\n",
    "    writeJSONFiles(hmeqData, predictorColumns, targetColumn, path, prefix)"
   ]
  },
  {
   "cell_type": "code",
   "execution_count": null,
   "metadata": {
    "Collapsed": "false"
   },
   "outputs": [],
   "source": [
    "import getpass\n",
    "def writeModelStats(xTrain, yTrain, testProba, yTest, model, target, zipFolder, conn):\n",
    "    J = pzmm.JSONFiles()\n",
    "    \n",
    "    # Calculate train predictions\n",
    "    trainProba = model.predict_proba(xTrain)\n",
    "    \n",
    "    # Assign data to lists of actual and predicted values\n",
    "    trainData = pd.concat([yTrain.reset_index(drop=True), pd.Series(data=trainProba[:,1])], axis=1)\n",
    "    testData = pd.concat([yTest.reset_index(drop=True), pd.Series(data=testProba[:,1])], axis=1)\n",
    "    \n",
    "    # Calculate the model statistics and write to json files\n",
    "    J.calculateFitStat(trainData=trainData, testData=testData, jPath=zipFolder)\n",
    "    J.generateROCLiftStat(target, 1, conn, trainData=trainData, testData=testData, jPath=zipFolder)\n",
    "    \n",
    "username = getpass.getpass()\n",
    "password = getpass.getpass()\n",
    "host = 'demo.sas.com'\n",
    "sess = Session(host, username, password, protocol='http')\n",
    "conn = sess.as_swat()\n",
    "\n",
    "testProba = [yTreeProba, yForestProba, yGradientProba]\n",
    "for (m, proba, path) in zip(model, testProba, zipFolder):\n",
    "    writeModelStats(xTrain, yTrain, proba, yTest, m, targetColumn, path, conn)"
   ]
  },
  {
   "cell_type": "code",
   "execution_count": null,
   "metadata": {
    "Collapsed": "false"
   },
   "outputs": [],
   "source": [
    "I = pzmm.ImportModel()\n",
    "for (prefix, path) in zip(modelPrefix, zipFolder):\n",
    "    I.pzmmImportModel(path, prefix, 'HMEQModels', x, y, '{}.predict({})', force=True)"
   ]
  }
 ],
 "metadata": {
  "interpreter": {
   "hash": "f9708d3f38eeab835578f0695c8890716ee809285281a28db6e379a5abca1310"
  },
  "kernelspec": {
   "display_name": "Python 3.8.3 64-bit ('dev-sasctl': conda)",
   "name": "python3"
  },
  "language_info": {
   "codemirror_mode": {
    "name": "ipython",
    "version": 3
   },
   "file_extension": ".py",
   "mimetype": "text/x-python",
   "name": "python",
   "nbconvert_exporter": "python",
   "pygments_lexer": "ipython3",
   "version": "3.8.3"
  },
  "latex_envs": {
   "LaTeX_envs_menu_present": true,
   "autoclose": true,
   "autocomplete": true,
   "bibliofile": "biblio.bib",
   "cite_by": "apalike",
   "current_citInitial": 1,
   "eqLabelWithNumbers": true,
   "eqNumInitial": 1,
   "hotkeys": {
    "equation": "Ctrl-E",
    "itemize": "Ctrl-I"
   },
   "labels_anchors": false,
   "latex_user_defs": false,
   "report_style_numbering": false,
   "user_envs_cfg": false
  },
  "varInspector": {
   "cols": {
    "lenName": 16,
    "lenType": 16,
    "lenVar": 40
   },
   "kernels_config": {
    "python": {
     "delete_cmd_postfix": "",
     "delete_cmd_prefix": "del ",
     "library": "var_list.py",
     "varRefreshCmd": "print(var_dic_list())"
    },
    "r": {
     "delete_cmd_postfix": ") ",
     "delete_cmd_prefix": "rm(",
     "library": "var_list.r",
     "varRefreshCmd": "cat(var_dic_list()) "
    }
   },
   "types_to_exclude": [
    "module",
    "function",
    "builtin_function_or_method",
    "instance",
    "_Feature"
   ],
   "window_display": false
  }
 },
 "nbformat": 4,
 "nbformat_minor": 4
}
