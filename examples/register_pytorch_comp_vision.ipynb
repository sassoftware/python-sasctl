{
 "cells": [
  {
   "cell_type": "markdown",
   "id": "4d306649",
   "metadata": {},
   "source": [
    "# Register Pytorch Model in SAS Viya 4 Model Manager"
   ]
  },
  {
   "cell_type": "code",
   "execution_count": 8,
   "id": "5ffb1041",
   "metadata": {},
   "outputs": [],
   "source": [
    "import sasctl.pzmm as pzmm\n",
    "import sasctl\n",
    "from sasctl import Session\n",
    "import pandas as pd\n",
    "import getpass\n",
    "import numpy\n",
    "import os\n"
   ]
  },
  {
   "cell_type": "code",
   "execution_count": 5,
   "id": "5a4a2ba1",
   "metadata": {},
   "outputs": [],
   "source": [
    "# Define naming for the project and prefix for all the models\n",
    "prefixModelFile = 'myProject_'\n",
    "model_name = prefixModelFile + 'myModel'"
   ]
  },
  {
   "cell_type": "code",
   "execution_count": 1,
   "id": "f1fb209c",
   "metadata": {},
   "outputs": [],
   "source": [
    "# Define a directory where all the files for SAS Model Manager will be kept \n",
    "MODEL_DIR = '/python-sasctl/pytorch/'  # this cell clears all files inside MODEL_DIR path!!!\n",
    "\n",
    "\n",
    "if not(os.path.exists(MODEL_DIR)):\n",
    "    os.makedirs(MODEL_DIR)\n",
    "    print(\"Directory \" , MODEL_DIR ,  \" created\")\n",
    "else:\n",
    "    print(\"Directory \" , MODEL_DIR,  \" already exists\")\n",
    "    for filename in os.listdir(MODEL_DIR):\n",
    "        file_path = os.path.join(MODEL_DIR, filename)\n",
    "        try:\n",
    "            if os.path.isfile(file_path) or os.path.islink(file_path):\n",
    "                os.unlink(file_path)\n",
    "                print('older file deleted...')\n",
    "            elif os.path.isdir(file_path):\n",
    "                shutil.rmtree(file_path)\n",
    "                print('older file deleted...')\n",
    "        except Exception as e:\n",
    "            print('Failed to delete %s. Reason: %s' % (file_path, e))"
   ]
  },
  {
   "cell_type": "markdown",
   "id": "2b7552c3",
   "metadata": {},
   "source": [
    "### Define Server Credentials"
   ]
  },
  {
   "cell_type": "code",
   "execution_count": 40,
   "id": "2022fea3",
   "metadata": {},
   "outputs": [
    {
     "name": "stdout",
     "output_type": "stream",
     "text": [
      "Password for the Server:\n",
      "········\n"
     ]
    }
   ],
   "source": [
    "server = 'SERVER'\n",
    "user = 'USERNAME'\n",
    "\n",
    "print('Password for the Server:')\n",
    "p = getpass.getpass()"
   ]
  },
  {
   "cell_type": "markdown",
   "id": "4cf27c7a",
   "metadata": {},
   "source": [
    "### Define Input/output variables"
   ]
  },
  {
   "cell_type": "code",
   "execution_count": 10,
   "id": "7cfa1d94",
   "metadata": {},
   "outputs": [
    {
     "name": "stdout",
     "output_type": "stream",
     "text": [
      "inputVar.json was successfully written and saved to Model/inputVar.json\n",
      "outputVar.json was successfully written and saved to Model/outputVar.json\n"
     ]
    }
   ],
   "source": [
    "# Input variables\n",
    "inputVar = pd.DataFrame({'image' : ['msg'*33333]})\n",
    "pzmm.JSONFiles.write_var_json(inputDF=inputVar,isInput=True)\n",
    "inputVarJSON = pd.read_json(\"inputVar.json\")\n",
    "\n",
    "# Output variables\n",
    "outputVar = pd.DataFrame({'food_label' : ['msg'*90], 'msg' : ['msg'*90]})\n",
    "pzmm.JSONFiles.write_var_json(inputDF=outputVar,isInput=False)\n",
    "outputVarJSON =  pd.read_json(\"outputVar.json\")\n",
    "\n",
    "# Define Input Output Variables and types for SAS Model Manager\n",
    "project_input_variables = list(pd.DataFrame.to_dict(inputVarJSON.transpose()).values())\n",
    "for var in project_input_variables:\n",
    "    var[\"role\"] = \"input\"\n",
    "project_output_variables = list(pd.DataFrame.to_dict(outputVarJSON.transpose()).values())\n",
    "for var in project_output_variables:\n",
    "    var[\"role\"] = \"output\"\n",
    "project_variables = project_input_variables + project_output_variables"
   ]
  },
  {
   "cell_type": "markdown",
   "id": "813c8d03",
   "metadata": {},
   "source": [
    "### Define Score Code for Pytorch Model"
   ]
  },
  {
   "cell_type": "code",
   "execution_count": 14,
   "id": "f0c26756",
   "metadata": {},
   "outputs": [],
   "source": [
    "score_code = \"\"\"\n",
    "from torch import jit\n",
    "import torch\n",
    "from torchvision import transforms\n",
    "import base64\n",
    "from PIL import Image\n",
    "import io\n",
    "import settings\n",
    "\n",
    "model = None\n",
    "\n",
    "def scoreModel(image):\n",
    "    \"Output: food_label, msg\"\n",
    "    \n",
    "    global model\n",
    "    try:\n",
    "        # load labels \n",
    "        with open(settings.pickle_path + \"class_names.txt\", \"r\") as file:\n",
    "            labels = file.read()\n",
    "        labels = labels.split(\",\")\n",
    "\n",
    "        # transform image data\n",
    "        data_transforms = transforms.Compose([transforms.Resize(256),\n",
    "                        transforms.CenterCrop(224),\n",
    "                        transforms.ToTensor(),\n",
    "                        transforms.Normalize([0.485, 0.456, 0.406], [0.229, 0.224, 0.225])])\n",
    "\n",
    "        # read as string and decode base64\n",
    "        my_byte = bytes(image, encoding=\"UTF-8\")\n",
    "        r = base64.decodebytes(my_byte)\n",
    "\n",
    "        # convert into a numeric matrix\n",
    "        image = Image.open(io.BytesIO(r)).convert(\"RGB\")\n",
    "        # transform into torch format\n",
    "        image = data_transforms(image)\n",
    "        \n",
    "        if model is None:\n",
    "            # load torch model\n",
    "            model = jit.load(settings.pickle_path + \"pytorch_model.pt\", map_location=torch.device(\"cpu\"))\n",
    "        \n",
    "        # predict the index\n",
    "        _,preds = torch.max(model(image[None, ...]), 1)\n",
    "        food_label = labels[preds[0]]\n",
    "        msg = \"success\"\n",
    "    except Exception as e:\n",
    "        food_label = \"-1\"\n",
    "        msg = str(e)\n",
    "    return food_label, msg\"\"\"\n",
    "\n",
    "f = open(MODEL_DIR + '/' + model_name + '.py',\"w+\")\n",
    "f.write(score_code)\n",
    "f.close()"
   ]
  },
  {
   "cell_type": "markdown",
   "id": "fc92c3b7",
   "metadata": {},
   "source": [
    "### Add requirements.json File for SCR Container\n",
    "Installs additional components inside the container"
   ]
  },
  {
   "cell_type": "code",
   "execution_count": 15,
   "id": "fb7f8712",
   "metadata": {},
   "outputs": [],
   "source": [
    "requirements = \"\"\"[\n",
    "     {\n",
    "        \"step\":\"install pandas \",\n",
    "        \"command\":\"pip3 install pandas\"\n",
    "     },\n",
    "     {\n",
    "        \"step\":\"install base64 \",\n",
    "        \"command\":\"pip3 install pybase64\"\n",
    "     },\n",
    "     {\n",
    "        \"step\":\"install Pillow \",\n",
    "        \"command\":\"pip3 install Pillow\"\n",
    "     },\n",
    "     {\n",
    "        \"step\":\"install sasctl \",\n",
    "        \"command\":\"pip3 install sasctl\"\n",
    "     },\n",
    "     {\n",
    "        \"step\":\"install pytorch \",\n",
    "        \"command\":\"pip3 install torch torchvision torchaudio --extra-index-url https://download.pytorch.org/whl/cpu\"\n",
    "     }\n",
    "]\"\"\"\n",
    "\n",
    "f = open(MODEL_DIR + '/' + 'requirements.json',\"w+\")\n",
    "f.write(requirements)\n",
    "f.close()"
   ]
  },
  {
   "cell_type": "code",
   "execution_count": 39,
   "id": "abb443aa",
   "metadata": {},
   "outputs": [],
   "source": [
    "model_attr = dict()\n",
    "model_attr['name'] = model_name\n",
    "\n",
    "\n",
    "model_attr['toolVersion'] = '3.8.12'\n",
    "model_attr['eventProbVar'] = 'food_label'\n",
    "model_attr['targetLevel'] = 'NOMINAL'\n",
    "model_attr['trainCodeType'] = 'Python'\n",
    "\n",
    "\n",
    "project_name = 'myProjectName'"
   ]
  },
  {
   "cell_type": "markdown",
   "id": "c2eee7c3",
   "metadata": {},
   "source": [
    "### Create Project in SAS Model Manager"
   ]
  },
  {
   "cell_type": "code",
   "execution_count": 17,
   "id": "7608d52b",
   "metadata": {},
   "outputs": [],
   "source": [
    "from sasctl import Session\n",
    "from sasctl.services import model_repository as mr\n",
    "\n",
    "try:\n",
    "    # Establish a session with SAS Viya\n",
    "    with Session(server, user, p, verify_ssl=False, protocol='http') as s:\n",
    "        mr.create_project(project=project_name, repository = 'Public', variables = project_variables,targetLevel = model_attr['targetLevel'],function='classification')\n",
    "except Exception as e:\n",
    "    print(e)"
   ]
  },
  {
   "cell_type": "markdown",
   "id": "16d36c48",
   "metadata": {},
   "source": [
    "### Edit Project Settings"
   ]
  },
  {
   "cell_type": "code",
   "execution_count": 18,
   "id": "e93bfb59",
   "metadata": {},
   "outputs": [],
   "source": [
    "with Session(server, user, p, verify_ssl=False, protocol = 'http'):\n",
    "\n",
    "    project = mr.get_project(project_name)\n",
    "    project['eventProbabilityVariable'] = model_attr['eventProbVar']\n",
    "    project = mr.update_project(project)"
   ]
  },
  {
   "cell_type": "markdown",
   "id": "8234fbd1",
   "metadata": {},
   "source": [
    "### Create Model in SAS Model Manager"
   ]
  },
  {
   "cell_type": "code",
   "execution_count": 37,
   "id": "a9aa48cb",
   "metadata": {},
   "outputs": [],
   "source": [
    "with Session(server, user, p, verify_ssl=False, protocol = 'http'):\n",
    "\n",
    "    mr.create_model(model=model_attr,project=project_name, modeler= 'User1', function='classification', \n",
    "                    algorithm='Pytorch efficientnet', tool='Python 3', target_variable=model_attr['eventProbVar'],\n",
    "                    score_code_type= \"python\",\n",
    "                    input_variables=list(pd.DataFrame.to_dict(inputVarJSON.transpose()).values()),\n",
    "                    output_variables=list(pd.DataFrame.to_dict(outputVarJSON.transpose()).values()),\n",
    "                    is_champion=True)"
   ]
  },
  {
   "cell_type": "markdown",
   "id": "c81e464f",
   "metadata": {},
   "source": [
    "### Upload Pytorch Model Assets"
   ]
  },
  {
   "cell_type": "code",
   "execution_count": null,
   "id": "c4761d7e",
   "metadata": {},
   "outputs": [],
   "source": [
    "# Establish a session with SAS Viya\n",
    "\n",
    "with Session(server, user, p, verify_ssl=False, protocol = 'http'):\n",
    "    # score script\n",
    "    mr.add_model_content(model=model_name, file=score_code, \n",
    "                        name=model_name + '.py', role='score')\n",
    "\n",
    "    # saved model\n",
    "    file = open('data/pytorch/pytorch_model.pt', 'rb')\n",
    "    mr.add_model_content(model=model_name, file=file, \n",
    "                         name='pytorch_model.pt', role='Python pickle')\n",
    "    file.close()\n",
    "    \n",
    "    # requirements for SCR environment\n",
    "    file = open(MODEL_DIR + '/' + 'requirements.json', 'rb')\n",
    "    mr.add_model_content(model=model_name, file=file, \n",
    "                         name='requirements.json', role='python pickle')\n",
    "    file.close()\n",
    "    \n",
    "    # saved list class names\n",
    "    file = open('data/pytorch/class_names.txt', 'rb')\n",
    "    mr.add_model_content(model=model_name, file=file, \n",
    "                         name='class_names.txt', role='Python pickle')\n",
    "    file.close()"
   ]
  },
  {
   "cell_type": "markdown",
   "id": "12bf932c",
   "metadata": {},
   "source": [
    "### Deploy Model"
   ]
  },
  {
   "cell_type": "code",
   "execution_count": 42,
   "id": "abb49ca2",
   "metadata": {},
   "outputs": [],
   "source": [
    "from sasctl.services import model_management as mm\n",
    "# Establish a session with SAS Viya\n",
    "with Session(server, user, p, verify_ssl=False, protocol = 'http') as s:\n",
    "    # Publish the model to the azure registry with git repo\n",
    "    module = mm.publish_model(model_name, destination='YOUR-CONTAINER-DESTINATION', force=True)"
   ]
  },
  {
   "cell_type": "markdown",
   "id": "e3a623aa",
   "metadata": {},
   "source": [
    "# Score Model using Local SCR"
   ]
  },
  {
   "cell_type": "markdown",
   "id": "ed6ead74",
   "metadata": {},
   "source": [
    "### Create Input Object"
   ]
  },
  {
   "cell_type": "code",
   "execution_count": null,
   "id": "9253ecff",
   "metadata": {},
   "outputs": [],
   "source": [
    "import base64\n",
    "\n",
    "with open(\"data/pytorch/Image_107.jpg\", \"rb\") as img_file:\n",
    "    my_string = base64.b64encode(img_file.read())\n",
    "    image_strings = my_string.decode('utf-8')"
   ]
  },
  {
   "cell_type": "code",
   "execution_count": null,
   "id": "227ea320",
   "metadata": {},
   "outputs": [],
   "source": [
    "from io import StringIO\n",
    "import csv\n",
    "\n",
    "\n",
    "f = StringIO()\n",
    "w = csv.writer(f)\n",
    "w.writerow(['image'])\n",
    "w.writerow([image_strings])\n",
    "input_byte = f.getvalue().encode('UTF-8')"
   ]
  },
  {
   "cell_type": "markdown",
   "id": "f047a62c",
   "metadata": {},
   "source": [
    "### Make API Request to a Local Container Listening on Port 8080"
   ]
  },
  {
   "cell_type": "code",
   "execution_count": null,
   "id": "19a5ec29",
   "metadata": {},
   "outputs": [],
   "source": [
    "import requests\n",
    "\n",
    "# Run a test on score API\n",
    "headers = {'Content-Type':\"multipart/form-data\"}\n",
    "endpoint = \"http://localhost:8080/executions\"\n",
    "\n",
    "files = {'file': ('score.csv', input_byte)}\n",
    "response = requests.post(endpoint, files=files)\n",
    "\n",
    "\n",
    "print('endpoint= ', endpoint)\n",
    "print('http status code= ' , response.status_code)\n",
    "print('elapsed time= ' , response.elapsed)\n",
    "print('output data= \\n' , response.json())\n"
   ]
  },
  {
   "cell_type": "markdown",
   "id": "e7ec363e",
   "metadata": {},
   "source": [
    "### Get Output.csv"
   ]
  },
  {
   "cell_type": "code",
   "execution_count": null,
   "id": "31f13472",
   "metadata": {},
   "outputs": [],
   "source": [
    "endpoint = f\"http://localhost:8080/query/{response.json()['id']}\"\n",
    "response = requests.get(endpoint)\n",
    "\n",
    "print('endpoint= ', endpoint)\n",
    "print('http status code= ' , response.status_code)\n",
    "print('elapsed time= ' , response.elapsed)"
   ]
  },
  {
   "cell_type": "code",
   "execution_count": null,
   "id": "ac153487",
   "metadata": {},
   "outputs": [],
   "source": [
    "from io import StringIO\n",
    "\n",
    "TESTDATA = StringIO(response.text)\n",
    "pd.read_csv(TESTDATA)"
   ]
  }
 ],
 "metadata": {
  "kernelspec": {
   "display_name": "Python 3 (ipykernel)",
   "language": "python",
   "name": "python3"
  },
  "language_info": {
   "codemirror_mode": {
    "name": "ipython",
    "version": 3
   },
   "file_extension": ".py",
   "mimetype": "text/x-python",
   "name": "python",
   "nbconvert_exporter": "python",
   "pygments_lexer": "ipython3",
   "version": "3.8.12"
  }
 },
 "nbformat": 4,
 "nbformat_minor": 5
}
